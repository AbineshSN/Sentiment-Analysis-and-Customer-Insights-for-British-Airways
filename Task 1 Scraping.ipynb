{
 "cells": [
  {
   "cell_type": "markdown",
   "id": "543dfc65-63b3-4002-a7e9-392c09ce0abb",
   "metadata": {},
   "source": [
    "# Task 1\n",
    "\n",
    "---\n",
    "\n",
    "## Web scraping and analysis\n",
    "\n",
    "I use a package called `BeautifulSoup` to collect the data from the web and saved it into a local `BA_reviews.csv` file \n",
    "\n",
    "### Scraping data from Skytrax"
   ]
  },
  {
   "cell_type": "code",
   "execution_count": null,
   "id": "134984d4-5040-42d1-bb2b-7977d7fb289e",
   "metadata": {},
   "outputs": [],
   "source": [
    "import time\n",
    "import requests\n",
    "from bs4 import BeautifulSoup\n",
    "\n",
    "base_url = \"https://www.airlinequality.com/airline-reviews/british-airways\"\n",
    "pages = 10\n",
    "page_size = 100\n",
    "\n",
    "reviews = []\n",
    "session = requests.Session()\n",
    "\n",
    "for i in range(1, pages + 1):\n",
    "    print(f\"Scraping page {i}\")\n",
    "\n",
    "    # Create URL to collect links from paginated data\n",
    "    url = f\"{base_url}/page/{i}/?sortby=post_date%3ADesc&pagesize={page_size}\"\n",
    "\n",
    "    try:\n",
    "        # Collect HTML data from this page\n",
    "        response = session.get(url, headers={\"User-Agent\": \"Mozilla/5.0\"})\n",
    "        response.raise_for_status()\n",
    "\n",
    "        # Parse content\n",
    "        content = response.content\n",
    "        parsed_content = BeautifulSoup(content, 'html.parser')\n",
    "        for para in parsed_content.find_all(\"div\", {\"class\": \"text_content\"}):\n",
    "            reviews.append(para.get_text())\n",
    "\n",
    "        print(f\"   ---> {len(reviews)} total reviews\")\n",
    "        \n",
    "        # Add a delay between requests to avoid overloading the server\n",
    "        time.sleep(2)\n",
    "        \n",
    "    except requests.exceptions.RequestException as e:\n",
    "        print(f\"Error scraping page {i}: {e}\")\n",
    "\n",
    "print(f\"Finished scraping. Total reviews collected: {len(reviews)}\")\n"
   ]
  },
  {
   "cell_type": "code",
   "execution_count": 6,
   "id": "d0cc2406-d352-46d1-bd95-a416368ddbc1",
   "metadata": {},
   "outputs": [
    {
     "name": "stdout",
     "output_type": "stream",
     "text": [
      "Reviews saved to data/BA_reviews.csv\n"
     ]
    }
   ],
   "source": [
    "import os\n",
    "import pandas as pd\n",
    "\n",
    "output_dir = \"data\"\n",
    "if not os.path.exists(output_dir):\n",
    "    os.makedirs(output_dir)\n",
    "\n",
    "df = pd.DataFrame()\n",
    "df[\"reviews\"] = reviews\n",
    "\n",
    "output_path = os.path.join(output_dir, \"BA_reviews.csv\")\n",
    "df.to_csv(output_path, index=False)\n",
    "\n",
    "print(f\"Reviews saved to {output_path}\")"
   ]
  },
  {
   "cell_type": "code",
   "execution_count": null,
   "id": "8d3d58fc-77af-4707-9005-c5b138483511",
   "metadata": {},
   "outputs": [],
   "source": []
  }
 ],
 "metadata": {
  "kernelspec": {
   "display_name": "Python 3 (ipykernel)",
   "language": "python",
   "name": "python3"
  },
  "language_info": {
   "codemirror_mode": {
    "name": "ipython",
    "version": 3
   },
   "file_extension": ".py",
   "mimetype": "text/x-python",
   "name": "python",
   "nbconvert_exporter": "python",
   "pygments_lexer": "ipython3",
   "version": "3.11.7"
  },
  "widgets": {
   "application/vnd.jupyter.widget-state+json": {
    "state": {},
    "version_major": 2,
    "version_minor": 0
   }
  }
 },
 "nbformat": 4,
 "nbformat_minor": 5
}
