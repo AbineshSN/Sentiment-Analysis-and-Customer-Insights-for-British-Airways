{
 "cells": [
  {
   "cell_type": "code",
   "execution_count": 20,
   "id": "726a1ef4-5084-4536-a4f8-c6ed0cd286bc",
   "metadata": {},
   "outputs": [
    {
     "data": {
      "text/html": [
       "<div>\n",
       "<style scoped>\n",
       "    .dataframe tbody tr th:only-of-type {\n",
       "        vertical-align: middle;\n",
       "    }\n",
       "\n",
       "    .dataframe tbody tr th {\n",
       "        vertical-align: top;\n",
       "    }\n",
       "\n",
       "    .dataframe thead th {\n",
       "        text-align: right;\n",
       "    }\n",
       "</style>\n",
       "<table border=\"1\" class=\"dataframe\">\n",
       "  <thead>\n",
       "    <tr style=\"text-align: right;\">\n",
       "      <th></th>\n",
       "      <th>header</th>\n",
       "      <th>author</th>\n",
       "      <th>date</th>\n",
       "      <th>place</th>\n",
       "      <th>content</th>\n",
       "      <th>aircraft</th>\n",
       "      <th>traveller_type</th>\n",
       "      <th>seat_type</th>\n",
       "      <th>route</th>\n",
       "      <th>date_flown</th>\n",
       "      <th>recommended</th>\n",
       "      <th>trip_verified</th>\n",
       "      <th>rating</th>\n",
       "      <th>seat_comfort</th>\n",
       "      <th>cabin_staff_service</th>\n",
       "      <th>food_beverages</th>\n",
       "      <th>ground_service</th>\n",
       "      <th>value_for_money</th>\n",
       "      <th>entertainment</th>\n",
       "    </tr>\n",
       "  </thead>\n",
       "  <tbody>\n",
       "    <tr>\n",
       "      <th>0</th>\n",
       "      <td>service was mediocre at best</td>\n",
       "      <td>Gary Storer</td>\n",
       "      <td>03-10-2023</td>\n",
       "      <td>United Kingdom</td>\n",
       "      <td>Just returned from Chicago, flew out 10 days ...</td>\n",
       "      <td>A380</td>\n",
       "      <td>Couple Leisure</td>\n",
       "      <td>Economy Class</td>\n",
       "      <td>Chicago to Manchester via Heathrow</td>\n",
       "      <td>01-10-2023</td>\n",
       "      <td>no</td>\n",
       "      <td>Not Verified</td>\n",
       "      <td>2</td>\n",
       "      <td>2</td>\n",
       "      <td>3</td>\n",
       "      <td>1</td>\n",
       "      <td>2</td>\n",
       "      <td>2</td>\n",
       "      <td>-1</td>\n",
       "    </tr>\n",
       "    <tr>\n",
       "      <th>1</th>\n",
       "      <td>BA standards continue to decline</td>\n",
       "      <td>A Jensen</td>\n",
       "      <td>02-10-2023</td>\n",
       "      <td>United Kingdom</td>\n",
       "      <td>BA standards continue to decline every time ...</td>\n",
       "      <td>A320</td>\n",
       "      <td>Business</td>\n",
       "      <td>Business Class</td>\n",
       "      <td>London Heathrow to Munich</td>\n",
       "      <td>01-09-2023</td>\n",
       "      <td>no</td>\n",
       "      <td>Verified</td>\n",
       "      <td>2</td>\n",
       "      <td>2</td>\n",
       "      <td>1</td>\n",
       "      <td>2</td>\n",
       "      <td>1</td>\n",
       "      <td>1</td>\n",
       "      <td>-1</td>\n",
       "    </tr>\n",
       "    <tr>\n",
       "      <th>2</th>\n",
       "      <td>won the race to the bottom\"</td>\n",
       "      <td>John Rockett</td>\n",
       "      <td>02-10-2023</td>\n",
       "      <td>United Kingdom</td>\n",
       "      <td>Awful. Business class check in queue just as...</td>\n",
       "      <td>A320</td>\n",
       "      <td>Couple Leisure</td>\n",
       "      <td>Business Class</td>\n",
       "      <td>Heathrow to Istanbul</td>\n",
       "      <td>01-09-2023</td>\n",
       "      <td>no</td>\n",
       "      <td>Not Verified</td>\n",
       "      <td>2</td>\n",
       "      <td>2</td>\n",
       "      <td>3</td>\n",
       "      <td>2</td>\n",
       "      <td>1</td>\n",
       "      <td>1</td>\n",
       "      <td>-1</td>\n",
       "    </tr>\n",
       "    <tr>\n",
       "      <th>3</th>\n",
       "      <td>Not a reliable airline</td>\n",
       "      <td>Tatiana Bobrovskaya</td>\n",
       "      <td>02-10-2023</td>\n",
       "      <td>United Kingdom</td>\n",
       "      <td>Not a reliable airline. You cannot trust the...</td>\n",
       "      <td>A320</td>\n",
       "      <td>Business</td>\n",
       "      <td>Economy Class</td>\n",
       "      <td>London to Geneva</td>\n",
       "      <td>01-10-2023</td>\n",
       "      <td>no</td>\n",
       "      <td>Verified</td>\n",
       "      <td>3</td>\n",
       "      <td>4</td>\n",
       "      <td>4</td>\n",
       "      <td>2</td>\n",
       "      <td>1</td>\n",
       "      <td>1</td>\n",
       "      <td>-1</td>\n",
       "    </tr>\n",
       "    <tr>\n",
       "      <th>4</th>\n",
       "      <td>Very disappointed</td>\n",
       "      <td>Tom Slowbe</td>\n",
       "      <td>28-09-2023</td>\n",
       "      <td>United States</td>\n",
       "      <td>The airplanes and the lounges are worn out, o...</td>\n",
       "      <td>777-300 and A320</td>\n",
       "      <td>Couple Leisure</td>\n",
       "      <td>First Class</td>\n",
       "      <td>Dallas to Dubrovnik via Heathrow</td>\n",
       "      <td>01-09-2023</td>\n",
       "      <td>no</td>\n",
       "      <td>Verified</td>\n",
       "      <td>1</td>\n",
       "      <td>1</td>\n",
       "      <td>4</td>\n",
       "      <td>4</td>\n",
       "      <td>3</td>\n",
       "      <td>2</td>\n",
       "      <td>3</td>\n",
       "    </tr>\n",
       "  </tbody>\n",
       "</table>\n",
       "</div>"
      ],
      "text/plain": [
       "                             header               author        date  \\\n",
       "0      service was mediocre at best          Gary Storer  03-10-2023   \n",
       "1  BA standards continue to decline             A Jensen  02-10-2023   \n",
       "2      won the race to the bottom\"          John Rockett  02-10-2023   \n",
       "3            Not a reliable airline  Tatiana Bobrovskaya  02-10-2023   \n",
       "4                 Very disappointed           Tom Slowbe  28-09-2023   \n",
       "\n",
       "            place                                            content  \\\n",
       "0  United Kingdom   Just returned from Chicago, flew out 10 days ...   \n",
       "1  United Kingdom    BA standards continue to decline every time ...   \n",
       "2  United Kingdom    Awful. Business class check in queue just as...   \n",
       "3  United Kingdom    Not a reliable airline. You cannot trust the...   \n",
       "4   United States   The airplanes and the lounges are worn out, o...   \n",
       "\n",
       "           aircraft  traveller_type       seat_type  \\\n",
       "0              A380  Couple Leisure   Economy Class   \n",
       "1              A320        Business  Business Class   \n",
       "2              A320  Couple Leisure  Business Class   \n",
       "3              A320        Business   Economy Class   \n",
       "4  777-300 and A320  Couple Leisure     First Class   \n",
       "\n",
       "                                route  date_flown recommended trip_verified  \\\n",
       "0  Chicago to Manchester via Heathrow  01-10-2023          no  Not Verified   \n",
       "1           London Heathrow to Munich  01-09-2023          no      Verified   \n",
       "2                Heathrow to Istanbul  01-09-2023          no  Not Verified   \n",
       "3                    London to Geneva  01-10-2023          no      Verified   \n",
       "4    Dallas to Dubrovnik via Heathrow  01-09-2023          no      Verified   \n",
       "\n",
       "   rating  seat_comfort  cabin_staff_service  food_beverages  ground_service  \\\n",
       "0       2             2                    3               1               2   \n",
       "1       2             2                    1               2               1   \n",
       "2       2             2                    3               2               1   \n",
       "3       3             4                    4               2               1   \n",
       "4       1             1                    4               4               3   \n",
       "\n",
       "   value_for_money  entertainment  \n",
       "0                2             -1  \n",
       "1                1             -1  \n",
       "2                1             -1  \n",
       "3                1             -1  \n",
       "4                2              3  "
      ]
     },
     "execution_count": 20,
     "metadata": {},
     "output_type": "execute_result"
    }
   ],
   "source": [
    "import pandas as pd\n",
    "\n",
    "data = pd.read_csv('British_Airways_dataset Skytrax.csv')\n",
    "data.head()"
   ]
  },
  {
   "cell_type": "markdown",
   "id": "016d7608-ab39-4e22-8b41-71a040ec9d5f",
   "metadata": {},
   "source": [
    "# Data manipulation tasks"
   ]
  },
  {
   "cell_type": "code",
   "execution_count": 21,
   "id": "e6477b68-576c-48f7-9765-cca7d9c2c975",
   "metadata": {},
   "outputs": [
    {
     "name": "stdout",
     "output_type": "stream",
     "text": [
      "Original Dataset : \n",
      "                              header               author        date  \\\n",
      "0      service was mediocre at best          Gary Storer  03-10-2023   \n",
      "1  BA standards continue to decline             A Jensen  02-10-2023   \n",
      "2      won the race to the bottom\"          John Rockett  02-10-2023   \n",
      "3            Not a reliable airline  Tatiana Bobrovskaya  02-10-2023   \n",
      "4                 Very disappointed           Tom Slowbe  28-09-2023   \n",
      "\n",
      "            place                                            content  \\\n",
      "0  United Kingdom   Just returned from Chicago, flew out 10 days ...   \n",
      "1  United Kingdom    BA standards continue to decline every time ...   \n",
      "2  United Kingdom    Awful. Business class check in queue just as...   \n",
      "3  United Kingdom    Not a reliable airline. You cannot trust the...   \n",
      "4   United States   The airplanes and the lounges are worn out, o...   \n",
      "\n",
      "           aircraft  traveller_type       seat_type  \\\n",
      "0              A380  Couple Leisure   Economy Class   \n",
      "1              A320        Business  Business Class   \n",
      "2              A320  Couple Leisure  Business Class   \n",
      "3              A320        Business   Economy Class   \n",
      "4  777-300 and A320  Couple Leisure     First Class   \n",
      "\n",
      "                                route  date_flown recommended trip_verified  \\\n",
      "0  Chicago to Manchester via Heathrow  01-10-2023          no  Not Verified   \n",
      "1           London Heathrow to Munich  01-09-2023          no      Verified   \n",
      "2                Heathrow to Istanbul  01-09-2023          no  Not Verified   \n",
      "3                    London to Geneva  01-10-2023          no      Verified   \n",
      "4    Dallas to Dubrovnik via Heathrow  01-09-2023          no      Verified   \n",
      "\n",
      "   rating  seat_comfort  cabin_staff_service  food_beverages  ground_service  \\\n",
      "0       2             2                    3               1               2   \n",
      "1       2             2                    1               2               1   \n",
      "2       2             2                    3               2               1   \n",
      "3       3             4                    4               2               1   \n",
      "4       1             1                    4               4               3   \n",
      "\n",
      "   value_for_money  entertainment  \n",
      "0                2             -1  \n",
      "1                1             -1  \n",
      "2                1             -1  \n",
      "3                1             -1  \n",
      "4                2              3  \n"
     ]
    }
   ],
   "source": [
    "import pandas as pd\n",
    "data = pd.read_csv('British_Airways_dataset Skytrax.csv')\n",
    "\n",
    "# Display the first few rows of the dataset\n",
    "print(\"Original Dataset : \\n\",data.head())"
   ]
  },
  {
   "cell_type": "markdown",
   "id": "bab3ba82-7557-4b07-a704-10c70d2835f2",
   "metadata": {},
   "source": [
    "## 1. Filtering rows based on conditions"
   ]
  },
  {
   "cell_type": "code",
   "execution_count": 22,
   "id": "c1f1640e-3896-4770-b0a0-99975b61e606",
   "metadata": {},
   "outputs": [
    {
     "name": "stdout",
     "output_type": "stream",
     "text": [
      "Filtered Dataset : \n",
      "                                         header         author        date  \\\n",
      "6   not a single feedback from British Airways  Selcuk Benter  20-09-2023   \n",
      "15                they are the worst in Europe   Rich Glasier  30-08-2023   \n",
      "19                 ravioli pasta had dried out      1 reviews  24-08-2023   \n",
      "24                    leaving two hours late\"       2 reviews  05-08-2023   \n",
      "25                  Couldn't recommend BA more    Andrew Ling  01-08-2023   \n",
      "\n",
      "             place                                            content  \\\n",
      "6          Germany    My initial flight was cancelled 8 hours prio...   \n",
      "15  United Kingdom    I flew London to Malaga on 27 August in Club...   \n",
      "19  United Kingdom    Ground and cabin crew always provide good cu...   \n",
      "24  United Kingdom    Late boarding led to a one hour flight leavi...   \n",
      "25       Hong Kong    I had the most fantastic BA Flight today. Th...   \n",
      "\n",
      "      aircraft traveller_type        seat_type  \\\n",
      "6         A350       Business  Premium Economy   \n",
      "15        A320   Solo Leisure   Business Class   \n",
      "19     A320neo   Solo Leisure   Business Class   \n",
      "24     Embraer       Business    Economy Class   \n",
      "25  Boeing 777   Solo Leisure   Business Class   \n",
      "\n",
      "                              route  date_flown recommended trip_verified  \\\n",
      "6   Hamburg to Las Vegas via London  01-08-2023          no  Not Verified   \n",
      "15                 London to Malaga  01-08-2023          no      Verified   \n",
      "19       Larnaca to London Heathrow  01-07-2023         yes      Verified   \n",
      "24         Frankfurt to London City  01-08-2023          no      Verified   \n",
      "25              London to Hong Kong  01-07-2023         yes      Verified   \n",
      "\n",
      "    rating  seat_comfort  cabin_staff_service  food_beverages  ground_service  \\\n",
      "6        4             2                    2               2               1   \n",
      "15       6             1                    1               1               1   \n",
      "19       8             3                    3               1               3   \n",
      "24       8             3                    3               1               1   \n",
      "25       8             5                    5               5               5   \n",
      "\n",
      "    value_for_money  entertainment  \n",
      "6                 1              3  \n",
      "15                1              1  \n",
      "19                1             -1  \n",
      "24                1             -1  \n",
      "25                5              5  \n"
     ]
    }
   ],
   "source": [
    "filtered_data = data[data['rating'] >= 4]  # Filter rows where rating is 4 or higher\n",
    "print(\"Filtered Dataset : \\n\",filtered_data.head())"
   ]
  },
  {
   "cell_type": "markdown",
   "id": "f6ef6f47-600e-4a99-9185-d230371a5dff",
   "metadata": {},
   "source": [
    "## 2. Selecting specific columns"
   ]
  },
  {
   "cell_type": "code",
   "execution_count": 23,
   "id": "4b66b2f5-4bb9-4435-a2b3-63e98807daa2",
   "metadata": {},
   "outputs": [
    {
     "name": "stdout",
     "output_type": "stream",
     "text": [
      "Selected Columns : \n",
      "                 author        date  \\\n",
      "0          Gary Storer  03-10-2023   \n",
      "1             A Jensen  02-10-2023   \n",
      "2         John Rockett  02-10-2023   \n",
      "3  Tatiana Bobrovskaya  02-10-2023   \n",
      "4           Tom Slowbe  28-09-2023   \n",
      "\n",
      "                                             content  rating  \n",
      "0   Just returned from Chicago, flew out 10 days ...       2  \n",
      "1    BA standards continue to decline every time ...       2  \n",
      "2    Awful. Business class check in queue just as...       2  \n",
      "3    Not a reliable airline. You cannot trust the...       3  \n",
      "4   The airplanes and the lounges are worn out, o...       1  \n"
     ]
    }
   ],
   "source": [
    "selected_columns = data[['author', 'date', 'content', 'rating']]\n",
    "print(\"Selected Columns : \\n\",selected_columns.head())"
   ]
  },
  {
   "cell_type": "markdown",
   "id": "fad59499-572d-4ac3-bc6d-702b362a55cb",
   "metadata": {},
   "source": [
    "## 3. Creating new columns"
   ]
  },
  {
   "cell_type": "code",
   "execution_count": 24,
   "id": "dec0868e-eba0-4253-80f0-d474daaddd30",
   "metadata": {},
   "outputs": [
    {
     "name": "stdout",
     "output_type": "stream",
     "text": [
      "Dataset with New Column (total_score) : \n",
      "                              header               author        date  \\\n",
      "0      service was mediocre at best          Gary Storer  03-10-2023   \n",
      "1  BA standards continue to decline             A Jensen  02-10-2023   \n",
      "2      won the race to the bottom\"          John Rockett  02-10-2023   \n",
      "3            Not a reliable airline  Tatiana Bobrovskaya  02-10-2023   \n",
      "4                 Very disappointed           Tom Slowbe  28-09-2023   \n",
      "\n",
      "            place                                            content  \\\n",
      "0  United Kingdom   Just returned from Chicago, flew out 10 days ...   \n",
      "1  United Kingdom    BA standards continue to decline every time ...   \n",
      "2  United Kingdom    Awful. Business class check in queue just as...   \n",
      "3  United Kingdom    Not a reliable airline. You cannot trust the...   \n",
      "4   United States   The airplanes and the lounges are worn out, o...   \n",
      "\n",
      "           aircraft  traveller_type       seat_type  \\\n",
      "0              A380  Couple Leisure   Economy Class   \n",
      "1              A320        Business  Business Class   \n",
      "2              A320  Couple Leisure  Business Class   \n",
      "3              A320        Business   Economy Class   \n",
      "4  777-300 and A320  Couple Leisure     First Class   \n",
      "\n",
      "                                route  date_flown recommended trip_verified  \\\n",
      "0  Chicago to Manchester via Heathrow  01-10-2023          no  Not Verified   \n",
      "1           London Heathrow to Munich  01-09-2023          no      Verified   \n",
      "2                Heathrow to Istanbul  01-09-2023          no  Not Verified   \n",
      "3                    London to Geneva  01-10-2023          no      Verified   \n",
      "4    Dallas to Dubrovnik via Heathrow  01-09-2023          no      Verified   \n",
      "\n",
      "   rating  seat_comfort  cabin_staff_service  food_beverages  ground_service  \\\n",
      "0       2             2                    3               1               2   \n",
      "1       2             2                    1               2               1   \n",
      "2       2             2                    3               2               1   \n",
      "3       3             4                    4               2               1   \n",
      "4       1             1                    4               4               3   \n",
      "\n",
      "   value_for_money  entertainment  total_score  \n",
      "0                2             -1            6  \n",
      "1                1             -1            5  \n",
      "2                1             -1            7  \n",
      "3                1             -1           10  \n",
      "4                2              3            9  \n"
     ]
    }
   ],
   "source": [
    "data['total_score'] = data['seat_comfort'] + data['cabin_staff_service'] + data['food_beverages']\n",
    "print(\"Dataset with New Column (total_score) : \\n\",data.head())"
   ]
  },
  {
   "cell_type": "markdown",
   "id": "6ec89432-9c5d-4e32-8cc3-6d976b05088f",
   "metadata": {},
   "source": [
    "## 4. Handling missing values"
   ]
  },
  {
   "cell_type": "code",
   "execution_count": 25,
   "id": "30c48045-b911-4f26-a43d-b68b5e40ba8c",
   "metadata": {},
   "outputs": [
    {
     "name": "stdout",
     "output_type": "stream",
     "text": [
      "Dataset after Handling Missing Values in 'entertainment' column : \n",
      "                              header               author        date  \\\n",
      "0      service was mediocre at best          Gary Storer  03-10-2023   \n",
      "1  BA standards continue to decline             A Jensen  02-10-2023   \n",
      "2      won the race to the bottom\"          John Rockett  02-10-2023   \n",
      "3            Not a reliable airline  Tatiana Bobrovskaya  02-10-2023   \n",
      "4                 Very disappointed           Tom Slowbe  28-09-2023   \n",
      "\n",
      "            place                                            content  \\\n",
      "0  United Kingdom   Just returned from Chicago, flew out 10 days ...   \n",
      "1  United Kingdom    BA standards continue to decline every time ...   \n",
      "2  United Kingdom    Awful. Business class check in queue just as...   \n",
      "3  United Kingdom    Not a reliable airline. You cannot trust the...   \n",
      "4   United States   The airplanes and the lounges are worn out, o...   \n",
      "\n",
      "           aircraft  traveller_type       seat_type  \\\n",
      "0              A380  Couple Leisure   Economy Class   \n",
      "1              A320        Business  Business Class   \n",
      "2              A320  Couple Leisure  Business Class   \n",
      "3              A320        Business   Economy Class   \n",
      "4  777-300 and A320  Couple Leisure     First Class   \n",
      "\n",
      "                                route  date_flown recommended trip_verified  \\\n",
      "0  Chicago to Manchester via Heathrow  01-10-2023          no  Not Verified   \n",
      "1           London Heathrow to Munich  01-09-2023          no      Verified   \n",
      "2                Heathrow to Istanbul  01-09-2023          no  Not Verified   \n",
      "3                    London to Geneva  01-10-2023          no      Verified   \n",
      "4    Dallas to Dubrovnik via Heathrow  01-09-2023          no      Verified   \n",
      "\n",
      "   rating  seat_comfort  cabin_staff_service  food_beverages  ground_service  \\\n",
      "0       2             2                    3               1               2   \n",
      "1       2             2                    1               2               1   \n",
      "2       2             2                    3               2               1   \n",
      "3       3             4                    4               2               1   \n",
      "4       1             1                    4               4               3   \n",
      "\n",
      "   value_for_money  entertainment  total_score  \n",
      "0                2             -1            6  \n",
      "1                1             -1            5  \n",
      "2                1             -1            7  \n",
      "3                1             -1           10  \n",
      "4                2              3            9  \n"
     ]
    }
   ],
   "source": [
    "# let's fill missing values in the 'entertainment' column with the mean value\n",
    "\n",
    "mean_entertainment = data['entertainment'].mean()\n",
    "data['entertainment'].fillna(mean_entertainment, inplace=True)\n",
    "\n",
    "print(\"Dataset after Handling Missing Values in 'entertainment' column : \\n\",data.head())"
   ]
  },
  {
   "cell_type": "markdown",
   "id": "eb0c3faf-11e8-45fa-9439-f30652549631",
   "metadata": {},
   "source": [
    "# Data Visualization with WordCloud and Matplotlib"
   ]
  },
  {
   "cell_type": "markdown",
   "id": "fad799e9-a718-4349-879a-d2d60f126277",
   "metadata": {},
   "source": [
    "## 1. WordCloud"
   ]
  },
  {
   "cell_type": "code",
   "execution_count": 26,
   "id": "3cb456d1-154b-4950-914b-4be3058f0b67",
   "metadata": {},
   "outputs": [
    {
     "name": "stderr",
     "output_type": "stream",
     "text": [
      "[nltk_data] Error loading stopwords: <urlopen error [Errno 8] nodename\n",
      "[nltk_data]     nor servname provided, or not known>\n",
      "[nltk_data] Error loading punkt: <urlopen error [Errno 8] nodename nor\n",
      "[nltk_data]     servname provided, or not known>\n",
      "[nltk_data] Error loading wordnet: <urlopen error [Errno 8] nodename\n",
      "[nltk_data]     nor servname provided, or not known>\n"
     ]
    },
    {
     "data": {
      "image/png": "[encoded data removed]",
      "text/plain": [
       "<Figure size 1000x500 with 1 Axes>"
      ]
     },
     "metadata": {},
     "output_type": "display_data"
    },
    {
     "name": "stdout",
     "output_type": "stream",
     "text": [
      "Topic 1:\n",
      "['drink', 'fast', 'check', 'gate', 'crew', 'time', 'boarding', 'ba', 'flight', 'service']\n",
      "Topic 2:\n",
      "['seat', 'club', 'business', 'food', 'service', 'lounge', 'class', 'airline', 'flight', 'ba']\n",
      "Topic 3:\n",
      "['seat', 'british', 'bag', 'time', 'service', 'staff', 'london', 'hour', 'ba', 'flight']\n",
      "Topic 4:\n",
      "['ba', 'service', 'london', 'seat', 'time', 'cabin', 'food', 'crew', 'good', 'flight']\n",
      "Topic 5:\n",
      "['british', 'food', 'london', 'service', 'economy', 'ba', 'business', 'class', 'flight', 'seat']\n"
     ]
    }
   ],
   "source": [
    "import pandas as pd\n",
    "import re\n",
    "from wordcloud import WordCloud\n",
    "import matplotlib.pyplot as plt\n",
    "from nltk.corpus import stopwords\n",
    "from nltk.tokenize import word_tokenize\n",
    "from nltk.stem import WordNetLemmatizer\n",
    "from textblob import TextBlob\n",
    "from sklearn.feature_extraction.text import CountVectorizer\n",
    "from sklearn.decomposition import LatentDirichletAllocation\n",
    "import nltk\n",
    "\n",
    "nltk.download('stopwords')\n",
    "nltk.download('punkt')\n",
    "nltk.download('wordnet')\n",
    "\n",
    "\n",
    "data = pd.read_csv('British_Airways_dataset Skytrax.csv')\n",
    "\n",
    "# Data cleaning\n",
    "def clean_text(text):\n",
    "    text = re.sub(r'[^A-Za-z\\s]', '', text)\n",
    "    text = text.lower()\n",
    "    text = word_tokenize(text)  # Tokenize\n",
    "    text = [word for word in text if word not in stopwords.words('english')]\n",
    "    lemmatizer = WordNetLemmatizer()\n",
    "    text = [lemmatizer.lemmatize(word) for word in text]\n",
    "    return ' '.join(text)\n",
    "\n",
    "data['cleaned_content'] = data['content'].apply(clean_text)\n",
    "\n",
    "# Wordcloud\n",
    "wordcloud = WordCloud(width=800, height=400, background_color='white').generate(' '.join(data['cleaned_content']))\n",
    "plt.figure(figsize=(10, 5))\n",
    "plt.imshow(wordcloud, interpolation='bilinear')\n",
    "plt.axis('off')\n",
    "plt.show()\n",
    "\n",
    "data['sentiment'] = data['cleaned_content'].apply(lambda x: TextBlob(x).sentiment.polarity)\n",
    "\n",
    "vectorizer = CountVectorizer(max_df=0.95, min_df=2, stop_words='english')\n",
    "dtm = vectorizer.fit_transform(data['cleaned_content'])\n",
    "lda = LatentDirichletAllocation(n_components=5, random_state=0)\n",
    "lda.fit(dtm)\n",
    "\n",
    "# Display topic\n",
    "for index, topic in enumerate(lda.components_):\n",
    "    print(f\"Topic {index + 1}:\")\n",
    "    print([vectorizer.get_feature_names_out()[i] for i in topic.argsort()[-10:]])"
   ]
  },
  {
   "cell_type": "markdown",
   "id": "9547daaa-e199-416d-a93c-7b91a229158b",
   "metadata": {},
   "source": [
    "## 2. Matplotlib"
   ]
  },
  {
   "cell_type": "code",
   "execution_count": 27,
   "id": "71c1e07a-df50-412c-9d2d-9e001384a0a1",
   "metadata": {},
   "outputs": [
    {
     "data": {
      "image/png": "[encoded data removed]",
      "text/plain": [
       "<Figure size 800x600 with 1 Axes>"
      ]
     },
     "metadata": {},
     "output_type": "display_data"
    }
   ],
   "source": [
    "import pandas as pd\n",
    "import matplotlib.pyplot as plt\n",
    "\n",
    "data = pd.read_csv('British_Airways_dataset Skytrax.csv')\n",
    "\n",
    "# 1. Scatter plot of cabin staff service vs. food beverages ratings\n",
    "plt.figure(figsize=(8, 6))\n",
    "plt.scatter(data['cabin_staff_service'], data['food_beverages'], color='orange', alpha=0.6)\n",
    "plt.title('Cabin Staff Service vs. Food Beverages Ratings')\n",
    "plt.xlabel('Cabin Staff Service')\n",
    "plt.ylabel('Food Beverages')\n",
    "plt.grid(True)\n",
    "plt.show()\n"
   ]
  },
  {
   "cell_type": "code",
   "execution_count": 29,
   "id": "e18ee918-d48f-45ad-a0a6-f4e35e89a4ed",
   "metadata": {},
   "outputs": [
    {
     "data": {
      "application/vnd.plotly.v1+json": {
       "config": {
        "plotlyServerURL": "https://plot.ly"
       },
       "data": [
        {
         "domain": {
          "x": [
           0,
           1
          ],
          "y": [
           0,
           1
          ]
         },
         "hole": 0.4,
         "hovertemplate": "Rating Category=%{label}<br>Count=%{value}<extra></extra>",
         "labels": [
          "Negative",
          "Positive",
          "Neutral"
         ],
         "legendgroup": "",
         "name": "",
         "showlegend": true,
         "textinfo": "percent+label",
         "textposition": "inside",
         "type": "pie",
         "values": [
          599,
          595,
          130
         ]
        }
       ],
       "layout": {
        "autosize": true,
        "legend": {
         "tracegroupgap": 0
        },
        "piecolorway": [
         "rgb(103,0,31)",
         "rgb(178,24,43)",
         "rgb(214,96,77)",
         "rgb(244,165,130)",
         "rgb(253,219,199)",
         "rgb(247,247,247)",
         "rgb(209,229,240)",
         "rgb(146,197,222)",
         "rgb(67,147,195)",
         "rgb(33,102,172)",
         "rgb(5,48,97)"
        ],
        "template": {
         "data": {
          "bar": [
           {
            "error_x": {
             "color": "#2a3f5f"
            },
            "error_y": {
             "color": "#2a3f5f"
            },
            "marker": {
             "line": {
              "color": "#E5ECF6",
              "width": 0.5
             },
             "pattern": {
              "fillmode": "overlay",
              "size": 10,
              "solidity": 0.2
             }
            },
            "type": "bar"
           }
          ],
          "barpolar": [
           {
            "marker": {
             "line": {
              "color": "#E5ECF6",
              "width": 0.5
             },
             "pattern": {
              "fillmode": "overlay",
              "size": 10,
              "solidity": 0.2
             }
            },
            "type": "barpolar"
           }
          ],
          "carpet": [
           {
            "aaxis": {
             "endlinecolor": "#2a3f5f",
             "gridcolor": "white",
             "linecolor": "white",
             "minorgridcolor": "white",
             "startlinecolor": "#2a3f5f"
            },
            "baxis": {
             "endlinecolor": "#2a3f5f",
             "gridcolor": "white",
             "linecolor": "white",
             "minorgridcolor": "white",
             "startlinecolor": "#2a3f5f"
            },
            "type": "carpet"
           }
          ],
          "choropleth": [
           {
            "colorbar": {
             "outlinewidth": 0,
             "ticks": ""
            },
            "type": "choropleth"
           }
          ],
          "contour": [
           {
            "colorbar": {
             "outlinewidth": 0,
             "ticks": ""
            },
            "colorscale": [
             [
              0,
              "#0d0887"
             ],
             [
              0.1111111111111111,
              "#46039f"
             ],
             [
              0.2222222222222222,
              "#7201a8"
             ],
             [
              0.3333333333333333,
              "#9c179e"
             ],
             [
              0.4444444444444444,
              "#bd3786"
             ],
             [
              0.5555555555555556,
              "#d8576b"
             ],
             [
              0.6666666666666666,
              "#ed7953"
             ],
             [
              0.7777777777777778,
              "#fb9f3a"
             ],
             [
              0.8888888888888888,
              "#fdca26"
             ],
             [
              1,
              "#f0f921"
             ]
            ],
            "type": "contour"
           }
          ],
          "contourcarpet": [
           {
            "colorbar": {
             "outlinewidth": 0,
             "ticks": ""
            },
            "type": "contourcarpet"
           }
          ],
          "heatmap": [
           {
            "colorbar": {
             "outlinewidth": 0,
             "ticks": ""
            },
            "colorscale": [
             [
              0,
              "#0d0887"
             ],
             [
              0.1111111111111111,
              "#46039f"
             ],
             [
              0.2222222222222222,
              "#7201a8"
             ],
             [
              0.3333333333333333,
              "#9c179e"
             ],
             [
              0.4444444444444444,
              "#bd3786"
             ],
             [
              0.5555555555555556,
              "#d8576b"
             ],
             [
              0.6666666666666666,
              "#ed7953"
             ],
             [
              0.7777777777777778,
              "#fb9f3a"
             ],
             [
              0.8888888888888888,
              "#fdca26"
             ],
             [
              1,
              "#f0f921"
             ]
            ],
            "type": "heatmap"
           }
          ],
          "heatmapgl": [
           {
            "colorbar": {
             "outlinewidth": 0,
             "ticks": ""
            },
            "colorscale": [
             [
              0,
              "#0d0887"
             ],
             [
              0.1111111111111111,
              "#46039f"
             ],
             [
              0.2222222222222222,
              "#7201a8"
             ],
             [
              0.3333333333333333,
              "#9c179e"
             ],
             [
              0.4444444444444444,
              "#bd3786"
             ],
             [
              0.5555555555555556,
              "#d8576b"
             ],
             [
              0.6666666666666666,
              "#ed7953"
             ],
             [
              0.7777777777777778,
              "#fb9f3a"
             ],
             [
              0.8888888888888888,
              "#fdca26"
             ],
             [
              1,
              "#f0f921"
             ]
            ],
            "type": "heatmapgl"
           }
          ],
          "histogram": [
           {
            "marker": {
             "pattern": {
              "fillmode": "overlay",
              "size": 10,
              "solidity": 0.2
             }
            },
            "type": "histogram"
           }
          ],
          "histogram2d": [
           {
            "colorbar": {
             "outlinewidth": 0,
             "ticks": ""
            },
            "colorscale": [
             [
              0,
              "#0d0887"
             ],
             [
              0.1111111111111111,
              "#46039f"
             ],
             [
              0.2222222222222222,
              "#7201a8"
             ],
             [
              0.3333333333333333,
              "#9c179e"
             ],
             [
              0.4444444444444444,
              "#bd3786"
             ],
             [
              0.5555555555555556,
              "#d8576b"
             ],
             [
              0.6666666666666666,
              "#ed7953"
             ],
             [
              0.7777777777777778,
              "#fb9f3a"
             ],
             [
              0.8888888888888888,
              "#fdca26"
             ],
             [
              1,
              "#f0f921"
             ]
            ],
            "type": "histogram2d"
           }
          ],
          "histogram2dcontour": [
           {
            "colorbar": {
             "outlinewidth": 0,
             "ticks": ""
            },
            "colorscale": [
             [
              0,
              "#0d0887"
             ],
             [
              0.1111111111111111,
              "#46039f"
             ],
             [
              0.2222222222222222,
              "#7201a8"
             ],
             [
              0.3333333333333333,
              "#9c179e"
             ],
             [
              0.4444444444444444,
              "#bd3786"
             ],
             [
              0.5555555555555556,
              "#d8576b"
             ],
             [
              0.6666666666666666,
              "#ed7953"
             ],
             [
              0.7777777777777778,
              "#fb9f3a"
             ],
             [
              0.8888888888888888,
              "#fdca26"
             ],
             [
              1,
              "#f0f921"
             ]
            ],
            "type": "histogram2dcontour"
           }
          ],
          "mesh3d": [
           {
            "colorbar": {
             "outlinewidth": 0,
             "ticks": ""
            },
            "type": "mesh3d"
           }
          ],
          "parcoords": [
           {
            "line": {
             "colorbar": {
              "outlinewidth": 0,
              "ticks": ""
             }
            },
            "type": "parcoords"
           }
          ],
          "pie": [
           {
            "automargin": true,
            "type": "pie"
           }
          ],
          "scatter": [
           {
            "fillpattern": {
             "fillmode": "overlay",
             "size": 10,
             "solidity": 0.2
            },
            "type": "scatter"
           }
          ],
          "scatter3d": [
           {
            "line": {
             "colorbar": {
              "outlinewidth": 0,
              "ticks": ""
             }
            },
            "marker": {
             "colorbar": {
              "outlinewidth": 0,
              "ticks": ""
             }
            },
            "type": "scatter3d"
           }
          ],
          "scattercarpet": [
           {
            "marker": {
             "colorbar": {
              "outlinewidth": 0,
              "ticks": ""
             }
            },
            "type": "scattercarpet"
           }
          ],
          "scattergeo": [
           {
            "marker": {
             "colorbar": {
              "outlinewidth": 0,
              "ticks": ""
             }
            },
            "type": "scattergeo"
           }
          ],
          "scattergl": [
           {
            "marker": {
             "colorbar": {
              "outlinewidth": 0,
              "ticks": ""
             }
            },
            "type": "scattergl"
           }
          ],
          "scattermapbox": [
           {
            "marker": {
             "colorbar": {
              "outlinewidth": 0,
              "ticks": ""
             }
            },
            "type": "scattermapbox"
           }
          ],
          "scatterpolar": [
           {
            "marker": {
             "colorbar": {
              "outlinewidth": 0,
              "ticks": ""
             }
            },
            "type": "scatterpolar"
           }
          ],
          "scatterpolargl": [
           {
            "marker": {
             "colorbar": {
              "outlinewidth": 0,
              "ticks": ""
             }
            },
            "type": "scatterpolargl"
           }
          ],
          "scatterternary": [
           {
            "marker": {
             "colorbar": {
              "outlinewidth": 0,
              "ticks": ""
             }
            },
            "type": "scatterternary"
           }
          ],
          "surface": [
           {
            "colorbar": {
             "outlinewidth": 0,
             "ticks": ""
            },
            "colorscale": [
             [
              0,
              "#0d0887"
             ],
             [
              0.1111111111111111,
              "#46039f"
             ],
             [
              0.2222222222222222,
              "#7201a8"
             ],
             [
              0.3333333333333333,
              "#9c179e"
             ],
             [
              0.4444444444444444,
              "#bd3786"
             ],
             [
              0.5555555555555556,
              "#d8576b"
             ],
             [
              0.6666666666666666,
              "#ed7953"
             ],
             [
              0.7777777777777778,
              "#fb9f3a"
             ],
             [
              0.8888888888888888,
              "#fdca26"
             ],
             [
              1,
              "#f0f921"
             ]
            ],
            "type": "surface"
           }
          ],
          "table": [
           {
            "cells": {
             "fill": {
              "color": "#EBF0F8"
             },
             "line": {
              "color": "white"
             }
            },
            "header": {
             "fill": {
              "color": "#C8D4E3"
             },
             "line": {
              "color": "white"
             }
            },
            "type": "table"
           }
          ]
         },
         "layout": {
          "annotationdefaults": {
           "arrowcolor": "#2a3f5f",
           "arrowhead": 0,
           "arrowwidth": 1
          },
          "autotypenumbers": "strict",
          "coloraxis": {
           "colorbar": {
            "outlinewidth": 0,
            "ticks": ""
           }
          },
          "colorscale": {
           "diverging": [
            [
             0,
             "#8e0152"
            ],
            [
             0.1,
             "#c51b7d"
            ],
            [
             0.2,
             "#de77ae"
            ],
            [
             0.3,
             "#f1b6da"
            ],
            [
             0.4,
             "#fde0ef"
            ],
            [
             0.5,
             "#f7f7f7"
            ],
            [
             0.6,
             "#e6f5d0"
            ],
            [
             0.7,
             "#b8e186"
            ],
            [
             0.8,
             "#7fbc41"
            ],
            [
             0.9,
             "#4d9221"
            ],
            [
             1,
             "#276419"
            ]
           ],
           "sequential": [
            [
             0,
             "#0d0887"
            ],
            [
             0.1111111111111111,
             "#46039f"
            ],
            [
             0.2222222222222222,
             "#7201a8"
            ],
            [
             0.3333333333333333,
             "#9c179e"
            ],
            [
             0.4444444444444444,
             "#bd3786"
            ],
            [
             0.5555555555555556,
             "#d8576b"
            ],
            [
             0.6666666666666666,
             "#ed7953"
            ],
            [
             0.7777777777777778,
             "#fb9f3a"
            ],
            [
             0.8888888888888888,
             "#fdca26"
            ],
            [
             1,
             "#f0f921"
            ]
           ],
           "sequentialminus": [
            [
             0,
             "#0d0887"
            ],
            [
             0.1111111111111111,
             "#46039f"
            ],
            [
             0.2222222222222222,
             "#7201a8"
            ],
            [
             0.3333333333333333,
             "#9c179e"
            ],
            [
             0.4444444444444444,
             "#bd3786"
            ],
            [
             0.5555555555555556,
             "#d8576b"
            ],
            [
             0.6666666666666666,
             "#ed7953"
            ],
            [
             0.7777777777777778,
             "#fb9f3a"
            ],
            [
             0.8888888888888888,
             "#fdca26"
            ],
            [
             1,
             "#f0f921"
            ]
           ]
          },
          "colorway": [
           "#636efa",
           "#EF553B",
           "#00cc96",
           "#ab63fa",
           "#FFA15A",
           "#19d3f3",
           "#FF6692",
           "#B6E880",
           "#FF97FF",
           "#FECB52"
          ],
          "font": {
           "color": "#2a3f5f"
          },
          "geo": {
           "bgcolor": "white",
           "lakecolor": "white",
           "landcolor": "#E5ECF6",
           "showlakes": true,
           "showland": true,
           "subunitcolor": "white"
          },
          "hoverlabel": {
           "align": "left"
          },
          "hovermode": "closest",
          "mapbox": {
           "style": "light"
          },
          "paper_bgcolor": "white",
          "plot_bgcolor": "#E5ECF6",
          "polar": {
           "angularaxis": {
            "gridcolor": "white",
            "linecolor": "white",
            "ticks": ""
           },
           "bgcolor": "#E5ECF6",
           "radialaxis": {
            "gridcolor": "white",
            "linecolor": "white",
            "ticks": ""
           }
          },
          "scene": {
           "xaxis": {
            "backgroundcolor": "#E5ECF6",
            "gridcolor": "white",
            "gridwidth": 2,
            "linecolor": "white",
            "showbackground": true,
            "ticks": "",
            "zerolinecolor": "white"
           },
           "yaxis": {
            "backgroundcolor": "#E5ECF6",
            "gridcolor": "white",
            "gridwidth": 2,
            "linecolor": "white",
            "showbackground": true,
            "ticks": "",
            "zerolinecolor": "white"
           },
           "zaxis": {
            "backgroundcolor": "#E5ECF6",
            "gridcolor": "white",
            "gridwidth": 2,
            "linecolor": "white",
            "showbackground": true,
            "ticks": "",
            "zerolinecolor": "white"
           }
          },
          "shapedefaults": {
           "line": {
            "color": "#2a3f5f"
           }
          },
          "ternary": {
           "aaxis": {
            "gridcolor": "white",
            "linecolor": "white",
            "ticks": ""
           },
           "baxis": {
            "gridcolor": "white",
            "linecolor": "white",
            "ticks": ""
           },
           "bgcolor": "#E5ECF6",
           "caxis": {
            "gridcolor": "white",
            "linecolor": "white",
            "ticks": ""
           }
          },
          "title": {
           "x": 0.05
          },
          "xaxis": {
           "automargin": true,
           "gridcolor": "white",
           "linecolor": "white",
           "ticks": "",
           "title": {
            "standoff": 15
           },
           "zerolinecolor": "white",
           "zerolinewidth": 2
          },
          "yaxis": {
           "automargin": true,
           "gridcolor": "white",
           "linecolor": "white",
           "ticks": "",
           "title": {
            "standoff": 15
           },
           "zerolinecolor": "white",
           "zerolinewidth": 2
          }
         }
        },
        "title": {
         "text": "Distribution of Ratings"
        }
       }
      },
      "image/png": "[encoded data removed]",
      "text/html": [
       "<div>                            <div id=\"d1ddb7a8-fccb-4097-99ff-3406ab632f7b\" class=\"plotly-graph-div\" style=\"height:525px; width:100%;\"></div>            <script type=\"text/javascript\">                require([\"plotly\"], function(Plotly) {                    window.PLOTLYENV=window.PLOTLYENV || {};                                    if (document.getElementById(\"d1ddb7a8-fccb-4097-99ff-3406ab632f7b\")) {                    Plotly.newPlot(                        \"d1ddb7a8-fccb-4097-99ff-3406ab632f7b\",                        [{\"domain\":{\"x\":[0.0,1.0],\"y\":[0.0,1.0]},\"hole\":0.4,\"hovertemplate\":\"Rating Category=%{label}<br>Count=%{value}<extra></extra>\",\"labels\":[\"Negative\",\"Positive\",\"Neutral\"],\"legendgroup\":\"\",\"name\":\"\",\"showlegend\":true,\"values\":[599,595,130],\"type\":\"pie\",\"textinfo\":\"percent+label\",\"textposition\":\"inside\"}],                        {\"template\":{\"data\":{\"histogram2dcontour\":[{\"type\":\"histogram2dcontour\",\"colorbar\":{\"outlinewidth\":0,\"ticks\":\"\"},\"colorscale\":[[0.0,\"#0d0887\"],[0.1111111111111111,\"#46039f\"],[0.2222222222222222,\"#7201a8\"],[0.3333333333333333,\"#9c179e\"],[0.4444444444444444,\"#bd3786\"],[0.5555555555555556,\"#d8576b\"],[0.6666666666666666,\"#ed7953\"],[0.7777777777777778,\"#fb9f3a\"],[0.8888888888888888,\"#fdca26\"],[1.0,\"#f0f921\"]]}],\"choropleth\":[{\"type\":\"choropleth\",\"colorbar\":{\"outlinewidth\":0,\"ticks\":\"\"}}],\"histogram2d\":[{\"type\":\"histogram2d\",\"colorbar\":{\"outlinewidth\":0,\"ticks\":\"\"},\"colorscale\":[[0.0,\"#0d0887\"],[0.1111111111111111,\"#46039f\"],[0.2222222222222222,\"#7201a8\"],[0.3333333333333333,\"#9c179e\"],[0.4444444444444444,\"#bd3786\"],[0.5555555555555556,\"#d8576b\"],[0.6666666666666666,\"#ed7953\"],[0.7777777777777778,\"#fb9f3a\"],[0.8888888888888888,\"#fdca26\"],[1.0,\"#f0f921\"]]}],\"heatmap\":[{\"type\":\"heatmap\",\"colorbar\":{\"outlinewidth\":0,\"ticks\":\"\"},\"colorscale\":[[0.0,\"#0d0887\"],[0.1111111111111111,\"#46039f\"],[0.2222222222222222,\"#7201a8\"],[0.3333333333333333,\"#9c179e\"],[0.4444444444444444,\"#bd3786\"],[0.5555555555555556,\"#d8576b\"],[0.6666666666666666,\"#ed7953\"],[0.7777777777777778,\"#fb9f3a\"],[0.8888888888888888,\"#fdca26\"],[1.0,\"#f0f921\"]]}],\"heatmapgl\":[{\"type\":\"heatmapgl\",\"colorbar\":{\"outlinewidth\":0,\"ticks\":\"\"},\"colorscale\":[[0.0,\"#0d0887\"],[0.1111111111111111,\"#46039f\"],[0.2222222222222222,\"#7201a8\"],[0.3333333333333333,\"#9c179e\"],[0.4444444444444444,\"#bd3786\"],[0.5555555555555556,\"#d8576b\"],[0.6666666666666666,\"#ed7953\"],[0.7777777777777778,\"#fb9f3a\"],[0.8888888888888888,\"#fdca26\"],[1.0,\"#f0f921\"]]}],\"contourcarpet\":[{\"type\":\"contourcarpet\",\"colorbar\":{\"outlinewidth\":0,\"ticks\":\"\"}}],\"contour\":[{\"type\":\"contour\",\"colorbar\":{\"outlinewidth\":0,\"ticks\":\"\"},\"colorscale\":[[0.0,\"#0d0887\"],[0.1111111111111111,\"#46039f\"],[0.2222222222222222,\"#7201a8\"],[0.3333333333333333,\"#9c179e\"],[0.4444444444444444,\"#bd3786\"],[0.5555555555555556,\"#d8576b\"],[0.6666666666666666,\"#ed7953\"],[0.7777777777777778,\"#fb9f3a\"],[0.8888888888888888,\"#fdca26\"],[1.0,\"#f0f921\"]]}],\"surface\":[{\"type\":\"surface\",\"colorbar\":{\"outlinewidth\":0,\"ticks\":\"\"},\"colorscale\":[[0.0,\"#0d0887\"],[0.1111111111111111,\"#46039f\"],[0.2222222222222222,\"#7201a8\"],[0.3333333333333333,\"#9c179e\"],[0.4444444444444444,\"#bd3786\"],[0.5555555555555556,\"#d8576b\"],[0.6666666666666666,\"#ed7953\"],[0.7777777777777778,\"#fb9f3a\"],[0.8888888888888888,\"#fdca26\"],[1.0,\"#f0f921\"]]}],\"mesh3d\":[{\"type\":\"mesh3d\",\"colorbar\":{\"outlinewidth\":0,\"ticks\":\"\"}}],\"scatter\":[{\"fillpattern\":{\"fillmode\":\"overlay\",\"size\":10,\"solidity\":0.2},\"type\":\"scatter\"}],\"parcoords\":[{\"type\":\"parcoords\",\"line\":{\"colorbar\":{\"outlinewidth\":0,\"ticks\":\"\"}}}],\"scatterpolargl\":[{\"type\":\"scatterpolargl\",\"marker\":{\"colorbar\":{\"outlinewidth\":0,\"ticks\":\"\"}}}],\"bar\":[{\"error_x\":{\"color\":\"#2a3f5f\"},\"error_y\":{\"color\":\"#2a3f5f\"},\"marker\":{\"line\":{\"color\":\"#E5ECF6\",\"width\":0.5},\"pattern\":{\"fillmode\":\"overlay\",\"size\":10,\"solidity\":0.2}},\"type\":\"bar\"}],\"scattergeo\":[{\"type\":\"scattergeo\",\"marker\":{\"colorbar\":{\"outlinewidth\":0,\"ticks\":\"\"}}}],\"scatterpolar\":[{\"type\":\"scatterpolar\",\"marker\":{\"colorbar\":{\"outlinewidth\":0,\"ticks\":\"\"}}}],\"histogram\":[{\"marker\":{\"pattern\":{\"fillmode\":\"overlay\",\"size\":10,\"solidity\":0.2}},\"type\":\"histogram\"}],\"scattergl\":[{\"type\":\"scattergl\",\"marker\":{\"colorbar\":{\"outlinewidth\":0,\"ticks\":\"\"}}}],\"scatter3d\":[{\"type\":\"scatter3d\",\"line\":{\"colorbar\":{\"outlinewidth\":0,\"ticks\":\"\"}},\"marker\":{\"colorbar\":{\"outlinewidth\":0,\"ticks\":\"\"}}}],\"scattermapbox\":[{\"type\":\"scattermapbox\",\"marker\":{\"colorbar\":{\"outlinewidth\":0,\"ticks\":\"\"}}}],\"scatterternary\":[{\"type\":\"scatterternary\",\"marker\":{\"colorbar\":{\"outlinewidth\":0,\"ticks\":\"\"}}}],\"scattercarpet\":[{\"type\":\"scattercarpet\",\"marker\":{\"colorbar\":{\"outlinewidth\":0,\"ticks\":\"\"}}}],\"carpet\":[{\"aaxis\":{\"endlinecolor\":\"#2a3f5f\",\"gridcolor\":\"white\",\"linecolor\":\"white\",\"minorgridcolor\":\"white\",\"startlinecolor\":\"#2a3f5f\"},\"baxis\":{\"endlinecolor\":\"#2a3f5f\",\"gridcolor\":\"white\",\"linecolor\":\"white\",\"minorgridcolor\":\"white\",\"startlinecolor\":\"#2a3f5f\"},\"type\":\"carpet\"}],\"table\":[{\"cells\":{\"fill\":{\"color\":\"#EBF0F8\"},\"line\":{\"color\":\"white\"}},\"header\":{\"fill\":{\"color\":\"#C8D4E3\"},\"line\":{\"color\":\"white\"}},\"type\":\"table\"}],\"barpolar\":[{\"marker\":{\"line\":{\"color\":\"#E5ECF6\",\"width\":0.5},\"pattern\":{\"fillmode\":\"overlay\",\"size\":10,\"solidity\":0.2}},\"type\":\"barpolar\"}],\"pie\":[{\"automargin\":true,\"type\":\"pie\"}]},\"layout\":{\"autotypenumbers\":\"strict\",\"colorway\":[\"#636efa\",\"#EF553B\",\"#00cc96\",\"#ab63fa\",\"#FFA15A\",\"#19d3f3\",\"#FF6692\",\"#B6E880\",\"#FF97FF\",\"#FECB52\"],\"font\":{\"color\":\"#2a3f5f\"},\"hovermode\":\"closest\",\"hoverlabel\":{\"align\":\"left\"},\"paper_bgcolor\":\"white\",\"plot_bgcolor\":\"#E5ECF6\",\"polar\":{\"bgcolor\":\"#E5ECF6\",\"angularaxis\":{\"gridcolor\":\"white\",\"linecolor\":\"white\",\"ticks\":\"\"},\"radialaxis\":{\"gridcolor\":\"white\",\"linecolor\":\"white\",\"ticks\":\"\"}},\"ternary\":{\"bgcolor\":\"#E5ECF6\",\"aaxis\":{\"gridcolor\":\"white\",\"linecolor\":\"white\",\"ticks\":\"\"},\"baxis\":{\"gridcolor\":\"white\",\"linecolor\":\"white\",\"ticks\":\"\"},\"caxis\":{\"gridcolor\":\"white\",\"linecolor\":\"white\",\"ticks\":\"\"}},\"coloraxis\":{\"colorbar\":{\"outlinewidth\":0,\"ticks\":\"\"}},\"colorscale\":{\"sequential\":[[0.0,\"#0d0887\"],[0.1111111111111111,\"#46039f\"],[0.2222222222222222,\"#7201a8\"],[0.3333333333333333,\"#9c179e\"],[0.4444444444444444,\"#bd3786\"],[0.5555555555555556,\"#d8576b\"],[0.6666666666666666,\"#ed7953\"],[0.7777777777777778,\"#fb9f3a\"],[0.8888888888888888,\"#fdca26\"],[1.0,\"#f0f921\"]],\"sequentialminus\":[[0.0,\"#0d0887\"],[0.1111111111111111,\"#46039f\"],[0.2222222222222222,\"#7201a8\"],[0.3333333333333333,\"#9c179e\"],[0.4444444444444444,\"#bd3786\"],[0.5555555555555556,\"#d8576b\"],[0.6666666666666666,\"#ed7953\"],[0.7777777777777778,\"#fb9f3a\"],[0.8888888888888888,\"#fdca26\"],[1.0,\"#f0f921\"]],\"diverging\":[[0,\"#8e0152\"],[0.1,\"#c51b7d\"],[0.2,\"#de77ae\"],[0.3,\"#f1b6da\"],[0.4,\"#fde0ef\"],[0.5,\"#f7f7f7\"],[0.6,\"#e6f5d0\"],[0.7,\"#b8e186\"],[0.8,\"#7fbc41\"],[0.9,\"#4d9221\"],[1,\"#276419\"]]},\"xaxis\":{\"gridcolor\":\"white\",\"linecolor\":\"white\",\"ticks\":\"\",\"title\":{\"standoff\":15},\"zerolinecolor\":\"white\",\"automargin\":true,\"zerolinewidth\":2},\"yaxis\":{\"gridcolor\":\"white\",\"linecolor\":\"white\",\"ticks\":\"\",\"title\":{\"standoff\":15},\"zerolinecolor\":\"white\",\"automargin\":true,\"zerolinewidth\":2},\"scene\":{\"xaxis\":{\"backgroundcolor\":\"#E5ECF6\",\"gridcolor\":\"white\",\"linecolor\":\"white\",\"showbackground\":true,\"ticks\":\"\",\"zerolinecolor\":\"white\",\"gridwidth\":2},\"yaxis\":{\"backgroundcolor\":\"#E5ECF6\",\"gridcolor\":\"white\",\"linecolor\":\"white\",\"showbackground\":true,\"ticks\":\"\",\"zerolinecolor\":\"white\",\"gridwidth\":2},\"zaxis\":{\"backgroundcolor\":\"#E5ECF6\",\"gridcolor\":\"white\",\"linecolor\":\"white\",\"showbackground\":true,\"ticks\":\"\",\"zerolinecolor\":\"white\",\"gridwidth\":2}},\"shapedefaults\":{\"line\":{\"color\":\"#2a3f5f\"}},\"annotationdefaults\":{\"arrowcolor\":\"#2a3f5f\",\"arrowhead\":0,\"arrowwidth\":1},\"geo\":{\"bgcolor\":\"white\",\"landcolor\":\"#E5ECF6\",\"subunitcolor\":\"white\",\"showland\":true,\"showlakes\":true,\"lakecolor\":\"white\"},\"title\":{\"x\":0.05},\"mapbox\":{\"style\":\"light\"}}},\"legend\":{\"tracegroupgap\":0},\"title\":{\"text\":\"Distribution of Ratings\"},\"piecolorway\":[\"rgb(103,0,31)\",\"rgb(178,24,43)\",\"rgb(214,96,77)\",\"rgb(244,165,130)\",\"rgb(253,219,199)\",\"rgb(247,247,247)\",\"rgb(209,229,240)\",\"rgb(146,197,222)\",\"rgb(67,147,195)\",\"rgb(33,102,172)\",\"rgb(5,48,97)\"]},                        {\"responsive\": true}                    ).then(function(){\n",
       "                            \n",
       "var gd = document.getElementById('d1ddb7a8-fccb-4097-99ff-3406ab632f7b');\n",
       "var x = new MutationObserver(function (mutations, observer) {{\n",
       "        var display = window.getComputedStyle(gd).display;\n",
       "        if (!display || display === 'none') {{\n",
       "            console.log([gd, 'removed!']);\n",
       "            Plotly.purge(gd);\n",
       "            observer.disconnect();\n",
       "        }}\n",
       "}});\n",
       "\n",
       "// Listen for the removal of the full notebook cells\n",
       "var notebookContainer = gd.closest('#notebook-container');\n",
       "if (notebookContainer) {{\n",
       "    x.observe(notebookContainer, {childList: true});\n",
       "}}\n",
       "\n",
       "// Listen for the clearing of the current output cell\n",
       "var outputEl = gd.closest('.output');\n",
       "if (outputEl) {{\n",
       "    x.observe(outputEl, {childList: true});\n",
       "}}\n",
       "\n",
       "                        })                };                });            </script>        </div>"
      ]
     },
     "metadata": {},
     "output_type": "display_data"
    }
   ],
   "source": [
    "import pandas as pd\n",
    "import plotly.express as px\n",
    "\n",
    "data = pd.read_csv('British_Airways_dataset Skytrax.csv')\n",
    "\n",
    "# Categorize the ratings\n",
    "def categorize_rating(rating):\n",
    "    if rating >= 4:\n",
    "        return 'Positive'\n",
    "    elif rating == 3:\n",
    "        return 'Neutral'\n",
    "    else:\n",
    "        return 'Negative'\n",
    "\n",
    "data['rating_category'] = data['rating'].apply(categorize_rating)\n",
    "\n",
    "rating_counts = data['rating_category'].value_counts().reset_index()\n",
    "rating_counts.columns = ['Rating Category', 'Count']\n",
    "\n",
    "fig = px.pie(rating_counts, names='Rating Category', values='Count', title='Distribution of Ratings',\n",
    "             hole=0.4, color_discrete_sequence=px.colors.sequential.RdBu)\n",
    "fig.update_traces(textposition='inside', textinfo='percent+label')\n",
    "\n",
    "fig.show()"
   ]
  },
  {
   "cell_type": "code",
   "execution_count": 28,
   "id": "6a993a20-1e0b-47bc-b7c0-bfa99cd64799",
   "metadata": {},
   "outputs": [
    {
     "data": {
      "application/vnd.plotly.v1+json": {
       "config": {
        "plotlyServerURL": "https://plot.ly"
       },
       "data": [
        {
         "alignmentgroup": "True",
         "bingroup": "x",
         "hovertemplate": "rating=%{x}<br>count=%{y}<extra></extra>",
         "legendgroup": "",
         "marker": {
          "color": "#636efa",
          "pattern": {
           "shape": ""
          }
         },
         "name": "",
         "offsetgroup": "",
         "orientation": "v",
         "showlegend": false,
         "type": "histogram",
         "x": [
          2,
          2,
          2,
          3,
          1,
          3,
          4,
          1,
          1,
          1,
          1,
          1,
          1,
          1,
          1,
          6,
          1,
          2,
          1,
          8,
          1,
          1,
          1,
          1,
          8,
          8,
          2,
          1,
          1,
          1,
          1,
          1,
          1,
          1,
          3,
          1,
          1,
          8,
          1,
          1,
          4,
          7,
          8,
          2,
          2,
          10,
          1,
          1,
          1,
          1,
          10,
          1,
          9,
          6,
          1,
          1,
          2,
          1,
          1,
          1,
          4,
          8,
          2,
          2,
          1,
          9,
          1,
          2,
          4,
          2,
          2,
          4,
          1,
          1,
          3,
          3,
          10,
          1,
          1,
          2,
          1,
          1,
          1,
          1,
          2,
          4,
          7,
          1,
          1,
          7,
          1,
          1,
          2,
          1,
          3,
          1,
          1,
          1,
          3,
          1,
          4,
          1,
          2,
          9,
          3,
          1,
          1,
          2,
          10,
          1,
          1,
          9,
          2,
          1,
          10,
          10,
          2,
          4,
          2,
          1,
          1,
          1,
          3,
          3,
          1,
          1,
          1,
          1,
          2,
          5,
          1,
          2,
          1,
          1,
          10,
          2,
          5,
          1,
          3,
          4,
          3,
          1,
          1,
          2,
          1,
          9,
          5,
          1,
          2,
          7,
          4,
          1,
          3,
          9,
          10,
          1,
          3,
          1,
          1,
          1,
          1,
          3,
          2,
          8,
          3,
          1,
          1,
          1,
          7,
          1,
          2,
          2,
          1,
          1,
          2,
          1,
          1,
          1,
          8,
          1,
          1,
          2,
          10,
          4,
          1,
          8,
          6,
          7,
          1,
          1,
          4,
          5,
          1,
          8,
          1,
          9,
          10,
          10,
          10,
          2,
          4,
          3,
          9,
          9,
          9,
          2,
          3,
          2,
          9,
          9,
          1,
          3,
          4,
          5,
          1,
          1,
          2,
          8,
          6,
          4,
          4,
          3,
          1,
          1,
          8,
          3,
          1,
          1,
          2,
          2,
          5,
          6,
          1,
          8,
          3,
          6,
          3,
          4,
          3,
          1,
          9,
          2,
          7,
          7,
          1,
          4,
          1,
          2,
          1,
          5,
          1,
          1,
          1,
          6,
          1,
          9,
          9,
          3,
          9,
          2,
          8,
          1,
          3,
          7,
          8,
          9,
          1,
          10,
          3,
          6,
          7,
          8,
          3,
          9,
          1,
          10,
          10,
          4,
          5,
          1,
          2,
          2,
          7,
          1,
          4,
          1,
          10,
          9,
          1,
          1,
          1,
          10,
          10,
          1,
          8,
          1,
          1,
          2,
          2,
          8,
          1,
          1,
          1,
          5,
          5,
          7,
          1,
          10,
          8,
          1,
          2,
          1,
          4,
          1,
          6,
          1,
          1,
          1,
          1,
          1,
          1,
          1,
          1,
          4,
          1,
          4,
          5,
          1,
          1,
          4,
          8,
          2,
          5,
          4,
          1,
          10,
          10,
          10,
          9,
          9,
          1,
          8,
          1,
          1,
          1,
          2,
          1,
          1,
          1,
          1,
          3,
          2,
          4,
          8,
          1,
          3,
          10,
          2,
          1,
          10,
          8,
          10,
          1,
          1,
          1,
          1,
          9,
          1,
          1,
          7,
          4,
          10,
          1,
          3,
          9,
          1,
          2,
          9,
          8,
          7,
          1,
          5,
          1,
          5,
          2,
          9,
          4,
          2,
          1,
          1,
          3,
          4,
          1,
          2,
          4,
          3,
          3,
          1,
          4,
          1,
          1,
          2,
          1,
          6,
          1,
          5,
          5,
          9,
          5,
          1,
          1,
          10,
          1,
          2,
          10,
          1,
          10,
          10,
          8,
          8,
          5,
          1,
          3,
          6,
          10,
          1,
          3,
          1,
          1,
          3,
          3,
          7,
          1,
          9,
          9,
          3,
          9,
          9,
          2,
          6,
          1,
          2,
          3,
          1,
          1,
          1,
          2,
          4,
          1,
          6,
          8,
          2,
          1,
          1,
          5,
          1,
          2,
          2,
          4,
          2,
          10,
          6,
          10,
          9,
          7,
          8,
          8,
          3,
          10,
          6,
          10,
          1,
          1,
          2,
          7,
          1,
          1,
          9,
          8,
          1,
          2,
          3,
          7,
          8,
          3,
          1,
          2,
          1,
          1,
          1,
          1,
          5,
          10,
          8,
          1,
          2,
          6,
          1,
          1,
          8,
          7,
          1,
          1,
          2,
          4,
          8,
          9,
          9,
          1,
          9,
          8,
          5,
          4,
          1,
          1,
          1,
          1,
          10,
          4,
          1,
          9,
          10,
          10,
          4,
          7,
          3,
          9,
          10,
          5,
          10,
          1,
          1,
          2,
          10,
          2,
          1,
          1,
          1,
          8,
          1,
          2,
          1,
          1,
          1,
          1,
          1,
          1,
          10,
          8,
          1,
          2,
          1,
          7,
          1,
          1,
          1,
          3,
          1,
          2,
          3,
          10,
          1,
          1,
          1,
          1,
          1,
          3,
          2,
          1,
          8,
          9,
          9,
          8,
          2,
          1,
          4,
          10,
          3,
          6,
          1,
          4,
          1,
          1,
          3,
          1,
          9,
          8,
          1,
          3,
          7,
          7,
          3,
          5,
          8,
          10,
          8,
          5,
          6,
          1,
          7,
          9,
          3,
          1,
          9,
          8,
          3,
          7,
          2,
          8,
          7,
          1,
          2,
          9,
          10,
          3,
          10,
          1,
          3,
          5,
          1,
          3,
          2,
          9,
          3,
          1,
          6,
          8,
          9,
          7,
          10,
          1,
          1,
          1,
          4,
          1,
          1,
          1,
          9,
          1,
          9,
          1,
          8,
          1,
          7,
          9,
          8,
          8,
          1,
          3,
          5,
          1,
          4,
          7,
          3,
          10,
          1,
          3,
          9,
          4,
          5,
          1,
          1,
          10,
          2,
          2,
          2,
          9,
          9,
          10,
          10,
          3,
          9,
          1,
          10,
          1,
          1,
          5,
          4,
          8,
          9,
          1,
          3,
          10,
          10,
          1,
          1,
          10,
          2,
          1,
          3,
          1,
          2,
          10,
          1,
          8,
          5,
          1,
          2,
          8,
          9,
          4,
          9,
          2,
          10,
          1,
          10,
          1,
          8,
          6,
          10,
          8,
          7,
          1,
          5,
          4,
          9,
          1,
          10,
          8,
          1,
          7,
          1,
          9,
          9,
          1,
          3,
          4,
          5,
          5,
          1,
          1,
          1,
          5,
          4,
          10,
          9,
          1,
          3,
          8,
          2,
          8,
          2,
          4,
          2,
          2,
          10,
          10,
          1,
          1,
          9,
          2,
          10,
          1,
          2,
          6,
          5,
          10,
          9,
          1,
          3,
          10,
          6,
          1,
          1,
          10,
          2,
          2,
          1,
          2,
          1,
          1,
          1,
          1,
          1,
          1,
          3,
          8,
          1,
          9,
          6,
          3,
          2,
          5,
          6,
          2,
          1,
          8,
          5,
          1,
          10,
          9,
          3,
          8,
          2,
          2,
          7,
          1,
          1,
          3,
          1,
          1,
          1,
          3,
          9,
          2,
          10,
          1,
          10,
          1,
          7,
          10,
          10,
          10,
          6,
          8,
          3,
          1,
          5,
          5,
          6,
          1,
          7,
          3,
          1,
          3,
          4,
          3,
          5,
          10,
          1,
          10,
          1,
          8,
          1,
          6,
          8,
          1,
          10,
          5,
          9,
          10,
          9,
          7,
          1,
          5,
          3,
          4,
          3,
          3,
          4,
          10,
          8,
          6,
          7,
          8,
          1,
          1,
          1,
          2,
          9,
          1,
          8,
          10,
          2,
          1,
          9,
          1,
          10,
          10,
          8,
          2,
          4,
          1,
          9,
          1,
          7,
          4,
          10,
          5,
          6,
          9,
          2,
          5,
          6,
          10,
          3,
          1,
          1,
          1,
          3,
          10,
          7,
          10,
          2,
          7,
          8,
          2,
          6,
          1,
          2,
          1,
          9,
          2,
          1,
          9,
          2,
          1,
          10,
          1,
          9,
          5,
          3,
          3,
          10,
          1,
          2,
          1,
          1,
          3,
          3,
          1,
          6,
          10,
          8,
          10,
          5,
          8,
          10,
          3,
          2,
          3,
          2,
          2,
          9,
          7,
          9,
          10,
          2,
          9,
          1,
          7,
          6,
          1,
          6,
          7,
          4,
          2,
          6,
          7,
          8,
          9,
          1,
          2,
          1,
          2,
          10,
          3,
          2,
          3,
          7,
          5,
          2,
          1,
          3,
          1,
          10,
          1,
          3,
          4,
          1,
          6,
          5,
          3,
          10,
          7,
          1,
          10,
          2,
          3,
          8,
          7,
          1,
          1,
          1,
          4,
          1,
          6,
          10,
          4,
          1,
          8,
          2,
          6,
          2,
          1,
          2,
          1,
          10,
          1,
          10,
          2,
          1,
          7,
          3,
          9,
          3,
          2,
          1,
          9,
          2,
          7,
          1,
          4,
          1,
          8,
          5,
          1,
          1,
          1,
          1,
          1,
          3,
          7,
          4,
          3,
          1,
          9,
          9,
          3,
          8,
          4,
          2,
          5,
          9,
          1,
          2,
          2,
          3,
          8,
          2,
          4,
          1,
          1,
          2,
          10,
          9,
          1,
          6,
          1,
          7,
          6,
          3,
          1,
          2,
          10,
          7,
          6,
          9,
          1,
          8,
          4,
          3,
          2,
          7,
          8,
          7,
          10,
          1,
          1,
          4,
          5,
          7,
          10,
          3,
          10,
          3,
          1,
          5,
          1,
          8,
          7,
          10,
          7,
          7,
          7,
          1,
          5,
          8,
          4,
          1,
          1,
          8,
          8,
          7,
          8,
          1,
          3,
          4,
          3,
          3,
          1,
          8,
          7,
          7,
          6,
          1,
          9,
          7,
          6,
          8,
          2,
          2,
          7,
          10,
          1,
          2,
          3,
          2,
          1,
          5,
          1,
          1,
          1,
          1,
          8,
          6,
          7,
          4,
          10,
          3,
          1,
          1,
          3,
          10,
          4,
          2,
          4,
          7,
          5,
          1,
          1,
          3,
          4,
          2,
          8,
          10,
          3,
          8,
          3,
          2,
          10,
          3,
          1,
          6,
          4,
          2,
          1,
          1,
          1,
          2,
          10,
          9,
          1,
          1,
          2,
          4,
          4,
          10,
          1,
          7,
          7,
          3,
          5,
          3,
          8,
          1,
          5,
          5,
          2,
          1,
          7,
          1,
          9,
          8,
          5,
          5,
          8,
          3,
          7,
          2,
          8,
          2,
          3,
          2,
          1,
          8,
          1,
          1,
          3,
          1,
          9,
          4,
          4,
          3,
          2,
          1,
          1,
          4,
          5,
          1,
          1,
          4,
          1,
          10,
          2,
          6,
          7,
          2,
          10,
          7,
          7,
          1,
          4,
          2,
          8,
          2,
          7,
          3,
          10,
          10,
          3,
          1,
          7,
          5,
          1,
          3,
          3,
          7,
          7,
          3,
          7,
          2,
          5,
          1,
          2,
          6,
          1,
          8,
          1,
          1,
          3,
          1,
          7,
          4,
          7,
          2,
          2,
          3,
          3,
          6,
          1,
          8,
          8,
          2,
          10,
          7,
          2,
          1,
          2,
          1,
          8,
          4,
          1,
          7,
          2,
          8,
          1,
          1,
          5,
          1,
          1,
          5,
          7,
          2,
          1,
          8,
          10,
          9,
          1,
          5,
          1,
          8,
          8,
          2,
          10,
          9,
          1,
          3,
          1,
          8,
          1,
          1,
          3,
          9,
          1,
          1,
          7,
          3,
          7,
          1,
          1,
          1,
          3,
          1,
          1,
          4,
          1,
          1,
          9,
          8,
          8,
          8,
          8,
          1
         ],
         "xaxis": "x",
         "yaxis": "y"
        }
       ],
       "layout": {
        "autosize": true,
        "barmode": "relative",
        "legend": {
         "tracegroupgap": 0
        },
        "template": {
         "data": {
          "bar": [
           {
            "error_x": {
             "color": "#2a3f5f"
            },
            "error_y": {
             "color": "#2a3f5f"
            },
            "marker": {
             "line": {
              "color": "#E5ECF6",
              "width": 0.5
             },
             "pattern": {
              "fillmode": "overlay",
              "size": 10,
              "solidity": 0.2
             }
            },
            "type": "bar"
           }
          ],
          "barpolar": [
           {
            "marker": {
             "line": {
              "color": "#E5ECF6",
              "width": 0.5
             },
             "pattern": {
              "fillmode": "overlay",
              "size": 10,
              "solidity": 0.2
             }
            },
            "type": "barpolar"
           }
          ],
          "carpet": [
           {
            "aaxis": {
             "endlinecolor": "#2a3f5f",
             "gridcolor": "white",
             "linecolor": "white",
             "minorgridcolor": "white",
             "startlinecolor": "#2a3f5f"
            },
            "baxis": {
             "endlinecolor": "#2a3f5f",
             "gridcolor": "white",
             "linecolor": "white",
             "minorgridcolor": "white",
             "startlinecolor": "#2a3f5f"
            },
            "type": "carpet"
           }
          ],
          "choropleth": [
           {
            "colorbar": {
             "outlinewidth": 0,
             "ticks": ""
            },
            "type": "choropleth"
           }
          ],
          "contour": [
           {
            "colorbar": {
             "outlinewidth": 0,
             "ticks": ""
            },
            "colorscale": [
             [
              0,
              "#0d0887"
             ],
             [
              0.1111111111111111,
              "#46039f"
             ],
             [
              0.2222222222222222,
              "#7201a8"
             ],
             [
              0.3333333333333333,
              "#9c179e"
             ],
             [
              0.4444444444444444,
              "#bd3786"
             ],
             [
              0.5555555555555556,
              "#d8576b"
             ],
             [
              0.6666666666666666,
              "#ed7953"
             ],
             [
              0.7777777777777778,
              "#fb9f3a"
             ],
             [
              0.8888888888888888,
              "#fdca26"
             ],
             [
              1,
              "#f0f921"
             ]
            ],
            "type": "contour"
           }
          ],
          "contourcarpet": [
           {
            "colorbar": {
             "outlinewidth": 0,
             "ticks": ""
            },
            "type": "contourcarpet"
           }
          ],
          "heatmap": [
           {
            "colorbar": {
             "outlinewidth": 0,
             "ticks": ""
            },
            "colorscale": [
             [
              0,
              "#0d0887"
             ],
             [
              0.1111111111111111,
              "#46039f"
             ],
             [
              0.2222222222222222,
              "#7201a8"
             ],
             [
              0.3333333333333333,
              "#9c179e"
             ],
             [
              0.4444444444444444,
              "#bd3786"
             ],
             [
              0.5555555555555556,
              "#d8576b"
             ],
             [
              0.6666666666666666,
              "#ed7953"
             ],
             [
              0.7777777777777778,
              "#fb9f3a"
             ],
             [
              0.8888888888888888,
              "#fdca26"
             ],
             [
              1,
              "#f0f921"
             ]
            ],
            "type": "heatmap"
           }
          ],
          "heatmapgl": [
           {
            "colorbar": {
             "outlinewidth": 0,
             "ticks": ""
            },
            "colorscale": [
             [
              0,
              "#0d0887"
             ],
             [
              0.1111111111111111,
              "#46039f"
             ],
             [
              0.2222222222222222,
              "#7201a8"
             ],
             [
              0.3333333333333333,
              "#9c179e"
             ],
             [
              0.4444444444444444,
              "#bd3786"
             ],
             [
              0.5555555555555556,
              "#d8576b"
             ],
             [
              0.6666666666666666,
              "#ed7953"
             ],
             [
              0.7777777777777778,
              "#fb9f3a"
             ],
             [
              0.8888888888888888,
              "#fdca26"
             ],
             [
              1,
              "#f0f921"
             ]
            ],
            "type": "heatmapgl"
           }
          ],
          "histogram": [
           {
            "marker": {
             "pattern": {
              "fillmode": "overlay",
              "size": 10,
              "solidity": 0.2
             }
            },
            "type": "histogram"
           }
          ],
          "histogram2d": [
           {
            "colorbar": {
             "outlinewidth": 0,
             "ticks": ""
            },
            "colorscale": [
             [
              0,
              "#0d0887"
             ],
             [
              0.1111111111111111,
              "#46039f"
             ],
             [
              0.2222222222222222,
              "#7201a8"
             ],
             [
              0.3333333333333333,
              "#9c179e"
             ],
             [
              0.4444444444444444,
              "#bd3786"
             ],
             [
              0.5555555555555556,
              "#d8576b"
             ],
             [
              0.6666666666666666,
              "#ed7953"
             ],
             [
              0.7777777777777778,
              "#fb9f3a"
             ],
             [
              0.8888888888888888,
              "#fdca26"
             ],
             [
              1,
              "#f0f921"
             ]
            ],
            "type": "histogram2d"
           }
          ],
          "histogram2dcontour": [
           {
            "colorbar": {
             "outlinewidth": 0,
             "ticks": ""
            },
            "colorscale": [
             [
              0,
              "#0d0887"
             ],
             [
              0.1111111111111111,
              "#46039f"
             ],
             [
              0.2222222222222222,
              "#7201a8"
             ],
             [
              0.3333333333333333,
              "#9c179e"
             ],
             [
              0.4444444444444444,
              "#bd3786"
             ],
             [
              0.5555555555555556,
              "#d8576b"
             ],
             [
              0.6666666666666666,
              "#ed7953"
             ],
             [
              0.7777777777777778,
              "#fb9f3a"
             ],
             [
              0.8888888888888888,
              "#fdca26"
             ],
             [
              1,
              "#f0f921"
             ]
            ],
            "type": "histogram2dcontour"
           }
          ],
          "mesh3d": [
           {
            "colorbar": {
             "outlinewidth": 0,
             "ticks": ""
            },
            "type": "mesh3d"
           }
          ],
          "parcoords": [
           {
            "line": {
             "colorbar": {
              "outlinewidth": 0,
              "ticks": ""
             }
            },
            "type": "parcoords"
           }
          ],
          "pie": [
           {
            "automargin": true,
            "type": "pie"
           }
          ],
          "scatter": [
           {
            "fillpattern": {
             "fillmode": "overlay",
             "size": 10,
             "solidity": 0.2
            },
            "type": "scatter"
           }
          ],
          "scatter3d": [
           {
            "line": {
             "colorbar": {
              "outlinewidth": 0,
              "ticks": ""
             }
            },
            "marker": {
             "colorbar": {
              "outlinewidth": 0,
              "ticks": ""
             }
            },
            "type": "scatter3d"
           }
          ],
          "scattercarpet": [
           {
            "marker": {
             "colorbar": {
              "outlinewidth": 0,
              "ticks": ""
             }
            },
            "type": "scattercarpet"
           }
          ],
          "scattergeo": [
           {
            "marker": {
             "colorbar": {
              "outlinewidth": 0,
              "ticks": ""
             }
            },
            "type": "scattergeo"
           }
          ],
          "scattergl": [
           {
            "marker": {
             "colorbar": {
              "outlinewidth": 0,
              "ticks": ""
             }
            },
            "type": "scattergl"
           }
          ],
          "scattermapbox": [
           {
            "marker": {
             "colorbar": {
              "outlinewidth": 0,
              "ticks": ""
             }
            },
            "type": "scattermapbox"
           }
          ],
          "scatterpolar": [
           {
            "marker": {
             "colorbar": {
              "outlinewidth": 0,
              "ticks": ""
             }
            },
            "type": "scatterpolar"
           }
          ],
          "scatterpolargl": [
           {
            "marker": {
             "colorbar": {
              "outlinewidth": 0,
              "ticks": ""
             }
            },
            "type": "scatterpolargl"
           }
          ],
          "scatterternary": [
           {
            "marker": {
             "colorbar": {
              "outlinewidth": 0,
              "ticks": ""
             }
            },
            "type": "scatterternary"
           }
          ],
          "surface": [
           {
            "colorbar": {
             "outlinewidth": 0,
             "ticks": ""
            },
            "colorscale": [
             [
              0,
              "#0d0887"
             ],
             [
              0.1111111111111111,
              "#46039f"
             ],
             [
              0.2222222222222222,
              "#7201a8"
             ],
             [
              0.3333333333333333,
              "#9c179e"
             ],
             [
              0.4444444444444444,
              "#bd3786"
             ],
             [
              0.5555555555555556,
              "#d8576b"
             ],
             [
              0.6666666666666666,
              "#ed7953"
             ],
             [
              0.7777777777777778,
              "#fb9f3a"
             ],
             [
              0.8888888888888888,
              "#fdca26"
             ],
             [
              1,
              "#f0f921"
             ]
            ],
            "type": "surface"
           }
          ],
          "table": [
           {
            "cells": {
             "fill": {
              "color": "#EBF0F8"
             },
             "line": {
              "color": "white"
             }
            },
            "header": {
             "fill": {
              "color": "#C8D4E3"
             },
             "line": {
              "color": "white"
             }
            },
            "type": "table"
           }
          ]
         },
         "layout": {
          "annotationdefaults": {
           "arrowcolor": "#2a3f5f",
           "arrowhead": 0,
           "arrowwidth": 1
          },
          "autotypenumbers": "strict",
          "coloraxis": {
           "colorbar": {
            "outlinewidth": 0,
            "ticks": ""
           }
          },
          "colorscale": {
           "diverging": [
            [
             0,
             "#8e0152"
            ],
            [
             0.1,
             "#c51b7d"
            ],
            [
             0.2,
             "#de77ae"
            ],
            [
             0.3,
             "#f1b6da"
            ],
            [
             0.4,
             "#fde0ef"
            ],
            [
             0.5,
             "#f7f7f7"
            ],
            [
             0.6,
             "#e6f5d0"
            ],
            [
             0.7,
             "#b8e186"
            ],
            [
             0.8,
             "#7fbc41"
            ],
            [
             0.9,
             "#4d9221"
            ],
            [
             1,
             "#276419"
            ]
           ],
           "sequential": [
            [
             0,
             "#0d0887"
            ],
            [
             0.1111111111111111,
             "#46039f"
            ],
            [
             0.2222222222222222,
             "#7201a8"
            ],
            [
             0.3333333333333333,
             "#9c179e"
            ],
            [
             0.4444444444444444,
             "#bd3786"
            ],
            [
             0.5555555555555556,
             "#d8576b"
            ],
            [
             0.6666666666666666,
             "#ed7953"
            ],
            [
             0.7777777777777778,
             "#fb9f3a"
            ],
            [
             0.8888888888888888,
             "#fdca26"
            ],
            [
             1,
             "#f0f921"
            ]
           ],
           "sequentialminus": [
            [
             0,
             "#0d0887"
            ],
            [
             0.1111111111111111,
             "#46039f"
            ],
            [
             0.2222222222222222,
             "#7201a8"
            ],
            [
             0.3333333333333333,
             "#9c179e"
            ],
            [
             0.4444444444444444,
             "#bd3786"
            ],
            [
             0.5555555555555556,
             "#d8576b"
            ],
            [
             0.6666666666666666,
             "#ed7953"
            ],
            [
             0.7777777777777778,
             "#fb9f3a"
            ],
            [
             0.8888888888888888,
             "#fdca26"
            ],
            [
             1,
             "#f0f921"
            ]
           ]
          },
          "colorway": [
           "#636efa",
           "#EF553B",
           "#00cc96",
           "#ab63fa",
           "#FFA15A",
           "#19d3f3",
           "#FF6692",
           "#B6E880",
           "#FF97FF",
           "#FECB52"
          ],
          "font": {
           "color": "#2a3f5f"
          },
          "geo": {
           "bgcolor": "white",
           "lakecolor": "white",
           "landcolor": "#E5ECF6",
           "showlakes": true,
           "showland": true,
           "subunitcolor": "white"
          },
          "hoverlabel": {
           "align": "left"
          },
          "hovermode": "closest",
          "mapbox": {
           "style": "light"
          },
          "paper_bgcolor": "white",
          "plot_bgcolor": "#E5ECF6",
          "polar": {
           "angularaxis": {
            "gridcolor": "white",
            "linecolor": "white",
            "ticks": ""
           },
           "bgcolor": "#E5ECF6",
           "radialaxis": {
            "gridcolor": "white",
            "linecolor": "white",
            "ticks": ""
           }
          },
          "scene": {
           "xaxis": {
            "backgroundcolor": "#E5ECF6",
            "gridcolor": "white",
            "gridwidth": 2,
            "linecolor": "white",
            "showbackground": true,
            "ticks": "",
            "zerolinecolor": "white"
           },
           "yaxis": {
            "backgroundcolor": "#E5ECF6",
            "gridcolor": "white",
            "gridwidth": 2,
            "linecolor": "white",
            "showbackground": true,
            "ticks": "",
            "zerolinecolor": "white"
           },
           "zaxis": {
            "backgroundcolor": "#E5ECF6",
            "gridcolor": "white",
            "gridwidth": 2,
            "linecolor": "white",
            "showbackground": true,
            "ticks": "",
            "zerolinecolor": "white"
           }
          },
          "shapedefaults": {
           "line": {
            "color": "#2a3f5f"
           }
          },
          "ternary": {
           "aaxis": {
            "gridcolor": "white",
            "linecolor": "white",
            "ticks": ""
           },
           "baxis": {
            "gridcolor": "white",
            "linecolor": "white",
            "ticks": ""
           },
           "bgcolor": "#E5ECF6",
           "caxis": {
            "gridcolor": "white",
            "linecolor": "white",
            "ticks": ""
           }
          },
          "title": {
           "x": 0.05
          },
          "xaxis": {
           "automargin": true,
           "gridcolor": "white",
           "linecolor": "white",
           "ticks": "",
           "title": {
            "standoff": 15
           },
           "zerolinecolor": "white",
           "zerolinewidth": 2
          },
          "yaxis": {
           "automargin": true,
           "gridcolor": "white",
           "linecolor": "white",
           "ticks": "",
           "title": {
            "standoff": 15
           },
           "zerolinecolor": "white",
           "zerolinewidth": 2
          }
         }
        },
        "title": {
         "text": "Distribution of Ratings"
        },
        "xaxis": {
         "anchor": "y",
         "autorange": true,
         "domain": [
          0,
          1
         ],
         "range": [
          0.5,
          10.5
         ],
         "title": {
          "text": "Rating"
         },
         "type": "linear"
        },
        "yaxis": {
         "anchor": "x",
         "autorange": true,
         "domain": [
          0,
          1
         ],
         "range": [
          0,
          462.10526315789474
         ],
         "title": {
          "text": "Frequency"
         }
        }
       }
      },
      "image/png": "[encoded data removed]",
      "text/html": [
       "<div>                            <div id=\"18e1d3d2-d0be-41ec-abbb-46e92a62c179\" class=\"plotly-graph-div\" style=\"height:525px; width:100%;\"></div>            <script type=\"text/javascript\">                require([\"plotly\"], function(Plotly) {                    window.PLOTLYENV=window.PLOTLYENV || {};                                    if (document.getElementById(\"18e1d3d2-d0be-41ec-abbb-46e92a62c179\")) {                    Plotly.newPlot(                        \"18e1d3d2-d0be-41ec-abbb-46e92a62c179\",                        [{\"alignmentgroup\":\"True\",\"bingroup\":\"x\",\"hovertemplate\":\"rating=%{x}<br>count=%{y}<extra></extra>\",\"legendgroup\":\"\",\"marker\":{\"color\":\"#636efa\",\"pattern\":{\"shape\":\"\"}},\"name\":\"\",\"offsetgroup\":\"\",\"orientation\":\"v\",\"showlegend\":false,\"x\":[2,2,2,3,1,3,4,1,1,1,1,1,1,1,1,6,1,2,1,8,1,1,1,1,8,8,2,1,1,1,1,1,1,1,3,1,1,8,1,1,4,7,8,2,2,10,1,1,1,1,10,1,9,6,1,1,2,1,1,1,4,8,2,2,1,9,1,2,4,2,2,4,1,1,3,3,10,1,1,2,1,1,1,1,2,4,7,1,1,7,1,1,2,1,3,1,1,1,3,1,4,1,2,9,3,1,1,2,10,1,1,9,2,1,10,10,2,4,2,1,1,1,3,3,1,1,1,1,2,5,1,2,1,1,10,2,5,1,3,4,3,1,1,2,1,9,5,1,2,7,4,1,3,9,10,1,3,1,1,1,1,3,2,8,3,1,1,1,7,1,2,2,1,1,2,1,1,1,8,1,1,2,10,4,1,8,6,7,1,1,4,5,1,8,1,9,10,10,10,2,4,3,9,9,9,2,3,2,9,9,1,3,4,5,1,1,2,8,6,4,4,3,1,1,8,3,1,1,2,2,5,6,1,8,3,6,3,4,3,1,9,2,7,7,1,4,1,2,1,5,1,1,1,6,1,9,9,3,9,2,8,1,3,7,8,9,1,10,3,6,7,8,3,9,1,10,10,4,5,1,2,2,7,1,4,1,10,9,1,1,1,10,10,1,8,1,1,2,2,8,1,1,1,5,5,7,1,10,8,1,2,1,4,1,6,1,1,1,1,1,1,1,1,4,1,4,5,1,1,4,8,2,5,4,1,10,10,10,9,9,1,8,1,1,1,2,1,1,1,1,3,2,4,8,1,3,10,2,1,10,8,10,1,1,1,1,9,1,1,7,4,10,1,3,9,1,2,9,8,7,1,5,1,5,2,9,4,2,1,1,3,4,1,2,4,3,3,1,4,1,1,2,1,6,1,5,5,9,5,1,1,10,1,2,10,1,10,10,8,8,5,1,3,6,10,1,3,1,1,3,3,7,1,9,9,3,9,9,2,6,1,2,3,1,1,1,2,4,1,6,8,2,1,1,5,1,2,2,4,2,10,6,10,9,7,8,8,3,10,6,10,1,1,2,7,1,1,9,8,1,2,3,7,8,3,1,2,1,1,1,1,5,10,8,1,2,6,1,1,8,7,1,1,2,4,8,9,9,1,9,8,5,4,1,1,1,1,10,4,1,9,10,10,4,7,3,9,10,5,10,1,1,2,10,2,1,1,1,8,1,2,1,1,1,1,1,1,10,8,1,2,1,7,1,1,1,3,1,2,3,10,1,1,1,1,1,3,2,1,8,9,9,8,2,1,4,10,3,6,1,4,1,1,3,1,9,8,1,3,7,7,3,5,8,10,8,5,6,1,7,9,3,1,9,8,3,7,2,8,7,1,2,9,10,3,10,1,3,5,1,3,2,9,3,1,6,8,9,7,10,1,1,1,4,1,1,1,9,1,9,1,8,1,7,9,8,8,1,3,5,1,4,7,3,10,1,3,9,4,5,1,1,10,2,2,2,9,9,10,10,3,9,1,10,1,1,5,4,8,9,1,3,10,10,1,1,10,2,1,3,1,2,10,1,8,5,1,2,8,9,4,9,2,10,1,10,1,8,6,10,8,7,1,5,4,9,1,10,8,1,7,1,9,9,1,3,4,5,5,1,1,1,5,4,10,9,1,3,8,2,8,2,4,2,2,10,10,1,1,9,2,10,1,2,6,5,10,9,1,3,10,6,1,1,10,2,2,1,2,1,1,1,1,1,1,3,8,1,9,6,3,2,5,6,2,1,8,5,1,10,9,3,8,2,2,7,1,1,3,1,1,1,3,9,2,10,1,10,1,7,10,10,10,6,8,3,1,5,5,6,1,7,3,1,3,4,3,5,10,1,10,1,8,1,6,8,1,10,5,9,10,9,7,1,5,3,4,3,3,4,10,8,6,7,8,1,1,1,2,9,1,8,10,2,1,9,1,10,10,8,2,4,1,9,1,7,4,10,5,6,9,2,5,6,10,3,1,1,1,3,10,7,10,2,7,8,2,6,1,2,1,9,2,1,9,2,1,10,1,9,5,3,3,10,1,2,1,1,3,3,1,6,10,8,10,5,8,10,3,2,3,2,2,9,7,9,10,2,9,1,7,6,1,6,7,4,2,6,7,8,9,1,2,1,2,10,3,2,3,7,5,2,1,3,1,10,1,3,4,1,6,5,3,10,7,1,10,2,3,8,7,1,1,1,4,1,6,10,4,1,8,2,6,2,1,2,1,10,1,10,2,1,7,3,9,3,2,1,9,2,7,1,4,1,8,5,1,1,1,1,1,3,7,4,3,1,9,9,3,8,4,2,5,9,1,2,2,3,8,2,4,1,1,2,10,9,1,6,1,7,6,3,1,2,10,7,6,9,1,8,4,3,2,7,8,7,10,1,1,4,5,7,10,3,10,3,1,5,1,8,7,10,7,7,7,1,5,8,4,1,1,8,8,7,8,1,3,4,3,3,1,8,7,7,6,1,9,7,6,8,2,2,7,10,1,2,3,2,1,5,1,1,1,1,8,6,7,4,10,3,1,1,3,10,4,2,4,7,5,1,1,3,4,2,8,10,3,8,3,2,10,3,1,6,4,2,1,1,1,2,10,9,1,1,2,4,4,10,1,7,7,3,5,3,8,1,5,5,2,1,7,1,9,8,5,5,8,3,7,2,8,2,3,2,1,8,1,1,3,1,9,4,4,3,2,1,1,4,5,1,1,4,1,10,2,6,7,2,10,7,7,1,4,2,8,2,7,3,10,10,3,1,7,5,1,3,3,7,7,3,7,2,5,1,2,6,1,8,1,1,3,1,7,4,7,2,2,3,3,6,1,8,8,2,10,7,2,1,2,1,8,4,1,7,2,8,1,1,5,1,1,5,7,2,1,8,10,9,1,5,1,8,8,2,10,9,1,3,1,8,1,1,3,9,1,1,7,3,7,1,1,1,3,1,1,4,1,1,9,8,8,8,8,1],\"xaxis\":\"x\",\"yaxis\":\"y\",\"type\":\"histogram\"}],                        {\"template\":{\"data\":{\"histogram2dcontour\":[{\"type\":\"histogram2dcontour\",\"colorbar\":{\"outlinewidth\":0,\"ticks\":\"\"},\"colorscale\":[[0.0,\"#0d0887\"],[0.1111111111111111,\"#46039f\"],[0.2222222222222222,\"#7201a8\"],[0.3333333333333333,\"#9c179e\"],[0.4444444444444444,\"#bd3786\"],[0.5555555555555556,\"#d8576b\"],[0.6666666666666666,\"#ed7953\"],[0.7777777777777778,\"#fb9f3a\"],[0.8888888888888888,\"#fdca26\"],[1.0,\"#f0f921\"]]}],\"choropleth\":[{\"type\":\"choropleth\",\"colorbar\":{\"outlinewidth\":0,\"ticks\":\"\"}}],\"histogram2d\":[{\"type\":\"histogram2d\",\"colorbar\":{\"outlinewidth\":0,\"ticks\":\"\"},\"colorscale\":[[0.0,\"#0d0887\"],[0.1111111111111111,\"#46039f\"],[0.2222222222222222,\"#7201a8\"],[0.3333333333333333,\"#9c179e\"],[0.4444444444444444,\"#bd3786\"],[0.5555555555555556,\"#d8576b\"],[0.6666666666666666,\"#ed7953\"],[0.7777777777777778,\"#fb9f3a\"],[0.8888888888888888,\"#fdca26\"],[1.0,\"#f0f921\"]]}],\"heatmap\":[{\"type\":\"heatmap\",\"colorbar\":{\"outlinewidth\":0,\"ticks\":\"\"},\"colorscale\":[[0.0,\"#0d0887\"],[0.1111111111111111,\"#46039f\"],[0.2222222222222222,\"#7201a8\"],[0.3333333333333333,\"#9c179e\"],[0.4444444444444444,\"#bd3786\"],[0.5555555555555556,\"#d8576b\"],[0.6666666666666666,\"#ed7953\"],[0.7777777777777778,\"#fb9f3a\"],[0.8888888888888888,\"#fdca26\"],[1.0,\"#f0f921\"]]}],\"heatmapgl\":[{\"type\":\"heatmapgl\",\"colorbar\":{\"outlinewidth\":0,\"ticks\":\"\"},\"colorscale\":[[0.0,\"#0d0887\"],[0.1111111111111111,\"#46039f\"],[0.2222222222222222,\"#7201a8\"],[0.3333333333333333,\"#9c179e\"],[0.4444444444444444,\"#bd3786\"],[0.5555555555555556,\"#d8576b\"],[0.6666666666666666,\"#ed7953\"],[0.7777777777777778,\"#fb9f3a\"],[0.8888888888888888,\"#fdca26\"],[1.0,\"#f0f921\"]]}],\"contourcarpet\":[{\"type\":\"contourcarpet\",\"colorbar\":{\"outlinewidth\":0,\"ticks\":\"\"}}],\"contour\":[{\"type\":\"contour\",\"colorbar\":{\"outlinewidth\":0,\"ticks\":\"\"},\"colorscale\":[[0.0,\"#0d0887\"],[0.1111111111111111,\"#46039f\"],[0.2222222222222222,\"#7201a8\"],[0.3333333333333333,\"#9c179e\"],[0.4444444444444444,\"#bd3786\"],[0.5555555555555556,\"#d8576b\"],[0.6666666666666666,\"#ed7953\"],[0.7777777777777778,\"#fb9f3a\"],[0.8888888888888888,\"#fdca26\"],[1.0,\"#f0f921\"]]}],\"surface\":[{\"type\":\"surface\",\"colorbar\":{\"outlinewidth\":0,\"ticks\":\"\"},\"colorscale\":[[0.0,\"#0d0887\"],[0.1111111111111111,\"#46039f\"],[0.2222222222222222,\"#7201a8\"],[0.3333333333333333,\"#9c179e\"],[0.4444444444444444,\"#bd3786\"],[0.5555555555555556,\"#d8576b\"],[0.6666666666666666,\"#ed7953\"],[0.7777777777777778,\"#fb9f3a\"],[0.8888888888888888,\"#fdca26\"],[1.0,\"#f0f921\"]]}],\"mesh3d\":[{\"type\":\"mesh3d\",\"colorbar\":{\"outlinewidth\":0,\"ticks\":\"\"}}],\"scatter\":[{\"fillpattern\":{\"fillmode\":\"overlay\",\"size\":10,\"solidity\":0.2},\"type\":\"scatter\"}],\"parcoords\":[{\"type\":\"parcoords\",\"line\":{\"colorbar\":{\"outlinewidth\":0,\"ticks\":\"\"}}}],\"scatterpolargl\":[{\"type\":\"scatterpolargl\",\"marker\":{\"colorbar\":{\"outlinewidth\":0,\"ticks\":\"\"}}}],\"bar\":[{\"error_x\":{\"color\":\"#2a3f5f\"},\"error_y\":{\"color\":\"#2a3f5f\"},\"marker\":{\"line\":{\"color\":\"#E5ECF6\",\"width\":0.5},\"pattern\":{\"fillmode\":\"overlay\",\"size\":10,\"solidity\":0.2}},\"type\":\"bar\"}],\"scattergeo\":[{\"type\":\"scattergeo\",\"marker\":{\"colorbar\":{\"outlinewidth\":0,\"ticks\":\"\"}}}],\"scatterpolar\":[{\"type\":\"scatterpolar\",\"marker\":{\"colorbar\":{\"outlinewidth\":0,\"ticks\":\"\"}}}],\"histogram\":[{\"marker\":{\"pattern\":{\"fillmode\":\"overlay\",\"size\":10,\"solidity\":0.2}},\"type\":\"histogram\"}],\"scattergl\":[{\"type\":\"scattergl\",\"marker\":{\"colorbar\":{\"outlinewidth\":0,\"ticks\":\"\"}}}],\"scatter3d\":[{\"type\":\"scatter3d\",\"line\":{\"colorbar\":{\"outlinewidth\":0,\"ticks\":\"\"}},\"marker\":{\"colorbar\":{\"outlinewidth\":0,\"ticks\":\"\"}}}],\"scattermapbox\":[{\"type\":\"scattermapbox\",\"marker\":{\"colorbar\":{\"outlinewidth\":0,\"ticks\":\"\"}}}],\"scatterternary\":[{\"type\":\"scatterternary\",\"marker\":{\"colorbar\":{\"outlinewidth\":0,\"ticks\":\"\"}}}],\"scattercarpet\":[{\"type\":\"scattercarpet\",\"marker\":{\"colorbar\":{\"outlinewidth\":0,\"ticks\":\"\"}}}],\"carpet\":[{\"aaxis\":{\"endlinecolor\":\"#2a3f5f\",\"gridcolor\":\"white\",\"linecolor\":\"white\",\"minorgridcolor\":\"white\",\"startlinecolor\":\"#2a3f5f\"},\"baxis\":{\"endlinecolor\":\"#2a3f5f\",\"gridcolor\":\"white\",\"linecolor\":\"white\",\"minorgridcolor\":\"white\",\"startlinecolor\":\"#2a3f5f\"},\"type\":\"carpet\"}],\"table\":[{\"cells\":{\"fill\":{\"color\":\"#EBF0F8\"},\"line\":{\"color\":\"white\"}},\"header\":{\"fill\":{\"color\":\"#C8D4E3\"},\"line\":{\"color\":\"white\"}},\"type\":\"table\"}],\"barpolar\":[{\"marker\":{\"line\":{\"color\":\"#E5ECF6\",\"width\":0.5},\"pattern\":{\"fillmode\":\"overlay\",\"size\":10,\"solidity\":0.2}},\"type\":\"barpolar\"}],\"pie\":[{\"automargin\":true,\"type\":\"pie\"}]},\"layout\":{\"autotypenumbers\":\"strict\",\"colorway\":[\"#636efa\",\"#EF553B\",\"#00cc96\",\"#ab63fa\",\"#FFA15A\",\"#19d3f3\",\"#FF6692\",\"#B6E880\",\"#FF97FF\",\"#FECB52\"],\"font\":{\"color\":\"#2a3f5f\"},\"hovermode\":\"closest\",\"hoverlabel\":{\"align\":\"left\"},\"paper_bgcolor\":\"white\",\"plot_bgcolor\":\"#E5ECF6\",\"polar\":{\"bgcolor\":\"#E5ECF6\",\"angularaxis\":{\"gridcolor\":\"white\",\"linecolor\":\"white\",\"ticks\":\"\"},\"radialaxis\":{\"gridcolor\":\"white\",\"linecolor\":\"white\",\"ticks\":\"\"}},\"ternary\":{\"bgcolor\":\"#E5ECF6\",\"aaxis\":{\"gridcolor\":\"white\",\"linecolor\":\"white\",\"ticks\":\"\"},\"baxis\":{\"gridcolor\":\"white\",\"linecolor\":\"white\",\"ticks\":\"\"},\"caxis\":{\"gridcolor\":\"white\",\"linecolor\":\"white\",\"ticks\":\"\"}},\"coloraxis\":{\"colorbar\":{\"outlinewidth\":0,\"ticks\":\"\"}},\"colorscale\":{\"sequential\":[[0.0,\"#0d0887\"],[0.1111111111111111,\"#46039f\"],[0.2222222222222222,\"#7201a8\"],[0.3333333333333333,\"#9c179e\"],[0.4444444444444444,\"#bd3786\"],[0.5555555555555556,\"#d8576b\"],[0.6666666666666666,\"#ed7953\"],[0.7777777777777778,\"#fb9f3a\"],[0.8888888888888888,\"#fdca26\"],[1.0,\"#f0f921\"]],\"sequentialminus\":[[0.0,\"#0d0887\"],[0.1111111111111111,\"#46039f\"],[0.2222222222222222,\"#7201a8\"],[0.3333333333333333,\"#9c179e\"],[0.4444444444444444,\"#bd3786\"],[0.5555555555555556,\"#d8576b\"],[0.6666666666666666,\"#ed7953\"],[0.7777777777777778,\"#fb9f3a\"],[0.8888888888888888,\"#fdca26\"],[1.0,\"#f0f921\"]],\"diverging\":[[0,\"#8e0152\"],[0.1,\"#c51b7d\"],[0.2,\"#de77ae\"],[0.3,\"#f1b6da\"],[0.4,\"#fde0ef\"],[0.5,\"#f7f7f7\"],[0.6,\"#e6f5d0\"],[0.7,\"#b8e186\"],[0.8,\"#7fbc41\"],[0.9,\"#4d9221\"],[1,\"#276419\"]]},\"xaxis\":{\"gridcolor\":\"white\",\"linecolor\":\"white\",\"ticks\":\"\",\"title\":{\"standoff\":15},\"zerolinecolor\":\"white\",\"automargin\":true,\"zerolinewidth\":2},\"yaxis\":{\"gridcolor\":\"white\",\"linecolor\":\"white\",\"ticks\":\"\",\"title\":{\"standoff\":15},\"zerolinecolor\":\"white\",\"automargin\":true,\"zerolinewidth\":2},\"scene\":{\"xaxis\":{\"backgroundcolor\":\"#E5ECF6\",\"gridcolor\":\"white\",\"linecolor\":\"white\",\"showbackground\":true,\"ticks\":\"\",\"zerolinecolor\":\"white\",\"gridwidth\":2},\"yaxis\":{\"backgroundcolor\":\"#E5ECF6\",\"gridcolor\":\"white\",\"linecolor\":\"white\",\"showbackground\":true,\"ticks\":\"\",\"zerolinecolor\":\"white\",\"gridwidth\":2},\"zaxis\":{\"backgroundcolor\":\"#E5ECF6\",\"gridcolor\":\"white\",\"linecolor\":\"white\",\"showbackground\":true,\"ticks\":\"\",\"zerolinecolor\":\"white\",\"gridwidth\":2}},\"shapedefaults\":{\"line\":{\"color\":\"#2a3f5f\"}},\"annotationdefaults\":{\"arrowcolor\":\"#2a3f5f\",\"arrowhead\":0,\"arrowwidth\":1},\"geo\":{\"bgcolor\":\"white\",\"landcolor\":\"#E5ECF6\",\"subunitcolor\":\"white\",\"showland\":true,\"showlakes\":true,\"lakecolor\":\"white\"},\"title\":{\"x\":0.05},\"mapbox\":{\"style\":\"light\"}}},\"xaxis\":{\"anchor\":\"y\",\"domain\":[0.0,1.0],\"title\":{\"text\":\"Rating\"}},\"yaxis\":{\"anchor\":\"x\",\"domain\":[0.0,1.0],\"title\":{\"text\":\"Frequency\"}},\"legend\":{\"tracegroupgap\":0},\"title\":{\"text\":\"Distribution of Ratings\"},\"barmode\":\"relative\"},                        {\"responsive\": true}                    ).then(function(){\n",
       "                            \n",
       "var gd = document.getElementById('18e1d3d2-d0be-41ec-abbb-46e92a62c179');\n",
       "var x = new MutationObserver(function (mutations, observer) {{\n",
       "        var display = window.getComputedStyle(gd).display;\n",
       "        if (!display || display === 'none') {{\n",
       "            console.log([gd, 'removed!']);\n",
       "            Plotly.purge(gd);\n",
       "            observer.disconnect();\n",
       "        }}\n",
       "}});\n",
       "\n",
       "// Listen for the removal of the full notebook cells\n",
       "var notebookContainer = gd.closest('#notebook-container');\n",
       "if (notebookContainer) {{\n",
       "    x.observe(notebookContainer, {childList: true});\n",
       "}}\n",
       "\n",
       "// Listen for the clearing of the current output cell\n",
       "var outputEl = gd.closest('.output');\n",
       "if (outputEl) {{\n",
       "    x.observe(outputEl, {childList: true});\n",
       "}}\n",
       "\n",
       "                        })                };                });            </script>        </div>"
      ]
     },
     "metadata": {},
     "output_type": "display_data"
    },
    {
     "data": {
      "application/vnd.plotly.v1+json": {
       "config": {
        "plotlyServerURL": "https://plot.ly"
       },
       "data": [
        {
         "alignmentgroup": "True",
         "hovertemplate": "traveller_type=%{x}<br>seat_comfort=%{y}<extra></extra>",
         "legendgroup": "",
         "marker": {
          "color": "#636efa"
         },
         "name": "",
         "notched": false,
         "offsetgroup": "",
         "orientation": "v",
         "showlegend": false,
         "type": "box",
         "x": [
          "Couple Leisure",
          "Business",
          "Couple Leisure",
          "Business",
          "Couple Leisure",
          "Business",
          "Business",
          "Couple Leisure",
          "Couple Leisure",
          "Couple Leisure",
          "Couple Leisure",
          "Couple Leisure",
          "Couple Leisure",
          "Solo Leisure",
          null,
          "Solo Leisure",
          "Couple Leisure",
          "Business",
          "Couple Leisure",
          "Solo Leisure",
          "Family Leisure",
          "Family Leisure",
          "Couple Leisure",
          "Business",
          "Business",
          "Solo Leisure",
          "Couple Leisure",
          "Couple Leisure",
          "Family Leisure",
          "Business",
          "Couple Leisure",
          "Solo Leisure",
          "Couple Leisure",
          "Family Leisure",
          "Solo Leisure",
          "Solo Leisure",
          "Couple Leisure",
          "Couple Leisure",
          "Family Leisure",
          "Couple Leisure",
          "Business",
          "Couple Leisure",
          "Solo Leisure",
          "Couple Leisure",
          "Solo Leisure",
          "Family Leisure",
          "Business",
          "Couple Leisure",
          "Family Leisure",
          "Business",
          "Solo Leisure",
          "Family Leisure",
          "Couple Leisure",
          "Solo Leisure",
          "Business",
          "Couple Leisure",
          "Solo Leisure",
          "Couple Leisure",
          "Couple Leisure",
          "Family Leisure",
          "Family Leisure",
          "Solo Leisure",
          "Business",
          "Couple Leisure",
          "Solo Leisure",
          "Couple Leisure",
          "Couple Leisure",
          "Business",
          "Business",
          "Solo Leisure",
          "Couple Leisure",
          "Couple Leisure",
          "Couple Leisure",
          "Solo Leisure",
          "Couple Leisure",
          "Couple Leisure",
          "Solo Leisure",
          "Business",
          "Solo Leisure",
          "Business",
          "Solo Leisure",
          "Business",
          "Business",
          "Couple Leisure",
          "Family Leisure",
          "Solo Leisure",
          "Couple Leisure",
          "Solo Leisure",
          "Business",
          "Solo Leisure",
          "Solo Leisure",
          "Couple Leisure",
          "Couple Leisure",
          "Family Leisure",
          "Couple Leisure",
          "Family Leisure",
          "Family Leisure",
          "Family Leisure",
          "Business",
          "Business",
          "Couple Leisure",
          "Solo Leisure",
          "Solo Leisure",
          "Couple Leisure",
          "Couple Leisure",
          "Solo Leisure",
          "Business",
          "Couple Leisure",
          "Solo Leisure",
          "Business",
          "Couple Leisure",
          "Solo Leisure",
          "Business",
          "Solo Leisure",
          "Solo Leisure",
          "Solo Leisure",
          "Solo Leisure",
          "Solo Leisure",
          "Solo Leisure",
          "Solo Leisure",
          "Solo Leisure",
          "Solo Leisure",
          "Solo Leisure",
          "Family Leisure",
          "Couple Leisure",
          "Solo Leisure",
          "Solo Leisure",
          "Couple Leisure",
          "Couple Leisure",
          "Couple Leisure",
          "Solo Leisure",
          "Couple Leisure",
          "Solo Leisure",
          "Business",
          "Couple Leisure",
          "Couple Leisure",
          "Couple Leisure",
          "Solo Leisure",
          "Solo Leisure",
          "Couple Leisure",
          "Family Leisure",
          "Couple Leisure",
          "Family Leisure",
          "Solo Leisure",
          "Family Leisure",
          "Solo Leisure",
          "Couple Leisure",
          "Couple Leisure",
          "Business",
          "Family Leisure",
          "Couple Leisure",
          "Solo Leisure",
          "Couple Leisure",
          "Business",
          "Couple Leisure",
          "Business",
          "Solo Leisure",
          "Couple Leisure",
          "Couple Leisure",
          "Couple Leisure",
          "Solo Leisure",
          "Business",
          "Couple Leisure",
          "Family Leisure",
          "Solo Leisure",
          "Couple Leisure",
          "Solo Leisure",
          "Solo Leisure",
          "Solo Leisure",
          "Family Leisure",
          "Couple Leisure",
          "Solo Leisure",
          "Couple Leisure",
          "Couple Leisure",
          "Solo Leisure",
          "Family Leisure",
          "Business",
          "Couple Leisure",
          "Business",
          "Solo Leisure",
          "Solo Leisure",
          "Couple Leisure",
          "Business",
          "Couple Leisure",
          "Business",
          "Couple Leisure",
          "Couple Leisure",
          "Business",
          "Couple Leisure",
          "Couple Leisure",
          "Solo Leisure",
          "Family Leisure",
          "Business",
          "Solo Leisure",
          "Couple Leisure",
          "Couple Leisure",
          "Solo Leisure",
          "Business",
          "Business",
          "Family Leisure",
          "Business",
          "Family Leisure",
          "Couple Leisure",
          "Couple Leisure",
          "Couple Leisure",
          "Couple Leisure",
          "Couple Leisure",
          "Business",
          "Couple Leisure",
          "Solo Leisure",
          "Solo Leisure",
          "Family Leisure",
          "Business",
          "Couple Leisure",
          "Solo Leisure",
          "Couple Leisure",
          "Solo Leisure",
          "Couple Leisure",
          "Business",
          "Solo Leisure",
          "Solo Leisure",
          "Solo Leisure",
          "Couple Leisure",
          "Couple Leisure",
          "Couple Leisure",
          "Business",
          "Family Leisure",
          "Couple Leisure",
          "Couple Leisure",
          "Family Leisure",
          "Business",
          "Family Leisure",
          "Business",
          "Business",
          "Family Leisure",
          "Couple Leisure",
          "Business",
          "Couple Leisure",
          "Couple Leisure",
          "Family Leisure",
          "Solo Leisure",
          "Solo Leisure",
          "Family Leisure",
          "Couple Leisure",
          "Solo Leisure",
          "Family Leisure",
          "Family Leisure",
          "Solo Leisure",
          "Couple Leisure",
          "Couple Leisure",
          "Solo Leisure",
          "Solo Leisure",
          "Business",
          "Solo Leisure",
          "Solo Leisure",
          "Family Leisure",
          "Solo Leisure",
          "Couple Leisure",
          "Couple Leisure",
          "Business",
          "Solo Leisure",
          "Business",
          "Solo Leisure",
          "Couple Leisure",
          "Couple Leisure",
          "Solo Leisure",
          "Solo Leisure",
          "Couple Leisure",
          "Business",
          "Business",
          "Solo Leisure",
          "Family Leisure",
          "Couple Leisure",
          "Couple Leisure",
          "Business",
          "Solo Leisure",
          "Business",
          "Solo Leisure",
          "Solo Leisure",
          "Couple Leisure",
          "Couple Leisure",
          "Solo Leisure",
          "Business",
          "Family Leisure",
          "Couple Leisure",
          "Business",
          "Business",
          "Couple Leisure",
          "Business",
          "Solo Leisure",
          "Solo Leisure",
          "Solo Leisure",
          "Solo Leisure",
          "Business",
          "Couple Leisure",
          "Solo Leisure",
          "Family Leisure",
          "Couple Leisure",
          "Couple Leisure",
          "Solo Leisure",
          "Solo Leisure",
          "Solo Leisure",
          "Business",
          "Couple Leisure",
          "Couple Leisure",
          "Family Leisure",
          "Solo Leisure",
          "Solo Leisure",
          "Family Leisure",
          "Solo Leisure",
          "Solo Leisure",
          "Solo Leisure",
          "Solo Leisure",
          "Business",
          "Business",
          "Couple Leisure",
          "Solo Leisure",
          "Solo Leisure",
          "Family Leisure",
          "Couple Leisure",
          "Solo Leisure",
          "Solo Leisure",
          "Couple Leisure",
          "Couple Leisure",
          "Solo Leisure",
          "Business",
          "Business",
          "Couple Leisure",
          "Family Leisure",
          "Couple Leisure",
          "Business",
          "Family Leisure",
          "Solo Leisure",
          "Couple Leisure",
          "Couple Leisure",
          "Solo Leisure",
          "Business",
          "Solo Leisure",
          "Couple Leisure",
          "Couple Leisure",
          "Couple Leisure",
          "Couple Leisure",
          "Solo Leisure",
          "Family Leisure",
          "Couple Leisure",
          "Couple Leisure",
          "Solo Leisure",
          "Business",
          "Solo Leisure",
          "Business",
          "Couple Leisure",
          "Solo Leisure",
          "Couple Leisure",
          "Couple Leisure",
          "Business",
          "Couple Leisure",
          "Couple Leisure",
          "Solo Leisure",
          "Couple Leisure",
          "Couple Leisure",
          "Couple Leisure",
          "Business",
          "Business",
          "Solo Leisure",
          "Family Leisure",
          "Couple Leisure",
          "Couple Leisure",
          "Business",
          "Solo Leisure",
          "Couple Leisure",
          "Couple Leisure",
          "Couple Leisure",
          "Family Leisure",
          "Solo Leisure",
          "Business",
          "Couple Leisure",
          "Business",
          "Solo Leisure",
          "Couple Leisure",
          "Couple Leisure",
          "Solo Leisure",
          "Couple Leisure",
          "Family Leisure",
          "Family Leisure",
          "Couple Leisure",
          "Business",
          "Couple Leisure",
          "Family Leisure",
          "Family Leisure",
          "Business",
          "Solo Leisure",
          "Family Leisure",
          "Family Leisure",
          "Family Leisure",
          "Family Leisure",
          "Family Leisure",
          "Solo Leisure",
          "Couple Leisure",
          "Couple Leisure",
          "Family Leisure",
          "Couple Leisure",
          "Family Leisure",
          "Solo Leisure",
          "Business",
          "Family Leisure",
          "Business",
          "Family Leisure",
          "Family Leisure",
          "Solo Leisure",
          "Solo Leisure",
          "Solo Leisure",
          "Couple Leisure",
          "Family Leisure",
          "Couple Leisure",
          "Solo Leisure",
          "Business",
          "Business",
          "Couple Leisure",
          "Solo Leisure",
          "Business",
          "Business",
          "Solo Leisure",
          "Family Leisure",
          "Couple Leisure",
          "Couple Leisure",
          "Couple Leisure",
          "Solo Leisure",
          "Business",
          "Family Leisure",
          "Solo Leisure",
          "Solo Leisure",
          "Business",
          "Solo Leisure",
          "Solo Leisure",
          "Business",
          "Solo Leisure",
          "Couple Leisure",
          "Business",
          "Couple Leisure",
          "Couple Leisure",
          "Couple Leisure",
          "Business",
          "Couple Leisure",
          "Couple Leisure",
          "Solo Leisure",
          "Solo Leisure",
          "Couple Leisure",
          "Business",
          "Business",
          "Business",
          "Couple Leisure",
          "Business",
          "Solo Leisure",
          "Business",
          "Solo Leisure",
          "Couple Leisure",
          "Couple Leisure",
          "Solo Leisure",
          "Business",
          "Family Leisure",
          "Business",
          "Family Leisure",
          "Couple Leisure",
          "Business",
          "Couple Leisure",
          "Couple Leisure",
          "Solo Leisure",
          "Solo Leisure",
          "Family Leisure",
          "Couple Leisure",
          "Solo Leisure",
          "Solo Leisure",
          "Business",
          "Business",
          "Couple Leisure",
          "Solo Leisure",
          "Business",
          "Couple Leisure",
          "Business",
          "Couple Leisure",
          "Business",
          "Family Leisure",
          "Couple Leisure",
          "Couple Leisure",
          "Business",
          "Business",
          "Business",
          "Business",
          "Business",
          "Family Leisure",
          "Business",
          "Couple Leisure",
          "Couple Leisure",
          "Couple Leisure",
          "Couple Leisure",
          "Couple Leisure",
          "Couple Leisure",
          "Family Leisure",
          "Family Leisure",
          "Solo Leisure",
          "Family Leisure",
          "Couple Leisure",
          "Couple Leisure",
          "Family Leisure",
          "Business",
          "Couple Leisure",
          "Solo Leisure",
          "Solo Leisure",
          "Solo Leisure",
          "Couple Leisure",
          "Solo Leisure",
          "Business",
          "Business",
          "Business",
          "Business",
          "Couple Leisure",
          "Solo Leisure",
          "Solo Leisure",
          "Business",
          "Couple Leisure",
          "Couple Leisure",
          "Couple Leisure",
          "Couple Leisure",
          "Solo Leisure",
          "Solo Leisure",
          "Family Leisure",
          "Solo Leisure",
          "Solo Leisure",
          "Couple Leisure",
          "Solo Leisure",
          "Solo Leisure",
          "Couple Leisure",
          "Solo Leisure",
          "Couple Leisure",
          "Couple Leisure",
          "Business",
          "Couple Leisure",
          "Business",
          "Couple Leisure",
          "Couple Leisure",
          "Couple Leisure",
          "Family Leisure",
          "Couple Leisure",
          "Business",
          "Solo Leisure",
          "Couple Leisure",
          "Family Leisure",
          "Solo Leisure",
          "Solo Leisure",
          "Couple Leisure",
          "Business",
          "Solo Leisure",
          "Family Leisure",
          "Solo Leisure",
          "Solo Leisure",
          "Solo Leisure",
          "Business",
          "Solo Leisure",
          "Solo Leisure",
          "Business",
          "Business",
          "Family Leisure",
          "Couple Leisure",
          "Family Leisure",
          "Solo Leisure",
          "Business",
          "Solo Leisure",
          "Business",
          "Business",
          "Solo Leisure",
          "Couple Leisure",
          "Solo Leisure",
          "Family Leisure",
          "Solo Leisure",
          "Family Leisure",
          "Business",
          "Couple Leisure",
          "Couple Leisure",
          "Couple Leisure",
          "Solo Leisure",
          "Couple Leisure",
          "Business",
          "Couple Leisure",
          "Couple Leisure",
          "Solo Leisure",
          "Couple Leisure",
          "Business",
          "Solo Leisure",
          "Solo Leisure",
          "Solo Leisure",
          "Family Leisure",
          "Solo Leisure",
          "Solo Leisure",
          "Solo Leisure",
          "Couple Leisure",
          "Family Leisure",
          "Couple Leisure",
          "Family Leisure",
          "Family Leisure",
          "Solo Leisure",
          "Couple Leisure",
          "Couple Leisure",
          "Couple Leisure",
          "Solo Leisure",
          "Couple Leisure",
          "Couple Leisure",
          "Family Leisure",
          "Business",
          "Couple Leisure",
          "Family Leisure",
          "Couple Leisure",
          "Solo Leisure",
          "Family Leisure",
          "Solo Leisure",
          "Couple Leisure",
          "Business",
          "Solo Leisure",
          "Solo Leisure",
          "Solo Leisure",
          "Solo Leisure",
          "Couple Leisure",
          "Solo Leisure",
          "Solo Leisure",
          "Business",
          "Family Leisure",
          "Couple Leisure",
          "Business",
          "Couple Leisure",
          "Solo Leisure",
          "Couple Leisure",
          "Couple Leisure",
          "Business",
          "Family Leisure",
          "Business",
          "Couple Leisure",
          "Solo Leisure",
          "Couple Leisure",
          "Business",
          "Couple Leisure",
          "Solo Leisure",
          "Couple Leisure",
          "Couple Leisure",
          "Solo Leisure",
          "Couple Leisure",
          "Couple Leisure",
          "Couple Leisure",
          "Solo Leisure",
          "Solo Leisure",
          "Solo Leisure",
          "Couple Leisure",
          "Solo Leisure",
          "Business",
          "Family Leisure",
          "Business",
          "Solo Leisure",
          "Couple Leisure",
          "Business",
          "Business",
          "Business",
          "Solo Leisure",
          "Business",
          "Couple Leisure",
          "Solo Leisure",
          "Solo Leisure",
          "Solo Leisure",
          "Business",
          "Solo Leisure",
          "Business",
          "Solo Leisure",
          "Solo Leisure",
          "Couple Leisure",
          "Couple Leisure",
          "Solo Leisure",
          "Solo Leisure",
          "Family Leisure",
          "Solo Leisure",
          "Business",
          "Business",
          "Family Leisure",
          "Couple Leisure",
          "Business",
          "Business",
          "Business",
          "Solo Leisure",
          "Solo Leisure",
          "Business",
          "Family Leisure",
          "Family Leisure",
          "Couple Leisure",
          "Family Leisure",
          "Family Leisure",
          "Couple Leisure",
          "Couple Leisure",
          "Family Leisure",
          "Business",
          "Solo Leisure",
          "Family Leisure",
          "Couple Leisure",
          "Business",
          "Couple Leisure",
          "Solo Leisure",
          "Business",
          "Business",
          "Business",
          "Business",
          "Business",
          "Solo Leisure",
          "Business",
          "Solo Leisure",
          "Couple Leisure",
          "Couple Leisure",
          "Business",
          "Solo Leisure",
          "Couple Leisure",
          "Solo Leisure",
          "Couple Leisure",
          "Couple Leisure",
          "Solo Leisure",
          "Solo Leisure",
          "Solo Leisure",
          "Solo Leisure",
          "Business",
          "Solo Leisure",
          "Couple Leisure",
          "Solo Leisure",
          "Solo Leisure",
          "Business",
          "Solo Leisure",
          "Business",
          "Solo Leisure",
          "Couple Leisure",
          "Solo Leisure",
          "Solo Leisure",
          "Business",
          "Business",
          "Solo Leisure",
          "Couple Leisure",
          "Solo Leisure",
          "Couple Leisure",
          "Solo Leisure",
          "Business",
          "Solo Leisure",
          "Family Leisure",
          "Couple Leisure",
          "Couple Leisure",
          "Family Leisure",
          "Solo Leisure",
          "Family Leisure",
          "Solo Leisure",
          "Solo Leisure",
          "Couple Leisure",
          "Family Leisure",
          "Family Leisure",
          "Solo Leisure",
          "Couple Leisure",
          "Solo Leisure",
          "Solo Leisure",
          "Family Leisure",
          "Business",
          "Solo Leisure",
          "Family Leisure",
          "Family Leisure",
          "Business",
          "Business",
          "Couple Leisure",
          "Couple Leisure",
          "Family Leisure",
          "Business",
          "Couple Leisure",
          "Couple Leisure",
          "Business",
          "Couple Leisure",
          "Business",
          "Couple Leisure",
          "Business",
          "Solo Leisure",
          "Solo Leisure",
          "Family Leisure",
          "Solo Leisure",
          "Couple Leisure",
          "Solo Leisure",
          "Solo Leisure",
          "Business",
          "Family Leisure",
          "Business",
          "Business",
          "Couple Leisure",
          "Business",
          "Couple Leisure",
          "Couple Leisure",
          "Solo Leisure",
          "Business",
          "Business",
          "Solo Leisure",
          "Solo Leisure",
          "Couple Leisure",
          "Solo Leisure",
          "Business",
          "Business",
          "Couple Leisure",
          "Couple Leisure",
          "Couple Leisure",
          "Business",
          "Family Leisure",
          "Solo Leisure",
          "Solo Leisure",
          "Solo Leisure",
          "Couple Leisure",
          "Family Leisure",
          "Family Leisure",
          "Couple Leisure",
          "Solo Leisure",
          "Couple Leisure",
          "Couple Leisure",
          "Solo Leisure",
          "Business",
          "Couple Leisure",
          "Business",
          "Solo Leisure",
          "Business",
          "Business",
          "Couple Leisure",
          "Couple Leisure",
          "Solo Leisure",
          "Solo Leisure",
          "Solo Leisure",
          "Couple Leisure",
          "Business",
          "Business",
          "Solo Leisure",
          "Couple Leisure",
          "Business",
          "Couple Leisure",
          "Couple Leisure",
          "Family Leisure",
          "Business",
          "Business",
          "Family Leisure",
          "Family Leisure",
          "Business",
          "Solo Leisure",
          "Couple Leisure",
          "Business",
          "Business",
          "Couple Leisure",
          "Business",
          "Family Leisure",
          "Couple Leisure",
          "Couple Leisure",
          "Family Leisure",
          "Business",
          "Business",
          "Solo Leisure",
          "Couple Leisure",
          "Family Leisure",
          "Business",
          "Family Leisure",
          "Solo Leisure",
          "Solo Leisure",
          "Family Leisure",
          "Business",
          "Business",
          "Solo Leisure",
          "Solo Leisure",
          "Solo Leisure",
          "Couple Leisure",
          "Couple Leisure",
          "Business",
          "Family Leisure",
          "Solo Leisure",
          "Couple Leisure",
          "Family Leisure",
          "Family Leisure",
          "Solo Leisure",
          "Couple Leisure",
          "Couple Leisure",
          "Couple Leisure",
          "Solo Leisure",
          "Business",
          "Business",
          "Family Leisure",
          "Business",
          "Couple Leisure",
          "Family Leisure",
          "Business",
          "Business",
          "Solo Leisure",
          "Business",
          "Couple Leisure",
          "Couple Leisure",
          "Solo Leisure",
          "Couple Leisure",
          "Couple Leisure",
          "Family Leisure",
          "Family Leisure",
          "Couple Leisure",
          "Couple Leisure",
          "Business",
          "Couple Leisure",
          "Couple Leisure",
          "Business",
          "Solo Leisure",
          "Couple Leisure",
          "Couple Leisure",
          "Couple Leisure",
          "Business",
          "Couple Leisure",
          "Business",
          "Solo Leisure",
          "Solo Leisure",
          "Business",
          "Business",
          "Couple Leisure",
          "Business",
          "Couple Leisure",
          "Couple Leisure",
          "Solo Leisure",
          "Family Leisure",
          "Couple Leisure",
          "Business",
          "Couple Leisure",
          "Couple Leisure",
          "Business",
          "Family Leisure",
          "Couple Leisure",
          "Solo Leisure",
          "Family Leisure",
          "Business",
          "Couple Leisure",
          "Family Leisure",
          "Couple Leisure",
          "Couple Leisure",
          "Couple Leisure",
          "Solo Leisure",
          "Couple Leisure",
          "Business",
          "Couple Leisure",
          "Couple Leisure",
          "Couple Leisure",
          "Family Leisure",
          "Business",
          "Couple Leisure",
          "Business",
          "Solo Leisure",
          "Solo Leisure",
          "Solo Leisure",
          "Business",
          "Solo Leisure",
          "Business",
          "Couple Leisure",
          "Couple Leisure",
          "Couple Leisure",
          "Family Leisure",
          "Solo Leisure",
          "Business",
          "Business",
          "Couple Leisure",
          "Couple Leisure",
          "Couple Leisure",
          "Couple Leisure",
          "Business",
          "Couple Leisure",
          "Business",
          "Solo Leisure",
          "Business",
          "Couple Leisure",
          "Business",
          "Solo Leisure",
          "Family Leisure",
          "Couple Leisure",
          "Business",
          "Solo Leisure",
          "Solo Leisure",
          "Couple Leisure",
          "Couple Leisure",
          "Solo Leisure",
          "Family Leisure",
          "Couple Leisure",
          "Family Leisure",
          "Couple Leisure",
          "Couple Leisure",
          "Couple Leisure",
          "Couple Leisure",
          "Couple Leisure",
          "Couple Leisure",
          "Couple Leisure",
          "Solo Leisure",
          "Business",
          "Couple Leisure",
          "Business",
          "Couple Leisure",
          "Business",
          "Family Leisure",
          "Solo Leisure",
          "Solo Leisure",
          "Family Leisure",
          "Family Leisure",
          "Solo Leisure",
          "Couple Leisure",
          "Business",
          "Business",
          "Solo Leisure",
          "Business",
          "Family Leisure",
          "Couple Leisure",
          "Couple Leisure",
          "Business",
          "Solo Leisure",
          "Business",
          "Couple Leisure",
          "Business",
          "Couple Leisure",
          "Business",
          "Business",
          "Couple Leisure",
          "Business",
          "Couple Leisure",
          "Business",
          "Family Leisure",
          "Business",
          "Business",
          "Business",
          "Couple Leisure",
          "Couple Leisure",
          "Couple Leisure",
          "Business",
          "Couple Leisure",
          "Couple Leisure",
          "Solo Leisure",
          "Solo Leisure",
          "Business",
          "Couple Leisure",
          "Solo Leisure",
          "Solo Leisure",
          "Couple Leisure",
          "Family Leisure",
          "Couple Leisure",
          "Couple Leisure",
          "Business",
          "Solo Leisure",
          "Business",
          "Couple Leisure",
          "Business",
          "Business",
          "Couple Leisure",
          "Solo Leisure",
          "Couple Leisure",
          "Solo Leisure",
          "Family Leisure",
          "Couple Leisure",
          "Solo Leisure",
          "Couple Leisure",
          "Couple Leisure",
          "Couple Leisure",
          "Business",
          "Business",
          "Couple Leisure",
          "Business",
          "Business",
          "Couple Leisure",
          "Solo Leisure",
          "Business",
          "Solo Leisure",
          "Solo Leisure",
          "Business",
          "Couple Leisure",
          "Solo Leisure",
          "Business",
          "Couple Leisure",
          "Business",
          "Solo Leisure",
          "Couple Leisure",
          "Couple Leisure",
          "Solo Leisure",
          "Solo Leisure",
          "Business",
          "Business",
          "Business",
          "Business",
          "Family Leisure",
          "Solo Leisure",
          "Couple Leisure",
          "Business",
          "Business",
          "Solo Leisure",
          "Business",
          "Couple Leisure",
          "Solo Leisure",
          "Business",
          "Solo Leisure",
          "Couple Leisure",
          "Business",
          "Couple Leisure",
          "Solo Leisure",
          "Solo Leisure",
          "Solo Leisure",
          "Couple Leisure",
          "Solo Leisure",
          "Solo Leisure",
          "Solo Leisure",
          "Solo Leisure",
          "Business",
          "Couple Leisure",
          "Business",
          "Business",
          "Solo Leisure",
          "Business",
          "Couple Leisure",
          "Solo Leisure",
          "Couple Leisure",
          "Couple Leisure",
          "Business",
          "Couple Leisure",
          "Solo Leisure",
          "Business",
          "Couple Leisure",
          "Solo Leisure",
          "Couple Leisure",
          "Solo Leisure",
          "Solo Leisure",
          "Couple Leisure",
          "Couple Leisure",
          "Solo Leisure",
          "Couple Leisure",
          "Solo Leisure",
          "Solo Leisure",
          "Family Leisure",
          "Couple Leisure",
          "Couple Leisure",
          "Family Leisure",
          "Couple Leisure",
          "Couple Leisure",
          "Solo Leisure",
          "Couple Leisure",
          "Solo Leisure",
          "Solo Leisure",
          "Couple Leisure",
          "Solo Leisure",
          "Couple Leisure",
          "Couple Leisure",
          "Business",
          "Couple Leisure",
          "Solo Leisure",
          "Business",
          "Solo Leisure",
          "Solo Leisure",
          "Family Leisure",
          "Business",
          "Solo Leisure",
          "Business",
          "Solo Leisure",
          "Business",
          "Solo Leisure",
          "Solo Leisure",
          "Business",
          "Couple Leisure",
          "Family Leisure",
          "Couple Leisure",
          "Business",
          "Family Leisure",
          "Solo Leisure",
          "Business",
          "Couple Leisure",
          "Business",
          "Solo Leisure",
          "Solo Leisure",
          "Business",
          "Business",
          "Business",
          "Business",
          "Business",
          "Business",
          "Couple Leisure",
          "Solo Leisure",
          "Business",
          "Family Leisure",
          "Business",
          "Family Leisure",
          "Couple Leisure",
          "Solo Leisure",
          "Solo Leisure",
          "Couple Leisure",
          "Couple Leisure",
          "Solo Leisure",
          "Couple Leisure",
          "Business",
          "Family Leisure",
          "Couple Leisure",
          "Solo Leisure",
          "Solo Leisure",
          "Solo Leisure",
          "Couple Leisure",
          "Business",
          "Business",
          "Couple Leisure",
          "Family Leisure",
          "Business",
          "Solo Leisure",
          "Couple Leisure",
          "Couple Leisure",
          "Business",
          "Solo Leisure",
          "Couple Leisure",
          "Family Leisure",
          "Solo Leisure",
          "Solo Leisure",
          "Solo Leisure",
          "Couple Leisure",
          "Couple Leisure",
          "Couple Leisure",
          "Family Leisure",
          "Couple Leisure",
          "Couple Leisure",
          "Solo Leisure",
          "Solo Leisure",
          "Business",
          "Couple Leisure",
          "Business",
          "Business",
          "Family Leisure",
          "Family Leisure",
          "Family Leisure",
          "Solo Leisure",
          "Business",
          "Couple Leisure",
          "Couple Leisure",
          "Family Leisure",
          "Couple Leisure",
          "Business",
          "Couple Leisure",
          "Solo Leisure",
          "Solo Leisure",
          "Business",
          "Solo Leisure",
          "Family Leisure",
          "Family Leisure",
          "Business",
          "Business",
          "Solo Leisure",
          "Family Leisure",
          "Family Leisure",
          "Business",
          "Solo Leisure",
          "Family Leisure",
          "Solo Leisure",
          "Solo Leisure",
          "Business",
          "Couple Leisure",
          "Solo Leisure",
          "Couple Leisure",
          "Business",
          "Solo Leisure",
          "Solo Leisure",
          "Couple Leisure",
          "Family Leisure",
          "Business",
          "Solo Leisure",
          "Family Leisure",
          "Business",
          "Solo Leisure",
          "Business",
          "Business",
          "Solo Leisure",
          "Solo Leisure",
          "Couple Leisure",
          "Business",
          "Couple Leisure",
          "Couple Leisure",
          "Couple Leisure",
          "Solo Leisure",
          "Couple Leisure",
          "Couple Leisure",
          "Couple Leisure",
          "Solo Leisure",
          "Couple Leisure",
          "Business",
          "Solo Leisure",
          "Couple Leisure",
          "Solo Leisure",
          "Couple Leisure",
          "Couple Leisure",
          "Solo Leisure",
          "Solo Leisure",
          "Couple Leisure",
          "Family Leisure",
          "Business",
          "Couple Leisure",
          "Couple Leisure",
          "Couple Leisure",
          "Couple Leisure",
          "Couple Leisure",
          "Couple Leisure",
          "Family Leisure",
          "Solo Leisure",
          "Business",
          "Solo Leisure",
          "Business",
          "Solo Leisure",
          "Family Leisure",
          "Family Leisure",
          "Business",
          "Solo Leisure",
          "Business",
          "Business",
          "Solo Leisure",
          "Solo Leisure",
          "Solo Leisure",
          "Couple Leisure",
          "Solo Leisure",
          "Couple Leisure",
          "Business",
          "Solo Leisure",
          "Solo Leisure",
          "Couple Leisure",
          "Solo Leisure",
          "Couple Leisure",
          "Business",
          "Family Leisure",
          "Family Leisure",
          "Solo Leisure",
          "Couple Leisure",
          "Couple Leisure",
          "Solo Leisure",
          "Solo Leisure"
         ],
         "x0": " ",
         "xaxis": "x",
         "y": [
          2,
          2,
          2,
          4,
          1,
          2,
          2,
          3,
          3,
          -1,
          1,
          3,
          4,
          1,
          1,
          1,
          1,
          2,
          4,
          3,
          4,
          4,
          4,
          3,
          3,
          5,
          4,
          3,
          1,
          3,
          3,
          2,
          1,
          4,
          1,
          3,
          3,
          2,
          5,
          1,
          3,
          1,
          5,
          1,
          1,
          3,
          3,
          1,
          1,
          2,
          5,
          4,
          1,
          5,
          2,
          2,
          1,
          4,
          3,
          2,
          2,
          4,
          3,
          1,
          5,
          4,
          4,
          2,
          3,
          4,
          4,
          3,
          1,
          4,
          4,
          1,
          2,
          5,
          5,
          1,
          3,
          2,
          2,
          2,
          3,
          2,
          5,
          5,
          5,
          4,
          4,
          4,
          5,
          4,
          3,
          1,
          3,
          1,
          4,
          5,
          3,
          3,
          4,
          3,
          2,
          2,
          4,
          1,
          2,
          5,
          3,
          2,
          1,
          3,
          2,
          3,
          4,
          4,
          1,
          2,
          3,
          5,
          3,
          1,
          5,
          3,
          3,
          1,
          3,
          5,
          4,
          1,
          5,
          2,
          2,
          4,
          4,
          1,
          5,
          4,
          4,
          5,
          2,
          1,
          4,
          1,
          1,
          3,
          4,
          4,
          4,
          3,
          1,
          1,
          1,
          3,
          1,
          4,
          4,
          5,
          4,
          4,
          4,
          1,
          3,
          2,
          5,
          5,
          2,
          3,
          4,
          1,
          1,
          3,
          5,
          4,
          2,
          3,
          5,
          5,
          4,
          2,
          1,
          2,
          4,
          4,
          3,
          2,
          2,
          4,
          5,
          3,
          3,
          3,
          3,
          1,
          4,
          3,
          2,
          4,
          -1,
          4,
          4,
          3,
          2,
          2,
          3,
          2,
          3,
          4,
          4,
          1,
          5,
          4,
          1,
          4,
          -1,
          1,
          3,
          3,
          4,
          1,
          3,
          2,
          2,
          4,
          2,
          4,
          4,
          5,
          1,
          3,
          4,
          5,
          1,
          3,
          4,
          1,
          3,
          3,
          4,
          5,
          4,
          3,
          1,
          4,
          5,
          1,
          4,
          4,
          4,
          4,
          2,
          4,
          3,
          1,
          5,
          4,
          2,
          1,
          5,
          3,
          -1,
          5,
          5,
          5,
          3,
          -1,
          1,
          1,
          3,
          5,
          4,
          4,
          1,
          4,
          -1,
          3,
          1,
          1,
          -1,
          4,
          2,
          5,
          3,
          2,
          5,
          4,
          3,
          2,
          2,
          4,
          4,
          1,
          3,
          5,
          4,
          3,
          4,
          2,
          4,
          5,
          1,
          3,
          3,
          1,
          2,
          5,
          3,
          3,
          5,
          3,
          2,
          2,
          3,
          2,
          4,
          3,
          1,
          3,
          4,
          3,
          3,
          1,
          3,
          4,
          1,
          3,
          5,
          4,
          1,
          1,
          2,
          1,
          4,
          4,
          4,
          5,
          4,
          5,
          3,
          2,
          1,
          4,
          3,
          5,
          5,
          4,
          1,
          4,
          1,
          5,
          5,
          4,
          3,
          1,
          1,
          5,
          4,
          1,
          5,
          5,
          1,
          4,
          5,
          3,
          5,
          5,
          5,
          4,
          4,
          3,
          1,
          5,
          4,
          3,
          3,
          2,
          5,
          4,
          1,
          4,
          2,
          3,
          1,
          4,
          1,
          5,
          1,
          1,
          3,
          4,
          4,
          1,
          4,
          4,
          4,
          1,
          1,
          5,
          3,
          4,
          2,
          1,
          1,
          2,
          4,
          1,
          5,
          2,
          3,
          2,
          3,
          1,
          1,
          3,
          4,
          3,
          5,
          1,
          1,
          3,
          4,
          4,
          3,
          5,
          -1,
          1,
          2,
          1,
          2,
          1,
          3,
          3,
          1,
          5,
          4,
          3,
          4,
          4,
          3,
          1,
          2,
          3,
          5,
          4,
          4,
          2,
          1,
          3,
          4,
          4,
          5,
          2,
          5,
          5,
          3,
          4,
          4,
          4,
          2,
          3,
          5,
          1,
          5,
          1,
          1,
          1,
          5,
          3,
          3,
          4,
          2,
          2,
          4,
          5,
          3,
          2,
          5,
          2,
          4,
          1,
          1,
          1,
          1,
          1,
          2,
          3,
          5,
          4,
          4,
          1,
          3,
          5,
          4,
          5,
          3,
          3,
          3,
          3,
          3,
          4,
          3,
          4,
          5,
          1,
          1,
          3,
          5,
          1,
          1,
          1,
          3,
          3,
          2,
          1,
          4,
          1,
          1,
          1,
          2,
          4,
          5,
          4,
          5,
          1,
          3,
          1,
          1,
          1,
          2,
          2,
          5,
          1,
          4,
          1,
          4,
          2,
          2,
          2,
          1,
          1,
          2,
          5,
          2,
          5,
          5,
          2,
          3,
          1,
          1,
          -1,
          5,
          4,
          3,
          2,
          1,
          4,
          5,
          1,
          4,
          2,
          2,
          2,
          5,
          3,
          1,
          2,
          2,
          4,
          1,
          1,
          5,
          5,
          1,
          3,
          4,
          1,
          1,
          5,
          4,
          3,
          4,
          2,
          3,
          2,
          2,
          3,
          5,
          4,
          4,
          3,
          5,
          5,
          1,
          5,
          3,
          1,
          4,
          3,
          4,
          3,
          3,
          4,
          3,
          3,
          2,
          4,
          4,
          4,
          5,
          3,
          3,
          3,
          2,
          4,
          3,
          3,
          4,
          4,
          4,
          4,
          4,
          1,
          1,
          1,
          3,
          1,
          4,
          2,
          5,
          2,
          3,
          3,
          4,
          1,
          1,
          3,
          2,
          2,
          2,
          2,
          3,
          5,
          4,
          3,
          5,
          2,
          3,
          4,
          3,
          1,
          3,
          5,
          4,
          1,
          4,
          4,
          3,
          4,
          3,
          1,
          3,
          4,
          2,
          3,
          1,
          4,
          5,
          4,
          4,
          2,
          4,
          3,
          4,
          1,
          4,
          2,
          4,
          1,
          1,
          2,
          1,
          4,
          3,
          2,
          1,
          2,
          1,
          1,
          4,
          2,
          2,
          4,
          3,
          5,
          2,
          3,
          1,
          1,
          2,
          4,
          2,
          1,
          1,
          1,
          3,
          3,
          5,
          1,
          1,
          1,
          3,
          2,
          4,
          2,
          4,
          5,
          3,
          3,
          5,
          1,
          2,
          3,
          3,
          5,
          1,
          3,
          1,
          2,
          5,
          5,
          4,
          1,
          3,
          3,
          5,
          5,
          4,
          1,
          2,
          5,
          4,
          1,
          1,
          4,
          4,
          3,
          2,
          1,
          3,
          1,
          1,
          5,
          5,
          4,
          4,
          1,
          2,
          2,
          3,
          3,
          2,
          4,
          4,
          1,
          3,
          4,
          2,
          3,
          2,
          1,
          1,
          4,
          2,
          5,
          5,
          4,
          3,
          4,
          3,
          3,
          1,
          4,
          1,
          3,
          3,
          2,
          3,
          2,
          1,
          2,
          3,
          4,
          4,
          3,
          3,
          1,
          2,
          3,
          3,
          1,
          1,
          5,
          4,
          4,
          2,
          3,
          5,
          5,
          3,
          3,
          3,
          4,
          4,
          2,
          2,
          1,
          3,
          5,
          1,
          3,
          3,
          5,
          4,
          3,
          2,
          1,
          2,
          3,
          2,
          3,
          4,
          1,
          4,
          3,
          4,
          4,
          3,
          2,
          4,
          2,
          3,
          2,
          4,
          3,
          3,
          3,
          1,
          3,
          2,
          3,
          2,
          2,
          3,
          4,
          1,
          5,
          2,
          1,
          1,
          3,
          1,
          3,
          2,
          1,
          3,
          1,
          4,
          1,
          3,
          5,
          2,
          3,
          3,
          2,
          2,
          2,
          2,
          1,
          4,
          4,
          1,
          3,
          1,
          3,
          4,
          1,
          4,
          4,
          4,
          1,
          1,
          3,
          2,
          4,
          2,
          1,
          2,
          5,
          1,
          3,
          2,
          2,
          1,
          1,
          4,
          2,
          3,
          3,
          1,
          4,
          4,
          2,
          4,
          1,
          2,
          3,
          1,
          2,
          2,
          1,
          1,
          1,
          2,
          4,
          3,
          2,
          3,
          1,
          4,
          3,
          1,
          5,
          1,
          1,
          1,
          4,
          2,
          3,
          4,
          4,
          1,
          3,
          4,
          4,
          2,
          3,
          3,
          4,
          4,
          3,
          5,
          4,
          3,
          3,
          1,
          1,
          4,
          1,
          2,
          4,
          3,
          3,
          2,
          4,
          3,
          1,
          1,
          1,
          -1,
          3,
          2,
          3,
          4,
          4,
          5,
          3,
          5,
          3,
          3,
          2,
          4,
          2,
          5,
          4,
          3,
          1,
          5,
          2,
          2,
          2,
          2,
          5,
          1,
          3,
          5,
          2,
          4,
          2,
          1,
          1,
          4,
          5,
          5,
          3,
          1,
          2,
          2,
          1,
          1,
          3,
          3,
          3,
          3,
          3,
          2,
          4,
          5,
          4,
          1,
          3,
          4,
          4,
          4,
          2,
          1,
          4,
          1,
          1,
          1,
          3,
          3,
          4,
          2,
          4,
          3,
          4,
          2,
          2,
          3,
          1,
          2,
          2,
          2,
          3,
          3,
          3,
          3,
          1,
          5,
          1,
          5,
          5,
          1,
          5,
          1,
          5,
          2,
          4,
          4,
          2,
          5,
          3,
          1,
          4,
          3,
          1,
          4,
          4,
          3,
          2,
          4,
          2,
          5,
          1,
          4,
          3,
          1,
          2,
          5,
          2,
          2,
          1,
          3,
          2,
          4,
          4,
          -1,
          4,
          2,
          2,
          5,
          3,
          3,
          1,
          4,
          1,
          1,
          5,
          3,
          1,
          4,
          2,
          2,
          5,
          2,
          3,
          4,
          5,
          3,
          1,
          3,
          2,
          2,
          2,
          1,
          3,
          3,
          3,
          1,
          2,
          4,
          3,
          3,
          5,
          4,
          1,
          4,
          1,
          1,
          1,
          3,
          3,
          3,
          3,
          4,
          5,
          2,
          4,
          1,
          3,
          4,
          4,
          1,
          1,
          1,
          3,
          2,
          4,
          5,
          2,
          3,
          4,
          3,
          5,
          2,
          2,
          1,
          1,
          4,
          5,
          5,
          5,
          4,
          3,
          3,
          5,
          4,
          1,
          3,
          2,
          5,
          1,
          5,
          3,
          5,
          3,
          3,
          2,
          1,
          5,
          2,
          3,
          3,
          2,
          1,
          2,
          4,
          5,
          3,
          4,
          1,
          3,
          3,
          1,
          2,
          4,
          2,
          1,
          4,
          4,
          2,
          2,
          3,
          4,
          5,
          3,
          3,
          3,
          3,
          4,
          3,
          4,
          2,
          2,
          1,
          4,
          3,
          2,
          2,
          3,
          1,
          4,
          1,
          1,
          3,
          3,
          3,
          3,
          4,
          3,
          1,
          4,
          4,
          1,
          2,
          5,
          5,
          4,
          5,
          1,
          3,
          5,
          3,
          3,
          3,
          1,
          3,
          5,
          1,
          3,
          4,
          4,
          4,
          4,
          3,
          5,
          4,
          5,
          4,
          1,
          1,
          5,
          4,
          4,
          4,
          1,
          4,
          4,
          5,
          4,
          1,
          5,
          1,
          4,
          4,
          1,
          4,
          4,
          4,
          5,
          3,
          4,
          4,
          4,
          4,
          4,
          4,
          2,
          4,
          4,
          3,
          4,
          1,
          1,
          1,
          3,
          5,
          1,
          1,
          5,
          3,
          3,
          4,
          2,
          4,
          5,
          5,
          5,
          4,
          1,
          3,
          4,
          3,
          3,
          3,
          3,
          3,
          3,
          3,
          3,
          3,
          2
         ],
         "y0": " ",
         "yaxis": "y"
        }
       ],
       "layout": {
        "autosize": true,
        "boxmode": "group",
        "legend": {
         "tracegroupgap": 0
        },
        "template": {
         "data": {
          "bar": [
           {
            "error_x": {
             "color": "#2a3f5f"
            },
            "error_y": {
             "color": "#2a3f5f"
            },
            "marker": {
             "line": {
              "color": "#E5ECF6",
              "width": 0.5
             },
             "pattern": {
              "fillmode": "overlay",
              "size": 10,
              "solidity": 0.2
             }
            },
            "type": "bar"
           }
          ],
          "barpolar": [
           {
            "marker": {
             "line": {
              "color": "#E5ECF6",
              "width": 0.5
             },
             "pattern": {
              "fillmode": "overlay",
              "size": 10,
              "solidity": 0.2
             }
            },
            "type": "barpolar"
           }
          ],
          "carpet": [
           {
            "aaxis": {
             "endlinecolor": "#2a3f5f",
             "gridcolor": "white",
             "linecolor": "white",
             "minorgridcolor": "white",
             "startlinecolor": "#2a3f5f"
            },
            "baxis": {
             "endlinecolor": "#2a3f5f",
             "gridcolor": "white",
             "linecolor": "white",
             "minorgridcolor": "white",
             "startlinecolor": "#2a3f5f"
            },
            "type": "carpet"
           }
          ],
          "choropleth": [
           {
            "colorbar": {
             "outlinewidth": 0,
             "ticks": ""
            },
            "type": "choropleth"
           }
          ],
          "contour": [
           {
            "colorbar": {
             "outlinewidth": 0,
             "ticks": ""
            },
            "colorscale": [
             [
              0,
              "#0d0887"
             ],
             [
              0.1111111111111111,
              "#46039f"
             ],
             [
              0.2222222222222222,
              "#7201a8"
             ],
             [
              0.3333333333333333,
              "#9c179e"
             ],
             [
              0.4444444444444444,
              "#bd3786"
             ],
             [
              0.5555555555555556,
              "#d8576b"
             ],
             [
              0.6666666666666666,
              "#ed7953"
             ],
             [
              0.7777777777777778,
              "#fb9f3a"
             ],
             [
              0.8888888888888888,
              "#fdca26"
             ],
             [
              1,
              "#f0f921"
             ]
            ],
            "type": "contour"
           }
          ],
          "contourcarpet": [
           {
            "colorbar": {
             "outlinewidth": 0,
             "ticks": ""
            },
            "type": "contourcarpet"
           }
          ],
          "heatmap": [
           {
            "colorbar": {
             "outlinewidth": 0,
             "ticks": ""
            },
            "colorscale": [
             [
              0,
              "#0d0887"
             ],
             [
              0.1111111111111111,
              "#46039f"
             ],
             [
              0.2222222222222222,
              "#7201a8"
             ],
             [
              0.3333333333333333,
              "#9c179e"
             ],
             [
              0.4444444444444444,
              "#bd3786"
             ],
             [
              0.5555555555555556,
              "#d8576b"
             ],
             [
              0.6666666666666666,
              "#ed7953"
             ],
             [
              0.7777777777777778,
              "#fb9f3a"
             ],
             [
              0.8888888888888888,
              "#fdca26"
             ],
             [
              1,
              "#f0f921"
             ]
            ],
            "type": "heatmap"
           }
          ],
          "heatmapgl": [
           {
            "colorbar": {
             "outlinewidth": 0,
             "ticks": ""
            },
            "colorscale": [
             [
              0,
              "#0d0887"
             ],
             [
              0.1111111111111111,
              "#46039f"
             ],
             [
              0.2222222222222222,
              "#7201a8"
             ],
             [
              0.3333333333333333,
              "#9c179e"
             ],
             [
              0.4444444444444444,
              "#bd3786"
             ],
             [
              0.5555555555555556,
              "#d8576b"
             ],
             [
              0.6666666666666666,
              "#ed7953"
             ],
             [
              0.7777777777777778,
              "#fb9f3a"
             ],
             [
              0.8888888888888888,
              "#fdca26"
             ],
             [
              1,
              "#f0f921"
             ]
            ],
            "type": "heatmapgl"
           }
          ],
          "histogram": [
           {
            "marker": {
             "pattern": {
              "fillmode": "overlay",
              "size": 10,
              "solidity": 0.2
             }
            },
            "type": "histogram"
           }
          ],
          "histogram2d": [
           {
            "colorbar": {
             "outlinewidth": 0,
             "ticks": ""
            },
            "colorscale": [
             [
              0,
              "#0d0887"
             ],
             [
              0.1111111111111111,
              "#46039f"
             ],
             [
              0.2222222222222222,
              "#7201a8"
             ],
             [
              0.3333333333333333,
              "#9c179e"
             ],
             [
              0.4444444444444444,
              "#bd3786"
             ],
             [
              0.5555555555555556,
              "#d8576b"
             ],
             [
              0.6666666666666666,
              "#ed7953"
             ],
             [
              0.7777777777777778,
              "#fb9f3a"
             ],
             [
              0.8888888888888888,
              "#fdca26"
             ],
             [
              1,
              "#f0f921"
             ]
            ],
            "type": "histogram2d"
           }
          ],
          "histogram2dcontour": [
           {
            "colorbar": {
             "outlinewidth": 0,
             "ticks": ""
            },
            "colorscale": [
             [
              0,
              "#0d0887"
             ],
             [
              0.1111111111111111,
              "#46039f"
             ],
             [
              0.2222222222222222,
              "#7201a8"
             ],
             [
              0.3333333333333333,
              "#9c179e"
             ],
             [
              0.4444444444444444,
              "#bd3786"
             ],
             [
              0.5555555555555556,
              "#d8576b"
             ],
             [
              0.6666666666666666,
              "#ed7953"
             ],
             [
              0.7777777777777778,
              "#fb9f3a"
             ],
             [
              0.8888888888888888,
              "#fdca26"
             ],
             [
              1,
              "#f0f921"
             ]
            ],
            "type": "histogram2dcontour"
           }
          ],
          "mesh3d": [
           {
            "colorbar": {
             "outlinewidth": 0,
             "ticks": ""
            },
            "type": "mesh3d"
           }
          ],
          "parcoords": [
           {
            "line": {
             "colorbar": {
              "outlinewidth": 0,
              "ticks": ""
             }
            },
            "type": "parcoords"
           }
          ],
          "pie": [
           {
            "automargin": true,
            "type": "pie"
           }
          ],
          "scatter": [
           {
            "fillpattern": {
             "fillmode": "overlay",
             "size": 10,
             "solidity": 0.2
            },
            "type": "scatter"
           }
          ],
          "scatter3d": [
           {
            "line": {
             "colorbar": {
              "outlinewidth": 0,
              "ticks": ""
             }
            },
            "marker": {
             "colorbar": {
              "outlinewidth": 0,
              "ticks": ""
             }
            },
            "type": "scatter3d"
           }
          ],
          "scattercarpet": [
           {
            "marker": {
             "colorbar": {
              "outlinewidth": 0,
              "ticks": ""
             }
            },
            "type": "scattercarpet"
           }
          ],
          "scattergeo": [
           {
            "marker": {
             "colorbar": {
              "outlinewidth": 0,
              "ticks": ""
             }
            },
            "type": "scattergeo"
           }
          ],
          "scattergl": [
           {
            "marker": {
             "colorbar": {
              "outlinewidth": 0,
              "ticks": ""
             }
            },
            "type": "scattergl"
           }
          ],
          "scattermapbox": [
           {
            "marker": {
             "colorbar": {
              "outlinewidth": 0,
              "ticks": ""
             }
            },
            "type": "scattermapbox"
           }
          ],
          "scatterpolar": [
           {
            "marker": {
             "colorbar": {
              "outlinewidth": 0,
              "ticks": ""
             }
            },
            "type": "scatterpolar"
           }
          ],
          "scatterpolargl": [
           {
            "marker": {
             "colorbar": {
              "outlinewidth": 0,
              "ticks": ""
             }
            },
            "type": "scatterpolargl"
           }
          ],
          "scatterternary": [
           {
            "marker": {
             "colorbar": {
              "outlinewidth": 0,
              "ticks": ""
             }
            },
            "type": "scatterternary"
           }
          ],
          "surface": [
           {
            "colorbar": {
             "outlinewidth": 0,
             "ticks": ""
            },
            "colorscale": [
             [
              0,
              "#0d0887"
             ],
             [
              0.1111111111111111,
              "#46039f"
             ],
             [
              0.2222222222222222,
              "#7201a8"
             ],
             [
              0.3333333333333333,
              "#9c179e"
             ],
             [
              0.4444444444444444,
              "#bd3786"
             ],
             [
              0.5555555555555556,
              "#d8576b"
             ],
             [
              0.6666666666666666,
              "#ed7953"
             ],
             [
              0.7777777777777778,
              "#fb9f3a"
             ],
             [
              0.8888888888888888,
              "#fdca26"
             ],
             [
              1,
              "#f0f921"
             ]
            ],
            "type": "surface"
           }
          ],
          "table": [
           {
            "cells": {
             "fill": {
              "color": "#EBF0F8"
             },
             "line": {
              "color": "white"
             }
            },
            "header": {
             "fill": {
              "color": "#C8D4E3"
             },
             "line": {
              "color": "white"
             }
            },
            "type": "table"
           }
          ]
         },
         "layout": {
          "annotationdefaults": {
           "arrowcolor": "#2a3f5f",
           "arrowhead": 0,
           "arrowwidth": 1
          },
          "autotypenumbers": "strict",
          "coloraxis": {
           "colorbar": {
            "outlinewidth": 0,
            "ticks": ""
           }
          },
          "colorscale": {
           "diverging": [
            [
             0,
             "#8e0152"
            ],
            [
             0.1,
             "#c51b7d"
            ],
            [
             0.2,
             "#de77ae"
            ],
            [
             0.3,
             "#f1b6da"
            ],
            [
             0.4,
             "#fde0ef"
            ],
            [
             0.5,
             "#f7f7f7"
            ],
            [
             0.6,
             "#e6f5d0"
            ],
            [
             0.7,
             "#b8e186"
            ],
            [
             0.8,
             "#7fbc41"
            ],
            [
             0.9,
             "#4d9221"
            ],
            [
             1,
             "#276419"
            ]
           ],
           "sequential": [
            [
             0,
             "#0d0887"
            ],
            [
             0.1111111111111111,
             "#46039f"
            ],
            [
             0.2222222222222222,
             "#7201a8"
            ],
            [
             0.3333333333333333,
             "#9c179e"
            ],
            [
             0.4444444444444444,
             "#bd3786"
            ],
            [
             0.5555555555555556,
             "#d8576b"
            ],
            [
             0.6666666666666666,
             "#ed7953"
            ],
            [
             0.7777777777777778,
             "#fb9f3a"
            ],
            [
             0.8888888888888888,
             "#fdca26"
            ],
            [
             1,
             "#f0f921"
            ]
           ],
           "sequentialminus": [
            [
             0,
             "#0d0887"
            ],
            [
             0.1111111111111111,
             "#46039f"
            ],
            [
             0.2222222222222222,
             "#7201a8"
            ],
            [
             0.3333333333333333,
             "#9c179e"
            ],
            [
             0.4444444444444444,
             "#bd3786"
            ],
            [
             0.5555555555555556,
             "#d8576b"
            ],
            [
             0.6666666666666666,
             "#ed7953"
            ],
            [
             0.7777777777777778,
             "#fb9f3a"
            ],
            [
             0.8888888888888888,
             "#fdca26"
            ],
            [
             1,
             "#f0f921"
            ]
           ]
          },
          "colorway": [
           "#636efa",
           "#EF553B",
           "#00cc96",
           "#ab63fa",
           "#FFA15A",
           "#19d3f3",
           "#FF6692",
           "#B6E880",
           "#FF97FF",
           "#FECB52"
          ],
          "font": {
           "color": "#2a3f5f"
          },
          "geo": {
           "bgcolor": "white",
           "lakecolor": "white",
           "landcolor": "#E5ECF6",
           "showlakes": true,
           "showland": true,
           "subunitcolor": "white"
          },
          "hoverlabel": {
           "align": "left"
          },
          "hovermode": "closest",
          "mapbox": {
           "style": "light"
          },
          "paper_bgcolor": "white",
          "plot_bgcolor": "#E5ECF6",
          "polar": {
           "angularaxis": {
            "gridcolor": "white",
            "linecolor": "white",
            "ticks": ""
           },
           "bgcolor": "#E5ECF6",
           "radialaxis": {
            "gridcolor": "white",
            "linecolor": "white",
            "ticks": ""
           }
          },
          "scene": {
           "xaxis": {
            "backgroundcolor": "#E5ECF6",
            "gridcolor": "white",
            "gridwidth": 2,
            "linecolor": "white",
            "showbackground": true,
            "ticks": "",
            "zerolinecolor": "white"
           },
           "yaxis": {
            "backgroundcolor": "#E5ECF6",
            "gridcolor": "white",
            "gridwidth": 2,
            "linecolor": "white",
            "showbackground": true,
            "ticks": "",
            "zerolinecolor": "white"
           },
           "zaxis": {
            "backgroundcolor": "#E5ECF6",
            "gridcolor": "white",
            "gridwidth": 2,
            "linecolor": "white",
            "showbackground": true,
            "ticks": "",
            "zerolinecolor": "white"
           }
          },
          "shapedefaults": {
           "line": {
            "color": "#2a3f5f"
           }
          },
          "ternary": {
           "aaxis": {
            "gridcolor": "white",
            "linecolor": "white",
            "ticks": ""
           },
           "baxis": {
            "gridcolor": "white",
            "linecolor": "white",
            "ticks": ""
           },
           "bgcolor": "#E5ECF6",
           "caxis": {
            "gridcolor": "white",
            "linecolor": "white",
            "ticks": ""
           }
          },
          "title": {
           "x": 0.05
          },
          "xaxis": {
           "automargin": true,
           "gridcolor": "white",
           "linecolor": "white",
           "ticks": "",
           "title": {
            "standoff": 15
           },
           "zerolinecolor": "white",
           "zerolinewidth": 2
          },
          "yaxis": {
           "automargin": true,
           "gridcolor": "white",
           "linecolor": "white",
           "ticks": "",
           "title": {
            "standoff": 15
           },
           "zerolinecolor": "white",
           "zerolinewidth": 2
          }
         }
        },
        "title": {
         "text": "Seat Comfort Ratings by Traveller Type"
        },
        "xaxis": {
         "anchor": "y",
         "autorange": true,
         "domain": [
          0,
          1
         ],
         "range": [
          -0.5,
          3.5
         ],
         "title": {
          "text": "Traveller Type"
         },
         "type": "category"
        },
        "yaxis": {
         "anchor": "x",
         "autorange": true,
         "domain": [
          0,
          1
         ],
         "range": [
          -1.3333333333333333,
          5.333333333333333
         ],
         "title": {
          "text": "Seat Comfort Rating"
         },
         "type": "linear"
        }
       }
      },
      "image/png": "[encoded data removed]",
      "text/html": [
       "<div>                            <div id=\"c0c64b65-983c-4eac-b280-8c369cde26ca\" class=\"plotly-graph-div\" style=\"height:525px; width:100%;\"></div>            <script type=\"text/javascript\">                require([\"plotly\"], function(Plotly) {                    window.PLOTLYENV=window.PLOTLYENV || {};                                    if (document.getElementById(\"c0c64b65-983c-4eac-b280-8c369cde26ca\")) {                    Plotly.newPlot(                        \"c0c64b65-983c-4eac-b280-8c369cde26ca\",                        [{\"alignmentgroup\":\"True\",\"hovertemplate\":\"traveller_type=%{x}<br>seat_comfort=%{y}<extra></extra>\",\"legendgroup\":\"\",\"marker\":{\"color\":\"#636efa\"},\"name\":\"\",\"notched\":false,\"offsetgroup\":\"\",\"orientation\":\"v\",\"showlegend\":false,\"x\":[\"Couple Leisure\",\"Business\",\"Couple Leisure\",\"Business\",\"Couple Leisure\",\"Business\",\"Business\",\"Couple Leisure\",\"Couple Leisure\",\"Couple Leisure\",\"Couple Leisure\",\"Couple Leisure\",\"Couple Leisure\",\"Solo Leisure\",null,\"Solo Leisure\",\"Couple Leisure\",\"Business\",\"Couple Leisure\",\"Solo Leisure\",\"Family Leisure\",\"Family Leisure\",\"Couple Leisure\",\"Business\",\"Business\",\"Solo Leisure\",\"Couple Leisure\",\"Couple Leisure\",\"Family Leisure\",\"Business\",\"Couple Leisure\",\"Solo Leisure\",\"Couple Leisure\",\"Family Leisure\",\"Solo Leisure\",\"Solo Leisure\",\"Couple Leisure\",\"Couple Leisure\",\"Family Leisure\",\"Couple Leisure\",\"Business\",\"Couple Leisure\",\"Solo Leisure\",\"Couple Leisure\",\"Solo Leisure\",\"Family Leisure\",\"Business\",\"Couple Leisure\",\"Family Leisure\",\"Business\",\"Solo Leisure\",\"Family Leisure\",\"Couple Leisure\",\"Solo Leisure\",\"Business\",\"Couple Leisure\",\"Solo Leisure\",\"Couple Leisure\",\"Couple Leisure\",\"Family Leisure\",\"Family Leisure\",\"Solo Leisure\",\"Business\",\"Couple Leisure\",\"Solo Leisure\",\"Couple Leisure\",\"Couple Leisure\",\"Business\",\"Business\",\"Solo Leisure\",\"Couple Leisure\",\"Couple Leisure\",\"Couple Leisure\",\"Solo Leisure\",\"Couple Leisure\",\"Couple Leisure\",\"Solo Leisure\",\"Business\",\"Solo Leisure\",\"Business\",\"Solo Leisure\",\"Business\",\"Business\",\"Couple Leisure\",\"Family Leisure\",\"Solo Leisure\",\"Couple Leisure\",\"Solo Leisure\",\"Business\",\"Solo Leisure\",\"Solo Leisure\",\"Couple Leisure\",\"Couple Leisure\",\"Family Leisure\",\"Couple Leisure\",\"Family Leisure\",\"Family Leisure\",\"Family Leisure\",\"Business\",\"Business\",\"Couple Leisure\",\"Solo Leisure\",\"Solo Leisure\",\"Couple Leisure\",\"Couple Leisure\",\"Solo Leisure\",\"Business\",\"Couple Leisure\",\"Solo Leisure\",\"Business\",\"Couple Leisure\",\"Solo Leisure\",\"Business\",\"Solo Leisure\",\"Solo Leisure\",\"Solo Leisure\",\"Solo Leisure\",\"Solo Leisure\",\"Solo Leisure\",\"Solo Leisure\",\"Solo Leisure\",\"Solo Leisure\",\"Solo Leisure\",\"Family Leisure\",\"Couple Leisure\",\"Solo Leisure\",\"Solo Leisure\",\"Couple Leisure\",\"Couple Leisure\",\"Couple Leisure\",\"Solo Leisure\",\"Couple Leisure\",\"Solo Leisure\",\"Business\",\"Couple Leisure\",\"Couple Leisure\",\"Couple Leisure\",\"Solo Leisure\",\"Solo Leisure\",\"Couple Leisure\",\"Family Leisure\",\"Couple Leisure\",\"Family Leisure\",\"Solo Leisure\",\"Family Leisure\",\"Solo Leisure\",\"Couple Leisure\",\"Couple Leisure\",\"Business\",\"Family Leisure\",\"Couple Leisure\",\"Solo Leisure\",\"Couple Leisure\",\"Business\",\"Couple Leisure\",\"Business\",\"Solo Leisure\",\"Couple Leisure\",\"Couple Leisure\",\"Couple Leisure\",\"Solo Leisure\",\"Business\",\"Couple Leisure\",\"Family Leisure\",\"Solo Leisure\",\"Couple Leisure\",\"Solo Leisure\",\"Solo Leisure\",\"Solo Leisure\",\"Family Leisure\",\"Couple Leisure\",\"Solo Leisure\",\"Couple Leisure\",\"Couple Leisure\",\"Solo Leisure\",\"Family Leisure\",\"Business\",\"Couple Leisure\",\"Business\",\"Solo Leisure\",\"Solo Leisure\",\"Couple Leisure\",\"Business\",\"Couple Leisure\",\"Business\",\"Couple Leisure\",\"Couple Leisure\",\"Business\",\"Couple Leisure\",\"Couple Leisure\",\"Solo Leisure\",\"Family Leisure\",\"Business\",\"Solo Leisure\",\"Couple Leisure\",\"Couple Leisure\",\"Solo Leisure\",\"Business\",\"Business\",\"Family Leisure\",\"Business\",\"Family Leisure\",\"Couple Leisure\",\"Couple Leisure\",\"Couple Leisure\",\"Couple Leisure\",\"Couple Leisure\",\"Business\",\"Couple Leisure\",\"Solo Leisure\",\"Solo Leisure\",\"Family Leisure\",\"Business\",\"Couple Leisure\",\"Solo Leisure\",\"Couple Leisure\",\"Solo Leisure\",\"Couple Leisure\",\"Business\",\"Solo Leisure\",\"Solo Leisure\",\"Solo Leisure\",\"Couple Leisure\",\"Couple Leisure\",\"Couple Leisure\",\"Business\",\"Family Leisure\",\"Couple Leisure\",\"Couple Leisure\",\"Family Leisure\",\"Business\",\"Family Leisure\",\"Business\",\"Business\",\"Family Leisure\",\"Couple Leisure\",\"Business\",\"Couple Leisure\",\"Couple Leisure\",\"Family Leisure\",\"Solo Leisure\",\"Solo Leisure\",\"Family Leisure\",\"Couple Leisure\",\"Solo Leisure\",\"Family Leisure\",\"Family Leisure\",\"Solo Leisure\",\"Couple Leisure\",\"Couple Leisure\",\"Solo Leisure\",\"Solo Leisure\",\"Business\",\"Solo Leisure\",\"Solo Leisure\",\"Family Leisure\",\"Solo Leisure\",\"Couple Leisure\",\"Couple Leisure\",\"Business\",\"Solo Leisure\",\"Business\",\"Solo Leisure\",\"Couple Leisure\",\"Couple Leisure\",\"Solo Leisure\",\"Solo Leisure\",\"Couple Leisure\",\"Business\",\"Business\",\"Solo Leisure\",\"Family Leisure\",\"Couple Leisure\",\"Couple Leisure\",\"Business\",\"Solo Leisure\",\"Business\",\"Solo Leisure\",\"Solo Leisure\",\"Couple Leisure\",\"Couple Leisure\",\"Solo Leisure\",\"Business\",\"Family Leisure\",\"Couple Leisure\",\"Business\",\"Business\",\"Couple Leisure\",\"Business\",\"Solo Leisure\",\"Solo Leisure\",\"Solo Leisure\",\"Solo Leisure\",\"Business\",\"Couple Leisure\",\"Solo Leisure\",\"Family Leisure\",\"Couple Leisure\",\"Couple Leisure\",\"Solo Leisure\",\"Solo Leisure\",\"Solo Leisure\",\"Business\",\"Couple Leisure\",\"Couple Leisure\",\"Family Leisure\",\"Solo Leisure\",\"Solo Leisure\",\"Family Leisure\",\"Solo Leisure\",\"Solo Leisure\",\"Solo Leisure\",\"Solo Leisure\",\"Business\",\"Business\",\"Couple Leisure\",\"Solo Leisure\",\"Solo Leisure\",\"Family Leisure\",\"Couple Leisure\",\"Solo Leisure\",\"Solo Leisure\",\"Couple Leisure\",\"Couple Leisure\",\"Solo Leisure\",\"Business\",\"Business\",\"Couple Leisure\",\"Family Leisure\",\"Couple Leisure\",\"Business\",\"Family Leisure\",\"Solo Leisure\",\"Couple Leisure\",\"Couple Leisure\",\"Solo Leisure\",\"Business\",\"Solo Leisure\",\"Couple Leisure\",\"Couple Leisure\",\"Couple Leisure\",\"Couple Leisure\",\"Solo Leisure\",\"Family Leisure\",\"Couple Leisure\",\"Couple Leisure\",\"Solo Leisure\",\"Business\",\"Solo Leisure\",\"Business\",\"Couple Leisure\",\"Solo Leisure\",\"Couple Leisure\",\"Couple Leisure\",\"Business\",\"Couple Leisure\",\"Couple Leisure\",\"Solo Leisure\",\"Couple Leisure\",\"Couple Leisure\",\"Couple Leisure\",\"Business\",\"Business\",\"Solo Leisure\",\"Family Leisure\",\"Couple Leisure\",\"Couple Leisure\",\"Business\",\"Solo Leisure\",\"Couple Leisure\",\"Couple Leisure\",\"Couple Leisure\",\"Family Leisure\",\"Solo Leisure\",\"Business\",\"Couple Leisure\",\"Business\",\"Solo Leisure\",\"Couple Leisure\",\"Couple Leisure\",\"Solo Leisure\",\"Couple Leisure\",\"Family Leisure\",\"Family Leisure\",\"Couple Leisure\",\"Business\",\"Couple Leisure\",\"Family Leisure\",\"Family Leisure\",\"Business\",\"Solo Leisure\",\"Family Leisure\",\"Family Leisure\",\"Family Leisure\",\"Family Leisure\",\"Family Leisure\",\"Solo Leisure\",\"Couple Leisure\",\"Couple Leisure\",\"Family Leisure\",\"Couple Leisure\",\"Family Leisure\",\"Solo Leisure\",\"Business\",\"Family Leisure\",\"Business\",\"Family Leisure\",\"Family Leisure\",\"Solo Leisure\",\"Solo Leisure\",\"Solo Leisure\",\"Couple Leisure\",\"Family Leisure\",\"Couple Leisure\",\"Solo Leisure\",\"Business\",\"Business\",\"Couple Leisure\",\"Solo Leisure\",\"Business\",\"Business\",\"Solo Leisure\",\"Family Leisure\",\"Couple Leisure\",\"Couple Leisure\",\"Couple Leisure\",\"Solo Leisure\",\"Business\",\"Family Leisure\",\"Solo Leisure\",\"Solo Leisure\",\"Business\",\"Solo Leisure\",\"Solo Leisure\",\"Business\",\"Solo Leisure\",\"Couple Leisure\",\"Business\",\"Couple Leisure\",\"Couple Leisure\",\"Couple Leisure\",\"Business\",\"Couple Leisure\",\"Couple Leisure\",\"Solo Leisure\",\"Solo Leisure\",\"Couple Leisure\",\"Business\",\"Business\",\"Business\",\"Couple Leisure\",\"Business\",\"Solo Leisure\",\"Business\",\"Solo Leisure\",\"Couple Leisure\",\"Couple Leisure\",\"Solo Leisure\",\"Business\",\"Family Leisure\",\"Business\",\"Family Leisure\",\"Couple Leisure\",\"Business\",\"Couple Leisure\",\"Couple Leisure\",\"Solo Leisure\",\"Solo Leisure\",\"Family Leisure\",\"Couple Leisure\",\"Solo Leisure\",\"Solo Leisure\",\"Business\",\"Business\",\"Couple Leisure\",\"Solo Leisure\",\"Business\",\"Couple Leisure\",\"Business\",\"Couple Leisure\",\"Business\",\"Family Leisure\",\"Couple Leisure\",\"Couple Leisure\",\"Business\",\"Business\",\"Business\",\"Business\",\"Business\",\"Family Leisure\",\"Business\",\"Couple Leisure\",\"Couple Leisure\",\"Couple Leisure\",\"Couple Leisure\",\"Couple Leisure\",\"Couple Leisure\",\"Family Leisure\",\"Family Leisure\",\"Solo Leisure\",\"Family Leisure\",\"Couple Leisure\",\"Couple Leisure\",\"Family Leisure\",\"Business\",\"Couple Leisure\",\"Solo Leisure\",\"Solo Leisure\",\"Solo Leisure\",\"Couple Leisure\",\"Solo Leisure\",\"Business\",\"Business\",\"Business\",\"Business\",\"Couple Leisure\",\"Solo Leisure\",\"Solo Leisure\",\"Business\",\"Couple Leisure\",\"Couple Leisure\",\"Couple Leisure\",\"Couple Leisure\",\"Solo Leisure\",\"Solo Leisure\",\"Family Leisure\",\"Solo Leisure\",\"Solo Leisure\",\"Couple Leisure\",\"Solo Leisure\",\"Solo Leisure\",\"Couple Leisure\",\"Solo Leisure\",\"Couple Leisure\",\"Couple Leisure\",\"Business\",\"Couple Leisure\",\"Business\",\"Couple Leisure\",\"Couple Leisure\",\"Couple Leisure\",\"Family Leisure\",\"Couple Leisure\",\"Business\",\"Solo Leisure\",\"Couple Leisure\",\"Family Leisure\",\"Solo Leisure\",\"Solo Leisure\",\"Couple Leisure\",\"Business\",\"Solo Leisure\",\"Family Leisure\",\"Solo Leisure\",\"Solo Leisure\",\"Solo Leisure\",\"Business\",\"Solo Leisure\",\"Solo Leisure\",\"Business\",\"Business\",\"Family Leisure\",\"Couple Leisure\",\"Family Leisure\",\"Solo Leisure\",\"Business\",\"Solo Leisure\",\"Business\",\"Business\",\"Solo Leisure\",\"Couple Leisure\",\"Solo Leisure\",\"Family Leisure\",\"Solo Leisure\",\"Family Leisure\",\"Business\",\"Couple Leisure\",\"Couple Leisure\",\"Couple Leisure\",\"Solo Leisure\",\"Couple Leisure\",\"Business\",\"Couple Leisure\",\"Couple Leisure\",\"Solo Leisure\",\"Couple Leisure\",\"Business\",\"Solo Leisure\",\"Solo Leisure\",\"Solo Leisure\",\"Family Leisure\",\"Solo Leisure\",\"Solo Leisure\",\"Solo Leisure\",\"Couple Leisure\",\"Family Leisure\",\"Couple Leisure\",\"Family Leisure\",\"Family Leisure\",\"Solo Leisure\",\"Couple Leisure\",\"Couple Leisure\",\"Couple Leisure\",\"Solo Leisure\",\"Couple Leisure\",\"Couple Leisure\",\"Family Leisure\",\"Business\",\"Couple Leisure\",\"Family Leisure\",\"Couple Leisure\",\"Solo Leisure\",\"Family Leisure\",\"Solo Leisure\",\"Couple Leisure\",\"Business\",\"Solo Leisure\",\"Solo Leisure\",\"Solo Leisure\",\"Solo Leisure\",\"Couple Leisure\",\"Solo Leisure\",\"Solo Leisure\",\"Business\",\"Family Leisure\",\"Couple Leisure\",\"Business\",\"Couple Leisure\",\"Solo Leisure\",\"Couple Leisure\",\"Couple Leisure\",\"Business\",\"Family Leisure\",\"Business\",\"Couple Leisure\",\"Solo Leisure\",\"Couple Leisure\",\"Business\",\"Couple Leisure\",\"Solo Leisure\",\"Couple Leisure\",\"Couple Leisure\",\"Solo Leisure\",\"Couple Leisure\",\"Couple Leisure\",\"Couple Leisure\",\"Solo Leisure\",\"Solo Leisure\",\"Solo Leisure\",\"Couple Leisure\",\"Solo Leisure\",\"Business\",\"Family Leisure\",\"Business\",\"Solo Leisure\",\"Couple Leisure\",\"Business\",\"Business\",\"Business\",\"Solo Leisure\",\"Business\",\"Couple Leisure\",\"Solo Leisure\",\"Solo Leisure\",\"Solo Leisure\",\"Business\",\"Solo Leisure\",\"Business\",\"Solo Leisure\",\"Solo Leisure\",\"Couple Leisure\",\"Couple Leisure\",\"Solo Leisure\",\"Solo Leisure\",\"Family Leisure\",\"Solo Leisure\",\"Business\",\"Business\",\"Family Leisure\",\"Couple Leisure\",\"Business\",\"Business\",\"Business\",\"Solo Leisure\",\"Solo Leisure\",\"Business\",\"Family Leisure\",\"Family Leisure\",\"Couple Leisure\",\"Family Leisure\",\"Family Leisure\",\"Couple Leisure\",\"Couple Leisure\",\"Family Leisure\",\"Business\",\"Solo Leisure\",\"Family Leisure\",\"Couple Leisure\",\"Business\",\"Couple Leisure\",\"Solo Leisure\",\"Business\",\"Business\",\"Business\",\"Business\",\"Business\",\"Solo Leisure\",\"Business\",\"Solo Leisure\",\"Couple Leisure\",\"Couple Leisure\",\"Business\",\"Solo Leisure\",\"Couple Leisure\",\"Solo Leisure\",\"Couple Leisure\",\"Couple Leisure\",\"Solo Leisure\",\"Solo Leisure\",\"Solo Leisure\",\"Solo Leisure\",\"Business\",\"Solo Leisure\",\"Couple Leisure\",\"Solo Leisure\",\"Solo Leisure\",\"Business\",\"Solo Leisure\",\"Business\",\"Solo Leisure\",\"Couple Leisure\",\"Solo Leisure\",\"Solo Leisure\",\"Business\",\"Business\",\"Solo Leisure\",\"Couple Leisure\",\"Solo Leisure\",\"Couple Leisure\",\"Solo Leisure\",\"Business\",\"Solo Leisure\",\"Family Leisure\",\"Couple Leisure\",\"Couple Leisure\",\"Family Leisure\",\"Solo Leisure\",\"Family Leisure\",\"Solo Leisure\",\"Solo Leisure\",\"Couple Leisure\",\"Family Leisure\",\"Family Leisure\",\"Solo Leisure\",\"Couple Leisure\",\"Solo Leisure\",\"Solo Leisure\",\"Family Leisure\",\"Business\",\"Solo Leisure\",\"Family Leisure\",\"Family Leisure\",\"Business\",\"Business\",\"Couple Leisure\",\"Couple Leisure\",\"Family Leisure\",\"Business\",\"Couple Leisure\",\"Couple Leisure\",\"Business\",\"Couple Leisure\",\"Business\",\"Couple Leisure\",\"Business\",\"Solo Leisure\",\"Solo Leisure\",\"Family Leisure\",\"Solo Leisure\",\"Couple Leisure\",\"Solo Leisure\",\"Solo Leisure\",\"Business\",\"Family Leisure\",\"Business\",\"Business\",\"Couple Leisure\",\"Business\",\"Couple Leisure\",\"Couple Leisure\",\"Solo Leisure\",\"Business\",\"Business\",\"Solo Leisure\",\"Solo Leisure\",\"Couple Leisure\",\"Solo Leisure\",\"Business\",\"Business\",\"Couple Leisure\",\"Couple Leisure\",\"Couple Leisure\",\"Business\",\"Family Leisure\",\"Solo Leisure\",\"Solo Leisure\",\"Solo Leisure\",\"Couple Leisure\",\"Family Leisure\",\"Family Leisure\",\"Couple Leisure\",\"Solo Leisure\",\"Couple Leisure\",\"Couple Leisure\",\"Solo Leisure\",\"Business\",\"Couple Leisure\",\"Business\",\"Solo Leisure\",\"Business\",\"Business\",\"Couple Leisure\",\"Couple Leisure\",\"Solo Leisure\",\"Solo Leisure\",\"Solo Leisure\",\"Couple Leisure\",\"Business\",\"Business\",\"Solo Leisure\",\"Couple Leisure\",\"Business\",\"Couple Leisure\",\"Couple Leisure\",\"Family Leisure\",\"Business\",\"Business\",\"Family Leisure\",\"Family Leisure\",\"Business\",\"Solo Leisure\",\"Couple Leisure\",\"Business\",\"Business\",\"Couple Leisure\",\"Business\",\"Family Leisure\",\"Couple Leisure\",\"Couple Leisure\",\"Family Leisure\",\"Business\",\"Business\",\"Solo Leisure\",\"Couple Leisure\",\"Family Leisure\",\"Business\",\"Family Leisure\",\"Solo Leisure\",\"Solo Leisure\",\"Family Leisure\",\"Business\",\"Business\",\"Solo Leisure\",\"Solo Leisure\",\"Solo Leisure\",\"Couple Leisure\",\"Couple Leisure\",\"Business\",\"Family Leisure\",\"Solo Leisure\",\"Couple Leisure\",\"Family Leisure\",\"Family Leisure\",\"Solo Leisure\",\"Couple Leisure\",\"Couple Leisure\",\"Couple Leisure\",\"Solo Leisure\",\"Business\",\"Business\",\"Family Leisure\",\"Business\",\"Couple Leisure\",\"Family Leisure\",\"Business\",\"Business\",\"Solo Leisure\",\"Business\",\"Couple Leisure\",\"Couple Leisure\",\"Solo Leisure\",\"Couple Leisure\",\"Couple Leisure\",\"Family Leisure\",\"Family Leisure\",\"Couple Leisure\",\"Couple Leisure\",\"Business\",\"Couple Leisure\",\"Couple Leisure\",\"Business\",\"Solo Leisure\",\"Couple Leisure\",\"Couple Leisure\",\"Couple Leisure\",\"Business\",\"Couple Leisure\",\"Business\",\"Solo Leisure\",\"Solo Leisure\",\"Business\",\"Business\",\"Couple Leisure\",\"Business\",\"Couple Leisure\",\"Couple Leisure\",\"Solo Leisure\",\"Family Leisure\",\"Couple Leisure\",\"Business\",\"Couple Leisure\",\"Couple Leisure\",\"Business\",\"Family Leisure\",\"Couple Leisure\",\"Solo Leisure\",\"Family Leisure\",\"Business\",\"Couple Leisure\",\"Family Leisure\",\"Couple Leisure\",\"Couple Leisure\",\"Couple Leisure\",\"Solo Leisure\",\"Couple Leisure\",\"Business\",\"Couple Leisure\",\"Couple Leisure\",\"Couple Leisure\",\"Family Leisure\",\"Business\",\"Couple Leisure\",\"Business\",\"Solo Leisure\",\"Solo Leisure\",\"Solo Leisure\",\"Business\",\"Solo Leisure\",\"Business\",\"Couple Leisure\",\"Couple Leisure\",\"Couple Leisure\",\"Family Leisure\",\"Solo Leisure\",\"Business\",\"Business\",\"Couple Leisure\",\"Couple Leisure\",\"Couple Leisure\",\"Couple Leisure\",\"Business\",\"Couple Leisure\",\"Business\",\"Solo Leisure\",\"Business\",\"Couple Leisure\",\"Business\",\"Solo Leisure\",\"Family Leisure\",\"Couple Leisure\",\"Business\",\"Solo Leisure\",\"Solo Leisure\",\"Couple Leisure\",\"Couple Leisure\",\"Solo Leisure\",\"Family Leisure\",\"Couple Leisure\",\"Family Leisure\",\"Couple Leisure\",\"Couple Leisure\",\"Couple Leisure\",\"Couple Leisure\",\"Couple Leisure\",\"Couple Leisure\",\"Couple Leisure\",\"Solo Leisure\",\"Business\",\"Couple Leisure\",\"Business\",\"Couple Leisure\",\"Business\",\"Family Leisure\",\"Solo Leisure\",\"Solo Leisure\",\"Family Leisure\",\"Family Leisure\",\"Solo Leisure\",\"Couple Leisure\",\"Business\",\"Business\",\"Solo Leisure\",\"Business\",\"Family Leisure\",\"Couple Leisure\",\"Couple Leisure\",\"Business\",\"Solo Leisure\",\"Business\",\"Couple Leisure\",\"Business\",\"Couple Leisure\",\"Business\",\"Business\",\"Couple Leisure\",\"Business\",\"Couple Leisure\",\"Business\",\"Family Leisure\",\"Business\",\"Business\",\"Business\",\"Couple Leisure\",\"Couple Leisure\",\"Couple Leisure\",\"Business\",\"Couple Leisure\",\"Couple Leisure\",\"Solo Leisure\",\"Solo Leisure\",\"Business\",\"Couple Leisure\",\"Solo Leisure\",\"Solo Leisure\",\"Couple Leisure\",\"Family Leisure\",\"Couple Leisure\",\"Couple Leisure\",\"Business\",\"Solo Leisure\",\"Business\",\"Couple Leisure\",\"Business\",\"Business\",\"Couple Leisure\",\"Solo Leisure\",\"Couple Leisure\",\"Solo Leisure\",\"Family Leisure\",\"Couple Leisure\",\"Solo Leisure\",\"Couple Leisure\",\"Couple Leisure\",\"Couple Leisure\",\"Business\",\"Business\",\"Couple Leisure\",\"Business\",\"Business\",\"Couple Leisure\",\"Solo Leisure\",\"Business\",\"Solo Leisure\",\"Solo Leisure\",\"Business\",\"Couple Leisure\",\"Solo Leisure\",\"Business\",\"Couple Leisure\",\"Business\",\"Solo Leisure\",\"Couple Leisure\",\"Couple Leisure\",\"Solo Leisure\",\"Solo Leisure\",\"Business\",\"Business\",\"Business\",\"Business\",\"Family Leisure\",\"Solo Leisure\",\"Couple Leisure\",\"Business\",\"Business\",\"Solo Leisure\",\"Business\",\"Couple Leisure\",\"Solo Leisure\",\"Business\",\"Solo Leisure\",\"Couple Leisure\",\"Business\",\"Couple Leisure\",\"Solo Leisure\",\"Solo Leisure\",\"Solo Leisure\",\"Couple Leisure\",\"Solo Leisure\",\"Solo Leisure\",\"Solo Leisure\",\"Solo Leisure\",\"Business\",\"Couple Leisure\",\"Business\",\"Business\",\"Solo Leisure\",\"Business\",\"Couple Leisure\",\"Solo Leisure\",\"Couple Leisure\",\"Couple Leisure\",\"Business\",\"Couple Leisure\",\"Solo Leisure\",\"Business\",\"Couple Leisure\",\"Solo Leisure\",\"Couple Leisure\",\"Solo Leisure\",\"Solo Leisure\",\"Couple Leisure\",\"Couple Leisure\",\"Solo Leisure\",\"Couple Leisure\",\"Solo Leisure\",\"Solo Leisure\",\"Family Leisure\",\"Couple Leisure\",\"Couple Leisure\",\"Family Leisure\",\"Couple Leisure\",\"Couple Leisure\",\"Solo Leisure\",\"Couple Leisure\",\"Solo Leisure\",\"Solo Leisure\",\"Couple Leisure\",\"Solo Leisure\",\"Couple Leisure\",\"Couple Leisure\",\"Business\",\"Couple Leisure\",\"Solo Leisure\",\"Business\",\"Solo Leisure\",\"Solo Leisure\",\"Family Leisure\",\"Business\",\"Solo Leisure\",\"Business\",\"Solo Leisure\",\"Business\",\"Solo Leisure\",\"Solo Leisure\",\"Business\",\"Couple Leisure\",\"Family Leisure\",\"Couple Leisure\",\"Business\",\"Family Leisure\",\"Solo Leisure\",\"Business\",\"Couple Leisure\",\"Business\",\"Solo Leisure\",\"Solo Leisure\",\"Business\",\"Business\",\"Business\",\"Business\",\"Business\",\"Business\",\"Couple Leisure\",\"Solo Leisure\",\"Business\",\"Family Leisure\",\"Business\",\"Family Leisure\",\"Couple Leisure\",\"Solo Leisure\",\"Solo Leisure\",\"Couple Leisure\",\"Couple Leisure\",\"Solo Leisure\",\"Couple Leisure\",\"Business\",\"Family Leisure\",\"Couple Leisure\",\"Solo Leisure\",\"Solo Leisure\",\"Solo Leisure\",\"Couple Leisure\",\"Business\",\"Business\",\"Couple Leisure\",\"Family Leisure\",\"Business\",\"Solo Leisure\",\"Couple Leisure\",\"Couple Leisure\",\"Business\",\"Solo Leisure\",\"Couple Leisure\",\"Family Leisure\",\"Solo Leisure\",\"Solo Leisure\",\"Solo Leisure\",\"Couple Leisure\",\"Couple Leisure\",\"Couple Leisure\",\"Family Leisure\",\"Couple Leisure\",\"Couple Leisure\",\"Solo Leisure\",\"Solo Leisure\",\"Business\",\"Couple Leisure\",\"Business\",\"Business\",\"Family Leisure\",\"Family Leisure\",\"Family Leisure\",\"Solo Leisure\",\"Business\",\"Couple Leisure\",\"Couple Leisure\",\"Family Leisure\",\"Couple Leisure\",\"Business\",\"Couple Leisure\",\"Solo Leisure\",\"Solo Leisure\",\"Business\",\"Solo Leisure\",\"Family Leisure\",\"Family Leisure\",\"Business\",\"Business\",\"Solo Leisure\",\"Family Leisure\",\"Family Leisure\",\"Business\",\"Solo Leisure\",\"Family Leisure\",\"Solo Leisure\",\"Solo Leisure\",\"Business\",\"Couple Leisure\",\"Solo Leisure\",\"Couple Leisure\",\"Business\",\"Solo Leisure\",\"Solo Leisure\",\"Couple Leisure\",\"Family Leisure\",\"Business\",\"Solo Leisure\",\"Family Leisure\",\"Business\",\"Solo Leisure\",\"Business\",\"Business\",\"Solo Leisure\",\"Solo Leisure\",\"Couple Leisure\",\"Business\",\"Couple Leisure\",\"Couple Leisure\",\"Couple Leisure\",\"Solo Leisure\",\"Couple Leisure\",\"Couple Leisure\",\"Couple Leisure\",\"Solo Leisure\",\"Couple Leisure\",\"Business\",\"Solo Leisure\",\"Couple Leisure\",\"Solo Leisure\",\"Couple Leisure\",\"Couple Leisure\",\"Solo Leisure\",\"Solo Leisure\",\"Couple Leisure\",\"Family Leisure\",\"Business\",\"Couple Leisure\",\"Couple Leisure\",\"Couple Leisure\",\"Couple Leisure\",\"Couple Leisure\",\"Couple Leisure\",\"Family Leisure\",\"Solo Leisure\",\"Business\",\"Solo Leisure\",\"Business\",\"Solo Leisure\",\"Family Leisure\",\"Family Leisure\",\"Business\",\"Solo Leisure\",\"Business\",\"Business\",\"Solo Leisure\",\"Solo Leisure\",\"Solo Leisure\",\"Couple Leisure\",\"Solo Leisure\",\"Couple Leisure\",\"Business\",\"Solo Leisure\",\"Solo Leisure\",\"Couple Leisure\",\"Solo Leisure\",\"Couple Leisure\",\"Business\",\"Family Leisure\",\"Family Leisure\",\"Solo Leisure\",\"Couple Leisure\",\"Couple Leisure\",\"Solo Leisure\",\"Solo Leisure\"],\"x0\":\" \",\"xaxis\":\"x\",\"y\":[2,2,2,4,1,2,2,3,3,-1,1,3,4,1,1,1,1,2,4,3,4,4,4,3,3,5,4,3,1,3,3,2,1,4,1,3,3,2,5,1,3,1,5,1,1,3,3,1,1,2,5,4,1,5,2,2,1,4,3,2,2,4,3,1,5,4,4,2,3,4,4,3,1,4,4,1,2,5,5,1,3,2,2,2,3,2,5,5,5,4,4,4,5,4,3,1,3,1,4,5,3,3,4,3,2,2,4,1,2,5,3,2,1,3,2,3,4,4,1,2,3,5,3,1,5,3,3,1,3,5,4,1,5,2,2,4,4,1,5,4,4,5,2,1,4,1,1,3,4,4,4,3,1,1,1,3,1,4,4,5,4,4,4,1,3,2,5,5,2,3,4,1,1,3,5,4,2,3,5,5,4,2,1,2,4,4,3,2,2,4,5,3,3,3,3,1,4,3,2,4,-1,4,4,3,2,2,3,2,3,4,4,1,5,4,1,4,-1,1,3,3,4,1,3,2,2,4,2,4,4,5,1,3,4,5,1,3,4,1,3,3,4,5,4,3,1,4,5,1,4,4,4,4,2,4,3,1,5,4,2,1,5,3,-1,5,5,5,3,-1,1,1,3,5,4,4,1,4,-1,3,1,1,-1,4,2,5,3,2,5,4,3,2,2,4,4,1,3,5,4,3,4,2,4,5,1,3,3,1,2,5,3,3,5,3,2,2,3,2,4,3,1,3,4,3,3,1,3,4,1,3,5,4,1,1,2,1,4,4,4,5,4,5,3,2,1,4,3,5,5,4,1,4,1,5,5,4,3,1,1,5,4,1,5,5,1,4,5,3,5,5,5,4,4,3,1,5,4,3,3,2,5,4,1,4,2,3,1,4,1,5,1,1,3,4,4,1,4,4,4,1,1,5,3,4,2,1,1,2,4,1,5,2,3,2,3,1,1,3,4,3,5,1,1,3,4,4,3,5,-1,1,2,1,2,1,3,3,1,5,4,3,4,4,3,1,2,3,5,4,4,2,1,3,4,4,5,2,5,5,3,4,4,4,2,3,5,1,5,1,1,1,5,3,3,4,2,2,4,5,3,2,5,2,4,1,1,1,1,1,2,3,5,4,4,1,3,5,4,5,3,3,3,3,3,4,3,4,5,1,1,3,5,1,1,1,3,3,2,1,4,1,1,1,2,4,5,4,5,1,3,1,1,1,2,2,5,1,4,1,4,2,2,2,1,1,2,5,2,5,5,2,3,1,1,-1,5,4,3,2,1,4,5,1,4,2,2,2,5,3,1,2,2,4,1,1,5,5,1,3,4,1,1,5,4,3,4,2,3,2,2,3,5,4,4,3,5,5,1,5,3,1,4,3,4,3,3,4,3,3,2,4,4,4,5,3,3,3,2,4,3,3,4,4,4,4,4,1,1,1,3,1,4,2,5,2,3,3,4,1,1,3,2,2,2,2,3,5,4,3,5,2,3,4,3,1,3,5,4,1,4,4,3,4,3,1,3,4,2,3,1,4,5,4,4,2,4,3,4,1,4,2,4,1,1,2,1,4,3,2,1,2,1,1,4,2,2,4,3,5,2,3,1,1,2,4,2,1,1,1,3,3,5,1,1,1,3,2,4,2,4,5,3,3,5,1,2,3,3,5,1,3,1,2,5,5,4,1,3,3,5,5,4,1,2,5,4,1,1,4,4,3,2,1,3,1,1,5,5,4,4,1,2,2,3,3,2,4,4,1,3,4,2,3,2,1,1,4,2,5,5,4,3,4,3,3,1,4,1,3,3,2,3,2,1,2,3,4,4,3,3,1,2,3,3,1,1,5,4,4,2,3,5,5,3,3,3,4,4,2,2,1,3,5,1,3,3,5,4,3,2,1,2,3,2,3,4,1,4,3,4,4,3,2,4,2,3,2,4,3,3,3,1,3,2,3,2,2,3,4,1,5,2,1,1,3,1,3,2,1,3,1,4,1,3,5,2,3,3,2,2,2,2,1,4,4,1,3,1,3,4,1,4,4,4,1,1,3,2,4,2,1,2,5,1,3,2,2,1,1,4,2,3,3,1,4,4,2,4,1,2,3,1,2,2,1,1,1,2,4,3,2,3,1,4,3,1,5,1,1,1,4,2,3,4,4,1,3,4,4,2,3,3,4,4,3,5,4,3,3,1,1,4,1,2,4,3,3,2,4,3,1,1,1,-1,3,2,3,4,4,5,3,5,3,3,2,4,2,5,4,3,1,5,2,2,2,2,5,1,3,5,2,4,2,1,1,4,5,5,3,1,2,2,1,1,3,3,3,3,3,2,4,5,4,1,3,4,4,4,2,1,4,1,1,1,3,3,4,2,4,3,4,2,2,3,1,2,2,2,3,3,3,3,1,5,1,5,5,1,5,1,5,2,4,4,2,5,3,1,4,3,1,4,4,3,2,4,2,5,1,4,3,1,2,5,2,2,1,3,2,4,4,-1,4,2,2,5,3,3,1,4,1,1,5,3,1,4,2,2,5,2,3,4,5,3,1,3,2,2,2,1,3,3,3,1,2,4,3,3,5,4,1,4,1,1,1,3,3,3,3,4,5,2,4,1,3,4,4,1,1,1,3,2,4,5,2,3,4,3,5,2,2,1,1,4,5,5,5,4,3,3,5,4,1,3,2,5,1,5,3,5,3,3,2,1,5,2,3,3,2,1,2,4,5,3,4,1,3,3,1,2,4,2,1,4,4,2,2,3,4,5,3,3,3,3,4,3,4,2,2,1,4,3,2,2,3,1,4,1,1,3,3,3,3,4,3,1,4,4,1,2,5,5,4,5,1,3,5,3,3,3,1,3,5,1,3,4,4,4,4,3,5,4,5,4,1,1,5,4,4,4,1,4,4,5,4,1,5,1,4,4,1,4,4,4,5,3,4,4,4,4,4,4,2,4,4,3,4,1,1,1,3,5,1,1,5,3,3,4,2,4,5,5,5,4,1,3,4,3,3,3,3,3,3,3,3,3,2],\"y0\":\" \",\"yaxis\":\"y\",\"type\":\"box\"}],                        {\"template\":{\"data\":{\"histogram2dcontour\":[{\"type\":\"histogram2dcontour\",\"colorbar\":{\"outlinewidth\":0,\"ticks\":\"\"},\"colorscale\":[[0.0,\"#0d0887\"],[0.1111111111111111,\"#46039f\"],[0.2222222222222222,\"#7201a8\"],[0.3333333333333333,\"#9c179e\"],[0.4444444444444444,\"#bd3786\"],[0.5555555555555556,\"#d8576b\"],[0.6666666666666666,\"#ed7953\"],[0.7777777777777778,\"#fb9f3a\"],[0.8888888888888888,\"#fdca26\"],[1.0,\"#f0f921\"]]}],\"choropleth\":[{\"type\":\"choropleth\",\"colorbar\":{\"outlinewidth\":0,\"ticks\":\"\"}}],\"histogram2d\":[{\"type\":\"histogram2d\",\"colorbar\":{\"outlinewidth\":0,\"ticks\":\"\"},\"colorscale\":[[0.0,\"#0d0887\"],[0.1111111111111111,\"#46039f\"],[0.2222222222222222,\"#7201a8\"],[0.3333333333333333,\"#9c179e\"],[0.4444444444444444,\"#bd3786\"],[0.5555555555555556,\"#d8576b\"],[0.6666666666666666,\"#ed7953\"],[0.7777777777777778,\"#fb9f3a\"],[0.8888888888888888,\"#fdca26\"],[1.0,\"#f0f921\"]]}],\"heatmap\":[{\"type\":\"heatmap\",\"colorbar\":{\"outlinewidth\":0,\"ticks\":\"\"},\"colorscale\":[[0.0,\"#0d0887\"],[0.1111111111111111,\"#46039f\"],[0.2222222222222222,\"#7201a8\"],[0.3333333333333333,\"#9c179e\"],[0.4444444444444444,\"#bd3786\"],[0.5555555555555556,\"#d8576b\"],[0.6666666666666666,\"#ed7953\"],[0.7777777777777778,\"#fb9f3a\"],[0.8888888888888888,\"#fdca26\"],[1.0,\"#f0f921\"]]}],\"heatmapgl\":[{\"type\":\"heatmapgl\",\"colorbar\":{\"outlinewidth\":0,\"ticks\":\"\"},\"colorscale\":[[0.0,\"#0d0887\"],[0.1111111111111111,\"#46039f\"],[0.2222222222222222,\"#7201a8\"],[0.3333333333333333,\"#9c179e\"],[0.4444444444444444,\"#bd3786\"],[0.5555555555555556,\"#d8576b\"],[0.6666666666666666,\"#ed7953\"],[0.7777777777777778,\"#fb9f3a\"],[0.8888888888888888,\"#fdca26\"],[1.0,\"#f0f921\"]]}],\"contourcarpet\":[{\"type\":\"contourcarpet\",\"colorbar\":{\"outlinewidth\":0,\"ticks\":\"\"}}],\"contour\":[{\"type\":\"contour\",\"colorbar\":{\"outlinewidth\":0,\"ticks\":\"\"},\"colorscale\":[[0.0,\"#0d0887\"],[0.1111111111111111,\"#46039f\"],[0.2222222222222222,\"#7201a8\"],[0.3333333333333333,\"#9c179e\"],[0.4444444444444444,\"#bd3786\"],[0.5555555555555556,\"#d8576b\"],[0.6666666666666666,\"#ed7953\"],[0.7777777777777778,\"#fb9f3a\"],[0.8888888888888888,\"#fdca26\"],[1.0,\"#f0f921\"]]}],\"surface\":[{\"type\":\"surface\",\"colorbar\":{\"outlinewidth\":0,\"ticks\":\"\"},\"colorscale\":[[0.0,\"#0d0887\"],[0.1111111111111111,\"#46039f\"],[0.2222222222222222,\"#7201a8\"],[0.3333333333333333,\"#9c179e\"],[0.4444444444444444,\"#bd3786\"],[0.5555555555555556,\"#d8576b\"],[0.6666666666666666,\"#ed7953\"],[0.7777777777777778,\"#fb9f3a\"],[0.8888888888888888,\"#fdca26\"],[1.0,\"#f0f921\"]]}],\"mesh3d\":[{\"type\":\"mesh3d\",\"colorbar\":{\"outlinewidth\":0,\"ticks\":\"\"}}],\"scatter\":[{\"fillpattern\":{\"fillmode\":\"overlay\",\"size\":10,\"solidity\":0.2},\"type\":\"scatter\"}],\"parcoords\":[{\"type\":\"parcoords\",\"line\":{\"colorbar\":{\"outlinewidth\":0,\"ticks\":\"\"}}}],\"scatterpolargl\":[{\"type\":\"scatterpolargl\",\"marker\":{\"colorbar\":{\"outlinewidth\":0,\"ticks\":\"\"}}}],\"bar\":[{\"error_x\":{\"color\":\"#2a3f5f\"},\"error_y\":{\"color\":\"#2a3f5f\"},\"marker\":{\"line\":{\"color\":\"#E5ECF6\",\"width\":0.5},\"pattern\":{\"fillmode\":\"overlay\",\"size\":10,\"solidity\":0.2}},\"type\":\"bar\"}],\"scattergeo\":[{\"type\":\"scattergeo\",\"marker\":{\"colorbar\":{\"outlinewidth\":0,\"ticks\":\"\"}}}],\"scatterpolar\":[{\"type\":\"scatterpolar\",\"marker\":{\"colorbar\":{\"outlinewidth\":0,\"ticks\":\"\"}}}],\"histogram\":[{\"marker\":{\"pattern\":{\"fillmode\":\"overlay\",\"size\":10,\"solidity\":0.2}},\"type\":\"histogram\"}],\"scattergl\":[{\"type\":\"scattergl\",\"marker\":{\"colorbar\":{\"outlinewidth\":0,\"ticks\":\"\"}}}],\"scatter3d\":[{\"type\":\"scatter3d\",\"line\":{\"colorbar\":{\"outlinewidth\":0,\"ticks\":\"\"}},\"marker\":{\"colorbar\":{\"outlinewidth\":0,\"ticks\":\"\"}}}],\"scattermapbox\":[{\"type\":\"scattermapbox\",\"marker\":{\"colorbar\":{\"outlinewidth\":0,\"ticks\":\"\"}}}],\"scatterternary\":[{\"type\":\"scatterternary\",\"marker\":{\"colorbar\":{\"outlinewidth\":0,\"ticks\":\"\"}}}],\"scattercarpet\":[{\"type\":\"scattercarpet\",\"marker\":{\"colorbar\":{\"outlinewidth\":0,\"ticks\":\"\"}}}],\"carpet\":[{\"aaxis\":{\"endlinecolor\":\"#2a3f5f\",\"gridcolor\":\"white\",\"linecolor\":\"white\",\"minorgridcolor\":\"white\",\"startlinecolor\":\"#2a3f5f\"},\"baxis\":{\"endlinecolor\":\"#2a3f5f\",\"gridcolor\":\"white\",\"linecolor\":\"white\",\"minorgridcolor\":\"white\",\"startlinecolor\":\"#2a3f5f\"},\"type\":\"carpet\"}],\"table\":[{\"cells\":{\"fill\":{\"color\":\"#EBF0F8\"},\"line\":{\"color\":\"white\"}},\"header\":{\"fill\":{\"color\":\"#C8D4E3\"},\"line\":{\"color\":\"white\"}},\"type\":\"table\"}],\"barpolar\":[{\"marker\":{\"line\":{\"color\":\"#E5ECF6\",\"width\":0.5},\"pattern\":{\"fillmode\":\"overlay\",\"size\":10,\"solidity\":0.2}},\"type\":\"barpolar\"}],\"pie\":[{\"automargin\":true,\"type\":\"pie\"}]},\"layout\":{\"autotypenumbers\":\"strict\",\"colorway\":[\"#636efa\",\"#EF553B\",\"#00cc96\",\"#ab63fa\",\"#FFA15A\",\"#19d3f3\",\"#FF6692\",\"#B6E880\",\"#FF97FF\",\"#FECB52\"],\"font\":{\"color\":\"#2a3f5f\"},\"hovermode\":\"closest\",\"hoverlabel\":{\"align\":\"left\"},\"paper_bgcolor\":\"white\",\"plot_bgcolor\":\"#E5ECF6\",\"polar\":{\"bgcolor\":\"#E5ECF6\",\"angularaxis\":{\"gridcolor\":\"white\",\"linecolor\":\"white\",\"ticks\":\"\"},\"radialaxis\":{\"gridcolor\":\"white\",\"linecolor\":\"white\",\"ticks\":\"\"}},\"ternary\":{\"bgcolor\":\"#E5ECF6\",\"aaxis\":{\"gridcolor\":\"white\",\"linecolor\":\"white\",\"ticks\":\"\"},\"baxis\":{\"gridcolor\":\"white\",\"linecolor\":\"white\",\"ticks\":\"\"},\"caxis\":{\"gridcolor\":\"white\",\"linecolor\":\"white\",\"ticks\":\"\"}},\"coloraxis\":{\"colorbar\":{\"outlinewidth\":0,\"ticks\":\"\"}},\"colorscale\":{\"sequential\":[[0.0,\"#0d0887\"],[0.1111111111111111,\"#46039f\"],[0.2222222222222222,\"#7201a8\"],[0.3333333333333333,\"#9c179e\"],[0.4444444444444444,\"#bd3786\"],[0.5555555555555556,\"#d8576b\"],[0.6666666666666666,\"#ed7953\"],[0.7777777777777778,\"#fb9f3a\"],[0.8888888888888888,\"#fdca26\"],[1.0,\"#f0f921\"]],\"sequentialminus\":[[0.0,\"#0d0887\"],[0.1111111111111111,\"#46039f\"],[0.2222222222222222,\"#7201a8\"],[0.3333333333333333,\"#9c179e\"],[0.4444444444444444,\"#bd3786\"],[0.5555555555555556,\"#d8576b\"],[0.6666666666666666,\"#ed7953\"],[0.7777777777777778,\"#fb9f3a\"],[0.8888888888888888,\"#fdca26\"],[1.0,\"#f0f921\"]],\"diverging\":[[0,\"#8e0152\"],[0.1,\"#c51b7d\"],[0.2,\"#de77ae\"],[0.3,\"#f1b6da\"],[0.4,\"#fde0ef\"],[0.5,\"#f7f7f7\"],[0.6,\"#e6f5d0\"],[0.7,\"#b8e186\"],[0.8,\"#7fbc41\"],[0.9,\"#4d9221\"],[1,\"#276419\"]]},\"xaxis\":{\"gridcolor\":\"white\",\"linecolor\":\"white\",\"ticks\":\"\",\"title\":{\"standoff\":15},\"zerolinecolor\":\"white\",\"automargin\":true,\"zerolinewidth\":2},\"yaxis\":{\"gridcolor\":\"white\",\"linecolor\":\"white\",\"ticks\":\"\",\"title\":{\"standoff\":15},\"zerolinecolor\":\"white\",\"automargin\":true,\"zerolinewidth\":2},\"scene\":{\"xaxis\":{\"backgroundcolor\":\"#E5ECF6\",\"gridcolor\":\"white\",\"linecolor\":\"white\",\"showbackground\":true,\"ticks\":\"\",\"zerolinecolor\":\"white\",\"gridwidth\":2},\"yaxis\":{\"backgroundcolor\":\"#E5ECF6\",\"gridcolor\":\"white\",\"linecolor\":\"white\",\"showbackground\":true,\"ticks\":\"\",\"zerolinecolor\":\"white\",\"gridwidth\":2},\"zaxis\":{\"backgroundcolor\":\"#E5ECF6\",\"gridcolor\":\"white\",\"linecolor\":\"white\",\"showbackground\":true,\"ticks\":\"\",\"zerolinecolor\":\"white\",\"gridwidth\":2}},\"shapedefaults\":{\"line\":{\"color\":\"#2a3f5f\"}},\"annotationdefaults\":{\"arrowcolor\":\"#2a3f5f\",\"arrowhead\":0,\"arrowwidth\":1},\"geo\":{\"bgcolor\":\"white\",\"landcolor\":\"#E5ECF6\",\"subunitcolor\":\"white\",\"showland\":true,\"showlakes\":true,\"lakecolor\":\"white\"},\"title\":{\"x\":0.05},\"mapbox\":{\"style\":\"light\"}}},\"xaxis\":{\"anchor\":\"y\",\"domain\":[0.0,1.0],\"title\":{\"text\":\"Traveller Type\"}},\"yaxis\":{\"anchor\":\"x\",\"domain\":[0.0,1.0],\"title\":{\"text\":\"Seat Comfort Rating\"}},\"legend\":{\"tracegroupgap\":0},\"title\":{\"text\":\"Seat Comfort Ratings by Traveller Type\"},\"boxmode\":\"group\"},                        {\"responsive\": true}                    ).then(function(){\n",
       "                            \n",
       "var gd = document.getElementById('c0c64b65-983c-4eac-b280-8c369cde26ca');\n",
       "var x = new MutationObserver(function (mutations, observer) {{\n",
       "        var display = window.getComputedStyle(gd).display;\n",
       "        if (!display || display === 'none') {{\n",
       "            console.log([gd, 'removed!']);\n",
       "            Plotly.purge(gd);\n",
       "            observer.disconnect();\n",
       "        }}\n",
       "}});\n",
       "\n",
       "// Listen for the removal of the full notebook cells\n",
       "var notebookContainer = gd.closest('#notebook-container');\n",
       "if (notebookContainer) {{\n",
       "    x.observe(notebookContainer, {childList: true});\n",
       "}}\n",
       "\n",
       "// Listen for the clearing of the current output cell\n",
       "var outputEl = gd.closest('.output');\n",
       "if (outputEl) {{\n",
       "    x.observe(outputEl, {childList: true});\n",
       "}}\n",
       "\n",
       "                        })                };                });            </script>        </div>"
      ]
     },
     "metadata": {},
     "output_type": "display_data"
    }
   ],
   "source": [
    "import pandas as pd\n",
    "import plotly.express as px\n",
    "\n",
    "data = pd.read_csv('British_Airways_dataset Skytrax.csv')\n",
    "\n",
    "# 1. Histogram of ratings\n",
    "fig = px.histogram(data, x='rating', title='Distribution of Ratings')\n",
    "fig.update_layout(xaxis_title='Rating', yaxis_title='Frequency')\n",
    "fig.show()\n",
    "\n",
    "# 2. Box plot of seat comfort ratings by traveller type\n",
    "fig = px.box(data, x='traveller_type', y='seat_comfort', title='Seat Comfort Ratings by Traveller Type')\n",
    "fig.update_layout(xaxis_title='Traveller Type', yaxis_title='Seat Comfort Rating')\n",
    "fig.show()"
   ]
  },
  {
   "cell_type": "code",
   "execution_count": 30,
   "id": "b7a5cccd-1c0f-4d3b-a6f4-72c4a9dc47f3",
   "metadata": {},
   "outputs": [
    {
     "data": {
      "image/png": "[encoded data removed]",
      "text/plain": [
       "<Figure size 800x800 with 1 Axes>"
      ]
     },
     "metadata": {},
     "output_type": "display_data"
    },
    {
     "data": {
      "image/png": "[encoded data removed]",
      "text/plain": [
       "<Figure size 1200x600 with 1 Axes>"
      ]
     },
     "metadata": {},
     "output_type": "display_data"
    },
    {
     "data": {
      "image/png": "[encoded data removed]",
      "text/plain": [
       "<Figure size 1200x600 with 1 Axes>"
      ]
     },
     "metadata": {},
     "output_type": "display_data"
    }
   ],
   "source": [
    "import pandas as pd\n",
    "import matplotlib.pyplot as plt\n",
    "\n",
    "data = pd.read_csv('British_Airways_dataset Skytrax.csv')\n",
    "\n",
    "# Categorize the ratings\n",
    "def categorize_rating(rating):\n",
    "    if rating >= 4:\n",
    "        return 'Positive'\n",
    "    elif rating == 3:\n",
    "        return 'Neutral'\n",
    "    else:\n",
    "        return 'Negative'\n",
    "\n",
    "data['rating_category'] = data['rating'].apply(categorize_rating)\n",
    "\n",
    "rating_counts = data['rating_category'].value_counts()\n",
    "\n",
    "# Create a pie chart for rating distribution\n",
    "plt.figure(figsize=(8, 8))\n",
    "plt.pie(rating_counts, labels=rating_counts.index, autopct='%1.1f%%', startangle=140, colors=['#66b3ff','#ffcc99','#99ff99'])\n",
    "plt.title('Distribution of Ratings')\n",
    "plt.axis('equal')\n",
    "plt.show()\n",
    "\n",
    "# Segmented histogram for rating distribution by traveller type\n",
    "plt.figure(figsize=(12, 6))\n",
    "traveller_types = data['traveller_type'].unique()\n",
    "for traveller_type in traveller_types:\n",
    "    subset = data[data['traveller_type'] == traveller_type]\n",
    "    plt.hist(subset['rating'], bins=5, alpha=0.5, label=traveller_type)\n",
    "\n",
    "plt.title('Distribution of Ratings by Traveller Type')\n",
    "plt.xlabel('Rating')\n",
    "plt.ylabel('Frequency')\n",
    "plt.legend(title='Traveller Type')\n",
    "plt.show()\n",
    "\n",
    "# Segmented histogram for rating distribution by cabin class\n",
    "plt.figure(figsize=(12, 6))\n",
    "cabin_classes = data['seat_type'].unique()\n",
    "for cabin_class in cabin_classes:\n",
    "    subset = data[data['seat_type'] == cabin_class]\n",
    "    plt.hist(subset['rating'], bins=5, alpha=0.5, label=cabin_class)\n",
    "\n",
    "plt.title('Distribution of Ratings by Cabin Class')\n",
    "plt.xlabel('Rating')\n",
    "plt.ylabel('Frequency')\n",
    "plt.legend(title='Cabin Class')\n",
    "plt.show()"
   ]
  },
  {
   "cell_type": "code",
   "execution_count": 32,
   "id": "d3fca2c4-3651-4035-9ab1-f68bc6effae5",
   "metadata": {},
   "outputs": [
    {
     "data": {
      "image/png": "[encoded data removed]",
      "text/plain": [
       "<Figure size 800x800 with 1 Axes>"
      ]
     },
     "metadata": {},
     "output_type": "display_data"
    },
    {
     "data": {
      "image/png": "[encoded data removed]",
      "text/plain": [
       "<Figure size 1200x600 with 1 Axes>"
      ]
     },
     "metadata": {},
     "output_type": "display_data"
    },
    {
     "data": {
      "image/png": "[encoded data removed]",
      "text/plain": [
       "<Figure size 1200x600 with 1 Axes>"
      ]
     },
     "metadata": {},
     "output_type": "display_data"
    },
    {
     "ename": "FileNotFoundError",
     "evalue": "[Errno 2] No such file or directory: 'topic_modeling.png'",
     "output_type": "error",
     "traceback": [
      "\u001b[0;31m---------------------------------------------------------------------------\u001b[0m",
      "\u001b[0;31mFileNotFoundError\u001b[0m                         Traceback (most recent call last)",
      "Cell \u001b[0;32mIn[32], line 75\u001b[0m\n\u001b[1;32m     73\u001b[0m x_positions \u001b[38;5;241m=\u001b[39m [\u001b[38;5;241m0.2\u001b[39m, \u001b[38;5;241m0.5\u001b[39m, \u001b[38;5;241m0.8\u001b[39m]\n\u001b[1;32m     74\u001b[0m \u001b[38;5;28;01mfor\u001b[39;00m (step, image_path), x \u001b[38;5;129;01min\u001b[39;00m \u001b[38;5;28mzip\u001b[39m(steps, x_positions):\n\u001b[0;32m---> 75\u001b[0m     ab \u001b[38;5;241m=\u001b[39m AnnotationBbox(get_image(image_path), (x, \u001b[38;5;241m0.5\u001b[39m), frameon\u001b[38;5;241m=\u001b[39m\u001b[38;5;28;01mFalse\u001b[39;00m)\n\u001b[1;32m     76\u001b[0m     ax\u001b[38;5;241m.\u001b[39madd_artist(ab)\n\u001b[1;32m     77\u001b[0m     ax\u001b[38;5;241m.\u001b[39mtext(x, \u001b[38;5;241m0.3\u001b[39m, step, ha\u001b[38;5;241m=\u001b[39m\u001b[38;5;124m'\u001b[39m\u001b[38;5;124mcenter\u001b[39m\u001b[38;5;124m'\u001b[39m, va\u001b[38;5;241m=\u001b[39m\u001b[38;5;124m'\u001b[39m\u001b[38;5;124mcenter\u001b[39m\u001b[38;5;124m'\u001b[39m, fontsize\u001b[38;5;241m=\u001b[39m\u001b[38;5;241m12\u001b[39m)\n",
      "Cell \u001b[0;32mIn[32], line 57\u001b[0m, in \u001b[0;36mget_image\u001b[0;34m(path)\u001b[0m\n\u001b[1;32m     56\u001b[0m \u001b[38;5;28;01mdef\u001b[39;00m \u001b[38;5;21mget_image\u001b[39m(path):\n\u001b[0;32m---> 57\u001b[0m     \u001b[38;5;28;01mreturn\u001b[39;00m OffsetImage(plt\u001b[38;5;241m.\u001b[39mimread(path), zoom\u001b[38;5;241m=\u001b[39m\u001b[38;5;241m0.1\u001b[39m)\n",
      "File \u001b[0;32m/opt/anaconda3/lib/python3.11/site-packages/matplotlib/pyplot.py:2389\u001b[0m, in \u001b[0;36mimread\u001b[0;34m(fname, format)\u001b[0m\n\u001b[1;32m   2385\u001b[0m \u001b[38;5;129m@_copy_docstring_and_deprecators\u001b[39m(matplotlib\u001b[38;5;241m.\u001b[39mimage\u001b[38;5;241m.\u001b[39mimread)\n\u001b[1;32m   2386\u001b[0m \u001b[38;5;28;01mdef\u001b[39;00m \u001b[38;5;21mimread\u001b[39m(\n\u001b[1;32m   2387\u001b[0m         fname: \u001b[38;5;28mstr\u001b[39m \u001b[38;5;241m|\u001b[39m pathlib\u001b[38;5;241m.\u001b[39mPath \u001b[38;5;241m|\u001b[39m BinaryIO, \u001b[38;5;28mformat\u001b[39m: \u001b[38;5;28mstr\u001b[39m \u001b[38;5;241m|\u001b[39m \u001b[38;5;28;01mNone\u001b[39;00m \u001b[38;5;241m=\u001b[39m \u001b[38;5;28;01mNone\u001b[39;00m\n\u001b[1;32m   2388\u001b[0m ) \u001b[38;5;241m-\u001b[39m\u001b[38;5;241m>\u001b[39m np\u001b[38;5;241m.\u001b[39mndarray:\n\u001b[0;32m-> 2389\u001b[0m     \u001b[38;5;28;01mreturn\u001b[39;00m matplotlib\u001b[38;5;241m.\u001b[39mimage\u001b[38;5;241m.\u001b[39mimread(fname, \u001b[38;5;28mformat\u001b[39m)\n",
      "File \u001b[0;32m/opt/anaconda3/lib/python3.11/site-packages/matplotlib/image.py:1525\u001b[0m, in \u001b[0;36mimread\u001b[0;34m(fname, format)\u001b[0m\n\u001b[1;32m   1518\u001b[0m \u001b[38;5;28;01mif\u001b[39;00m \u001b[38;5;28misinstance\u001b[39m(fname, \u001b[38;5;28mstr\u001b[39m) \u001b[38;5;129;01mand\u001b[39;00m \u001b[38;5;28mlen\u001b[39m(parse\u001b[38;5;241m.\u001b[39murlparse(fname)\u001b[38;5;241m.\u001b[39mscheme) \u001b[38;5;241m>\u001b[39m \u001b[38;5;241m1\u001b[39m:\n\u001b[1;32m   1519\u001b[0m     \u001b[38;5;66;03m# Pillow doesn't handle URLs directly.\u001b[39;00m\n\u001b[1;32m   1520\u001b[0m     \u001b[38;5;28;01mraise\u001b[39;00m \u001b[38;5;167;01mValueError\u001b[39;00m(\n\u001b[1;32m   1521\u001b[0m         \u001b[38;5;124m\"\u001b[39m\u001b[38;5;124mPlease open the URL for reading and pass the \u001b[39m\u001b[38;5;124m\"\u001b[39m\n\u001b[1;32m   1522\u001b[0m         \u001b[38;5;124m\"\u001b[39m\u001b[38;5;124mresult to Pillow, e.g. with \u001b[39m\u001b[38;5;124m\"\u001b[39m\n\u001b[1;32m   1523\u001b[0m         \u001b[38;5;124m\"\u001b[39m\u001b[38;5;124m``np.array(PIL.Image.open(urllib.request.urlopen(url)))``.\u001b[39m\u001b[38;5;124m\"\u001b[39m\n\u001b[1;32m   1524\u001b[0m         )\n\u001b[0;32m-> 1525\u001b[0m \u001b[38;5;28;01mwith\u001b[39;00m img_open(fname) \u001b[38;5;28;01mas\u001b[39;00m image:\n\u001b[1;32m   1526\u001b[0m     \u001b[38;5;28;01mreturn\u001b[39;00m (_pil_png_to_float_array(image)\n\u001b[1;32m   1527\u001b[0m             \u001b[38;5;28;01mif\u001b[39;00m \u001b[38;5;28misinstance\u001b[39m(image, PIL\u001b[38;5;241m.\u001b[39mPngImagePlugin\u001b[38;5;241m.\u001b[39mPngImageFile) \u001b[38;5;28;01melse\u001b[39;00m\n\u001b[1;32m   1528\u001b[0m             pil_to_array(image))\n",
      "File \u001b[0;32m/opt/anaconda3/lib/python3.11/site-packages/PIL/ImageFile.py:125\u001b[0m, in \u001b[0;36mImageFile.__init__\u001b[0;34m(self, fp, filename)\u001b[0m\n\u001b[1;32m    121\u001b[0m \u001b[38;5;28mself\u001b[39m\u001b[38;5;241m.\u001b[39mdecodermaxblock \u001b[38;5;241m=\u001b[39m MAXBLOCK\n\u001b[1;32m    123\u001b[0m \u001b[38;5;28;01mif\u001b[39;00m is_path(fp):\n\u001b[1;32m    124\u001b[0m     \u001b[38;5;66;03m# filename\u001b[39;00m\n\u001b[0;32m--> 125\u001b[0m     \u001b[38;5;28mself\u001b[39m\u001b[38;5;241m.\u001b[39mfp \u001b[38;5;241m=\u001b[39m \u001b[38;5;28mopen\u001b[39m(fp, \u001b[38;5;124m\"\u001b[39m\u001b[38;5;124mrb\u001b[39m\u001b[38;5;124m\"\u001b[39m)\n\u001b[1;32m    126\u001b[0m     \u001b[38;5;28mself\u001b[39m\u001b[38;5;241m.\u001b[39mfilename \u001b[38;5;241m=\u001b[39m fp\n\u001b[1;32m    127\u001b[0m     \u001b[38;5;28mself\u001b[39m\u001b[38;5;241m.\u001b[39m_exclusive_fp \u001b[38;5;241m=\u001b[39m \u001b[38;5;28;01mTrue\u001b[39;00m\n",
      "\u001b[0;31mFileNotFoundError\u001b[0m: [Errno 2] No such file or directory: 'topic_modeling.png'"
     ]
    },
    {
     "data": {
      "image/png": "[encoded data removed]",
      "text/plain": [
       "<Figure size 1200x400 with 1 Axes>"
      ]
     },
     "metadata": {},
     "output_type": "display_data"
    }
   ],
   "source": [
    "import pandas as pd\n",
    "import matplotlib.pyplot as plt\n",
    "from matplotlib.offsetbox import OffsetImage, AnnotationBbox\n",
    "\n",
    "data = pd.read_csv('British_Airways_dataset Skytrax.csv')\n",
    "\n",
    "\n",
    "# Categorize the ratings\n",
    "def categorize_rating(rating):\n",
    "    if rating >= 4:\n",
    "        return 'Positive'\n",
    "    elif rating == 3:\n",
    "        return 'Neutral'\n",
    "    else:\n",
    "        return 'Negative'\n",
    "\n",
    "data['rating_category'] = data['rating'].apply(categorize_rating)\n",
    "\n",
    "# Count the occurrences of each category\n",
    "rating_counts = data['rating_category'].value_counts()\n",
    "\n",
    "# Create a pie chart for rating distribution\n",
    "plt.figure(figsize=(8, 8))\n",
    "plt.pie(rating_counts, labels=rating_counts.index, autopct='%1.1f%%', startangle=140, colors=['#66b3ff','#ffcc99','#99ff99'])\n",
    "plt.title('Distribution of Ratings')\n",
    "plt.axis('equal')  # Equal aspect ratio ensures that pie is drawn as a circle.\n",
    "plt.show()\n",
    "\n",
    "# Segmented histogram for rating distribution by traveller type\n",
    "plt.figure(figsize=(12, 6))\n",
    "traveller_types = data['traveller_type'].unique()\n",
    "for traveller_type in traveller_types:\n",
    "    subset = data[data['traveller_type'] == traveller_type]\n",
    "    plt.hist(subset['rating'], bins=5, alpha=0.5, label=traveller_type)\n",
    "\n",
    "plt.title('Distribution of Ratings by Traveller Type')\n",
    "plt.xlabel('Rating')\n",
    "plt.ylabel('Frequency')\n",
    "plt.legend(title='Traveller Type')\n",
    "plt.show()\n",
    "\n",
    "# Segmented histogram for rating distribution by cabin class\n",
    "plt.figure(figsize=(12, 6))\n",
    "cabin_classes = data['seat_type'].unique()\n",
    "for cabin_class in cabin_classes:\n",
    "    subset = data[data['seat_type'] == cabin_class]\n",
    "    plt.hist(subset['rating'], bins=5, alpha=0.5, label=cabin_class)\n",
    "\n",
    "plt.title('Distribution of Ratings by Cabin Class')\n",
    "plt.xlabel('Rating')\n",
    "plt.ylabel('Frequency')\n",
    "plt.legend(title='Cabin Class')\n",
    "plt.show()\n",
    "\n",
    "# Function to display an image icon\n",
    "def get_image(path):\n",
    "    return OffsetImage(plt.imread(path), zoom=0.1)\n",
    "\n",
    "# Create a figure for the next steps with icons\n",
    "fig, ax = plt.subplots(figsize=(12, 4))\n",
    "\n",
    "# Hide axes\n",
    "ax.axis('off')\n",
    "\n",
    "# Add text and icons for each next step\n",
    "steps = [\n",
    "    (\"Topic Modeling\", \"topic_modeling.png\"),\n",
    "    (\"Competitor Analysis\", \"competitor_analysis.png\"),\n",
    "    (\"Customer Feedback Investigation\", \"customer_feedback.png\")\n",
    "]\n",
    "\n",
    "# Define positions for icons and text\n",
    "x_positions = [0.2, 0.5, 0.8]\n",
    "for (step, image_path), x in zip(steps, x_positions):\n",
    "    ab = AnnotationBbox(get_image(image_path), (x, 0.5), frameon=False)\n",
    "    ax.add_artist(ab)\n",
    "    ax.text(x, 0.3, step, ha='center', va='center', fontsize=12)\n",
    "\n",
    "plt.title('Next Steps')\n",
    "plt.show()\n"
   ]
  },
  {
   "cell_type": "code",
   "execution_count": null,
   "id": "ae0c8ac2-9a6d-44ae-85da-d724d4d9f6d9",
   "metadata": {},
   "outputs": [],
   "source": []
  }
 ],
 "metadata": {
  "kernelspec": {
   "display_name": "Python 3 (ipykernel)",
   "language": "python",
   "name": "python3"
  },
  "language_info": {
   "codemirror_mode": {
    "name": "ipython",
    "version": 3
   },
   "file_extension": ".py",
   "mimetype": "text/x-python",
   "name": "python",
   "nbconvert_exporter": "python",
   "pygments_lexer": "ipython3",
   "version": "3.11.7"
  },
  "widgets": {
   "application/vnd.jupyter.widget-state+json": {
    "state": {},
    "version_major": 2,
    "version_minor": 0
   }
  }
 },
 "nbformat": 4,
 "nbformat_minor": 5
}
